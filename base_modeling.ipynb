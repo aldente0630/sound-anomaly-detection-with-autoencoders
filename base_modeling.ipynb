{
 "cells": [
  {
   "cell_type": "code",
   "execution_count": 1,
   "id": "971a139b-8ce8-4d1f-b541-72e24416a053",
   "metadata": {},
   "outputs": [],
   "source": [
    "%load_ext autoreload\n",
    "%autoreload 2"
   ]
  },
  {
   "cell_type": "code",
   "execution_count": 2,
   "id": "1adaaa23-5bd7-423c-a9ee-68f5b6783118",
   "metadata": {},
   "outputs": [
    {
     "data": {
      "text/html": [
       "\n",
       "    <div class=\"bk-root\">\n",
       "        <a href=\"https://bokeh.org\" target=\"_blank\" class=\"bk-logo bk-logo-small bk-logo-notebook\"></a>\n",
       "        <span id=\"1002\">Loading BokehJS ...</span>\n",
       "    </div>"
      ]
     },
     "metadata": {},
     "output_type": "display_data"
    },
    {
     "data": {
      "application/javascript": [
       "\n",
       "(function(root) {\n",
       "  function now() {\n",
       "    return new Date();\n",
       "  }\n",
       "\n",
       "  var force = true;\n",
       "\n",
       "  if (typeof root._bokeh_onload_callbacks === \"undefined\" || force === true) {\n",
       "    root._bokeh_onload_callbacks = [];\n",
       "    root._bokeh_is_loading = undefined;\n",
       "  }\n",
       "\n",
       "  var JS_MIME_TYPE = 'application/javascript';\n",
       "  var HTML_MIME_TYPE = 'text/html';\n",
       "  var EXEC_MIME_TYPE = 'application/vnd.bokehjs_exec.v0+json';\n",
       "  var CLASS_NAME = 'output_bokeh rendered_html';\n",
       "\n",
       "  /**\n",
       "   * Render data to the DOM node\n",
       "   */\n",
       "  function render(props, node) {\n",
       "    var script = document.createElement(\"script\");\n",
       "    node.appendChild(script);\n",
       "  }\n",
       "\n",
       "  /**\n",
       "   * Handle when an output is cleared or removed\n",
       "   */\n",
       "  function handleClearOutput(event, handle) {\n",
       "    var cell = handle.cell;\n",
       "\n",
       "    var id = cell.output_area._bokeh_element_id;\n",
       "    var server_id = cell.output_area._bokeh_server_id;\n",
       "    // Clean up Bokeh references\n",
       "    if (id != null && id in Bokeh.index) {\n",
       "      Bokeh.index[id].model.document.clear();\n",
       "      delete Bokeh.index[id];\n",
       "    }\n",
       "\n",
       "    if (server_id !== undefined) {\n",
       "      // Clean up Bokeh references\n",
       "      var cmd = \"from bokeh.io.state import curstate; print(curstate().uuid_to_server['\" + server_id + \"'].get_sessions()[0].document.roots[0]._id)\";\n",
       "      cell.notebook.kernel.execute(cmd, {\n",
       "        iopub: {\n",
       "          output: function(msg) {\n",
       "            var id = msg.content.text.trim();\n",
       "            if (id in Bokeh.index) {\n",
       "              Bokeh.index[id].model.document.clear();\n",
       "              delete Bokeh.index[id];\n",
       "            }\n",
       "          }\n",
       "        }\n",
       "      });\n",
       "      // Destroy server and session\n",
       "      var cmd = \"import bokeh.io.notebook as ion; ion.destroy_server('\" + server_id + \"')\";\n",
       "      cell.notebook.kernel.execute(cmd);\n",
       "    }\n",
       "  }\n",
       "\n",
       "  /**\n",
       "   * Handle when a new output is added\n",
       "   */\n",
       "  function handleAddOutput(event, handle) {\n",
       "    var output_area = handle.output_area;\n",
       "    var output = handle.output;\n",
       "\n",
       "    // limit handleAddOutput to display_data with EXEC_MIME_TYPE content only\n",
       "    if ((output.output_type != \"display_data\") || (!Object.prototype.hasOwnProperty.call(output.data, EXEC_MIME_TYPE))) {\n",
       "      return\n",
       "    }\n",
       "\n",
       "    var toinsert = output_area.element.find(\".\" + CLASS_NAME.split(' ')[0]);\n",
       "\n",
       "    if (output.metadata[EXEC_MIME_TYPE][\"id\"] !== undefined) {\n",
       "      toinsert[toinsert.length - 1].firstChild.textContent = output.data[JS_MIME_TYPE];\n",
       "      // store reference to embed id on output_area\n",
       "      output_area._bokeh_element_id = output.metadata[EXEC_MIME_TYPE][\"id\"];\n",
       "    }\n",
       "    if (output.metadata[EXEC_MIME_TYPE][\"server_id\"] !== undefined) {\n",
       "      var bk_div = document.createElement(\"div\");\n",
       "      bk_div.innerHTML = output.data[HTML_MIME_TYPE];\n",
       "      var script_attrs = bk_div.children[0].attributes;\n",
       "      for (var i = 0; i < script_attrs.length; i++) {\n",
       "        toinsert[toinsert.length - 1].firstChild.setAttribute(script_attrs[i].name, script_attrs[i].value);\n",
       "        toinsert[toinsert.length - 1].firstChild.textContent = bk_div.children[0].textContent\n",
       "      }\n",
       "      // store reference to server id on output_area\n",
       "      output_area._bokeh_server_id = output.metadata[EXEC_MIME_TYPE][\"server_id\"];\n",
       "    }\n",
       "  }\n",
       "\n",
       "  function register_renderer(events, OutputArea) {\n",
       "\n",
       "    function append_mime(data, metadata, element) {\n",
       "      // create a DOM node to render to\n",
       "      var toinsert = this.create_output_subarea(\n",
       "        metadata,\n",
       "        CLASS_NAME,\n",
       "        EXEC_MIME_TYPE\n",
       "      );\n",
       "      this.keyboard_manager.register_events(toinsert);\n",
       "      // Render to node\n",
       "      var props = {data: data, metadata: metadata[EXEC_MIME_TYPE]};\n",
       "      render(props, toinsert[toinsert.length - 1]);\n",
       "      element.append(toinsert);\n",
       "      return toinsert\n",
       "    }\n",
       "\n",
       "    /* Handle when an output is cleared or removed */\n",
       "    events.on('clear_output.CodeCell', handleClearOutput);\n",
       "    events.on('delete.Cell', handleClearOutput);\n",
       "\n",
       "    /* Handle when a new output is added */\n",
       "    events.on('output_added.OutputArea', handleAddOutput);\n",
       "\n",
       "    /**\n",
       "     * Register the mime type and append_mime function with output_area\n",
       "     */\n",
       "    OutputArea.prototype.register_mime_type(EXEC_MIME_TYPE, append_mime, {\n",
       "      /* Is output safe? */\n",
       "      safe: true,\n",
       "      /* Index of renderer in `output_area.display_order` */\n",
       "      index: 0\n",
       "    });\n",
       "  }\n",
       "\n",
       "  // register the mime type if in Jupyter Notebook environment and previously unregistered\n",
       "  if (root.Jupyter !== undefined) {\n",
       "    var events = require('base/js/events');\n",
       "    var OutputArea = require('notebook/js/outputarea').OutputArea;\n",
       "\n",
       "    if (OutputArea.prototype.mime_types().indexOf(EXEC_MIME_TYPE) == -1) {\n",
       "      register_renderer(events, OutputArea);\n",
       "    }\n",
       "  }\n",
       "\n",
       "  \n",
       "  if (typeof (root._bokeh_timeout) === \"undefined\" || force === true) {\n",
       "    root._bokeh_timeout = Date.now() + 5000;\n",
       "    root._bokeh_failed_load = false;\n",
       "  }\n",
       "\n",
       "  var NB_LOAD_WARNING = {'data': {'text/html':\n",
       "     \"<div style='background-color: #fdd'>\\n\"+\n",
       "     \"<p>\\n\"+\n",
       "     \"BokehJS does not appear to have successfully loaded. If loading BokehJS from CDN, this \\n\"+\n",
       "     \"may be due to a slow or bad network connection. Possible fixes:\\n\"+\n",
       "     \"</p>\\n\"+\n",
       "     \"<ul>\\n\"+\n",
       "     \"<li>re-rerun `output_notebook()` to attempt to load from CDN again, or</li>\\n\"+\n",
       "     \"<li>use INLINE resources instead, as so:</li>\\n\"+\n",
       "     \"</ul>\\n\"+\n",
       "     \"<code>\\n\"+\n",
       "     \"from bokeh.resources import INLINE\\n\"+\n",
       "     \"output_notebook(resources=INLINE)\\n\"+\n",
       "     \"</code>\\n\"+\n",
       "     \"</div>\"}};\n",
       "\n",
       "  function display_loaded() {\n",
       "    var el = document.getElementById(\"1002\");\n",
       "    if (el != null) {\n",
       "      el.textContent = \"BokehJS is loading...\";\n",
       "    }\n",
       "    if (root.Bokeh !== undefined) {\n",
       "      if (el != null) {\n",
       "        el.textContent = \"BokehJS \" + root.Bokeh.version + \" successfully loaded.\";\n",
       "      }\n",
       "    } else if (Date.now() < root._bokeh_timeout) {\n",
       "      setTimeout(display_loaded, 100)\n",
       "    }\n",
       "  }\n",
       "\n",
       "\n",
       "  function run_callbacks() {\n",
       "    try {\n",
       "      root._bokeh_onload_callbacks.forEach(function(callback) {\n",
       "        if (callback != null)\n",
       "          callback();\n",
       "      });\n",
       "    } finally {\n",
       "      delete root._bokeh_onload_callbacks\n",
       "    }\n",
       "    console.debug(\"Bokeh: all callbacks have finished\");\n",
       "  }\n",
       "\n",
       "  function load_libs(css_urls, js_urls, callback) {\n",
       "    if (css_urls == null) css_urls = [];\n",
       "    if (js_urls == null) js_urls = [];\n",
       "\n",
       "    root._bokeh_onload_callbacks.push(callback);\n",
       "    if (root._bokeh_is_loading > 0) {\n",
       "      console.debug(\"Bokeh: BokehJS is being loaded, scheduling callback at\", now());\n",
       "      return null;\n",
       "    }\n",
       "    if (js_urls == null || js_urls.length === 0) {\n",
       "      run_callbacks();\n",
       "      return null;\n",
       "    }\n",
       "    console.debug(\"Bokeh: BokehJS not loaded, scheduling load and callback at\", now());\n",
       "    root._bokeh_is_loading = css_urls.length + js_urls.length;\n",
       "\n",
       "    function on_load() {\n",
       "      root._bokeh_is_loading--;\n",
       "      if (root._bokeh_is_loading === 0) {\n",
       "        console.debug(\"Bokeh: all BokehJS libraries/stylesheets loaded\");\n",
       "        run_callbacks()\n",
       "      }\n",
       "    }\n",
       "\n",
       "    function on_error(url) {\n",
       "      console.error(\"failed to load \" + url);\n",
       "    }\n",
       "\n",
       "    for (let i = 0; i < css_urls.length; i++) {\n",
       "      const url = css_urls[i];\n",
       "      const element = document.createElement(\"link\");\n",
       "      element.onload = on_load;\n",
       "      element.onerror = on_error.bind(null, url);\n",
       "      element.rel = \"stylesheet\";\n",
       "      element.type = \"text/css\";\n",
       "      element.href = url;\n",
       "      console.debug(\"Bokeh: injecting link tag for BokehJS stylesheet: \", url);\n",
       "      document.body.appendChild(element);\n",
       "    }\n",
       "\n",
       "    const hashes = {\"https://cdn.bokeh.org/bokeh/release/bokeh-2.3.2.min.js\": \"XypntL49z55iwGVUW4qsEu83zKL3XEcz0MjuGOQ9SlaaQ68X/g+k1FcioZi7oQAc\", \"https://cdn.bokeh.org/bokeh/release/bokeh-tables-2.3.2.min.js\": \"bEsM86IHGDTLCS0Zod8a8WM6Y4+lafAL/eSiyQcuPzinmWNgNO2/olUF0Z2Dkn5i\", \"https://cdn.bokeh.org/bokeh/release/bokeh-widgets-2.3.2.min.js\": \"TX0gSQTdXTTeScqxj6PVQxTiRW8DOoGVwinyi1D3kxv7wuxQ02XkOxv0xwiypcAH\"};\n",
       "\n",
       "    for (let i = 0; i < js_urls.length; i++) {\n",
       "      const url = js_urls[i];\n",
       "      const element = document.createElement('script');\n",
       "      element.onload = on_load;\n",
       "      element.onerror = on_error.bind(null, url);\n",
       "      element.async = false;\n",
       "      element.src = url;\n",
       "      if (url in hashes) {\n",
       "        element.crossOrigin = \"anonymous\";\n",
       "        element.integrity = \"sha384-\" + hashes[url];\n",
       "      }\n",
       "      console.debug(\"Bokeh: injecting script tag for BokehJS library: \", url);\n",
       "      document.head.appendChild(element);\n",
       "    }\n",
       "  };\n",
       "\n",
       "  function inject_raw_css(css) {\n",
       "    const element = document.createElement(\"style\");\n",
       "    element.appendChild(document.createTextNode(css));\n",
       "    document.body.appendChild(element);\n",
       "  }\n",
       "\n",
       "  \n",
       "  var js_urls = [\"https://cdn.bokeh.org/bokeh/release/bokeh-2.3.2.min.js\", \"https://cdn.bokeh.org/bokeh/release/bokeh-widgets-2.3.2.min.js\", \"https://cdn.bokeh.org/bokeh/release/bokeh-tables-2.3.2.min.js\"];\n",
       "  var css_urls = [];\n",
       "  \n",
       "\n",
       "  var inline_js = [\n",
       "    function(Bokeh) {\n",
       "      Bokeh.set_log_level(\"info\");\n",
       "    },\n",
       "    function(Bokeh) {\n",
       "    \n",
       "    \n",
       "    }\n",
       "  ];\n",
       "\n",
       "  function run_inline_js() {\n",
       "    \n",
       "    if (root.Bokeh !== undefined || force === true) {\n",
       "      \n",
       "    for (var i = 0; i < inline_js.length; i++) {\n",
       "      inline_js[i].call(root, root.Bokeh);\n",
       "    }\n",
       "    if (force === true) {\n",
       "        display_loaded();\n",
       "      }} else if (Date.now() < root._bokeh_timeout) {\n",
       "      setTimeout(run_inline_js, 100);\n",
       "    } else if (!root._bokeh_failed_load) {\n",
       "      console.log(\"Bokeh: BokehJS failed to load within specified timeout.\");\n",
       "      root._bokeh_failed_load = true;\n",
       "    } else if (force !== true) {\n",
       "      var cell = $(document.getElementById(\"1002\")).parents('.cell').data().cell;\n",
       "      cell.output_area.append_execute_result(NB_LOAD_WARNING)\n",
       "    }\n",
       "\n",
       "  }\n",
       "\n",
       "  if (root._bokeh_is_loading === 0) {\n",
       "    console.debug(\"Bokeh: BokehJS loaded, going straight to plotting\");\n",
       "    run_inline_js();\n",
       "  } else {\n",
       "    load_libs(css_urls, js_urls, function() {\n",
       "      console.debug(\"Bokeh: BokehJS plotting callback run at\", now());\n",
       "      run_inline_js();\n",
       "    });\n",
       "  }\n",
       "}(window));"
      ],
      "application/vnd.bokehjs_load.v0+json": "\n(function(root) {\n  function now() {\n    return new Date();\n  }\n\n  var force = true;\n\n  if (typeof root._bokeh_onload_callbacks === \"undefined\" || force === true) {\n    root._bokeh_onload_callbacks = [];\n    root._bokeh_is_loading = undefined;\n  }\n\n  \n\n  \n  if (typeof (root._bokeh_timeout) === \"undefined\" || force === true) {\n    root._bokeh_timeout = Date.now() + 5000;\n    root._bokeh_failed_load = false;\n  }\n\n  var NB_LOAD_WARNING = {'data': {'text/html':\n     \"<div style='background-color: #fdd'>\\n\"+\n     \"<p>\\n\"+\n     \"BokehJS does not appear to have successfully loaded. If loading BokehJS from CDN, this \\n\"+\n     \"may be due to a slow or bad network connection. Possible fixes:\\n\"+\n     \"</p>\\n\"+\n     \"<ul>\\n\"+\n     \"<li>re-rerun `output_notebook()` to attempt to load from CDN again, or</li>\\n\"+\n     \"<li>use INLINE resources instead, as so:</li>\\n\"+\n     \"</ul>\\n\"+\n     \"<code>\\n\"+\n     \"from bokeh.resources import INLINE\\n\"+\n     \"output_notebook(resources=INLINE)\\n\"+\n     \"</code>\\n\"+\n     \"</div>\"}};\n\n  function display_loaded() {\n    var el = document.getElementById(\"1002\");\n    if (el != null) {\n      el.textContent = \"BokehJS is loading...\";\n    }\n    if (root.Bokeh !== undefined) {\n      if (el != null) {\n        el.textContent = \"BokehJS \" + root.Bokeh.version + \" successfully loaded.\";\n      }\n    } else if (Date.now() < root._bokeh_timeout) {\n      setTimeout(display_loaded, 100)\n    }\n  }\n\n\n  function run_callbacks() {\n    try {\n      root._bokeh_onload_callbacks.forEach(function(callback) {\n        if (callback != null)\n          callback();\n      });\n    } finally {\n      delete root._bokeh_onload_callbacks\n    }\n    console.debug(\"Bokeh: all callbacks have finished\");\n  }\n\n  function load_libs(css_urls, js_urls, callback) {\n    if (css_urls == null) css_urls = [];\n    if (js_urls == null) js_urls = [];\n\n    root._bokeh_onload_callbacks.push(callback);\n    if (root._bokeh_is_loading > 0) {\n      console.debug(\"Bokeh: BokehJS is being loaded, scheduling callback at\", now());\n      return null;\n    }\n    if (js_urls == null || js_urls.length === 0) {\n      run_callbacks();\n      return null;\n    }\n    console.debug(\"Bokeh: BokehJS not loaded, scheduling load and callback at\", now());\n    root._bokeh_is_loading = css_urls.length + js_urls.length;\n\n    function on_load() {\n      root._bokeh_is_loading--;\n      if (root._bokeh_is_loading === 0) {\n        console.debug(\"Bokeh: all BokehJS libraries/stylesheets loaded\");\n        run_callbacks()\n      }\n    }\n\n    function on_error(url) {\n      console.error(\"failed to load \" + url);\n    }\n\n    for (let i = 0; i < css_urls.length; i++) {\n      const url = css_urls[i];\n      const element = document.createElement(\"link\");\n      element.onload = on_load;\n      element.onerror = on_error.bind(null, url);\n      element.rel = \"stylesheet\";\n      element.type = \"text/css\";\n      element.href = url;\n      console.debug(\"Bokeh: injecting link tag for BokehJS stylesheet: \", url);\n      document.body.appendChild(element);\n    }\n\n    const hashes = {\"https://cdn.bokeh.org/bokeh/release/bokeh-2.3.2.min.js\": \"XypntL49z55iwGVUW4qsEu83zKL3XEcz0MjuGOQ9SlaaQ68X/g+k1FcioZi7oQAc\", \"https://cdn.bokeh.org/bokeh/release/bokeh-tables-2.3.2.min.js\": \"bEsM86IHGDTLCS0Zod8a8WM6Y4+lafAL/eSiyQcuPzinmWNgNO2/olUF0Z2Dkn5i\", \"https://cdn.bokeh.org/bokeh/release/bokeh-widgets-2.3.2.min.js\": \"TX0gSQTdXTTeScqxj6PVQxTiRW8DOoGVwinyi1D3kxv7wuxQ02XkOxv0xwiypcAH\"};\n\n    for (let i = 0; i < js_urls.length; i++) {\n      const url = js_urls[i];\n      const element = document.createElement('script');\n      element.onload = on_load;\n      element.onerror = on_error.bind(null, url);\n      element.async = false;\n      element.src = url;\n      if (url in hashes) {\n        element.crossOrigin = \"anonymous\";\n        element.integrity = \"sha384-\" + hashes[url];\n      }\n      console.debug(\"Bokeh: injecting script tag for BokehJS library: \", url);\n      document.head.appendChild(element);\n    }\n  };\n\n  function inject_raw_css(css) {\n    const element = document.createElement(\"style\");\n    element.appendChild(document.createTextNode(css));\n    document.body.appendChild(element);\n  }\n\n  \n  var js_urls = [\"https://cdn.bokeh.org/bokeh/release/bokeh-2.3.2.min.js\", \"https://cdn.bokeh.org/bokeh/release/bokeh-widgets-2.3.2.min.js\", \"https://cdn.bokeh.org/bokeh/release/bokeh-tables-2.3.2.min.js\"];\n  var css_urls = [];\n  \n\n  var inline_js = [\n    function(Bokeh) {\n      Bokeh.set_log_level(\"info\");\n    },\n    function(Bokeh) {\n    \n    \n    }\n  ];\n\n  function run_inline_js() {\n    \n    if (root.Bokeh !== undefined || force === true) {\n      \n    for (var i = 0; i < inline_js.length; i++) {\n      inline_js[i].call(root, root.Bokeh);\n    }\n    if (force === true) {\n        display_loaded();\n      }} else if (Date.now() < root._bokeh_timeout) {\n      setTimeout(run_inline_js, 100);\n    } else if (!root._bokeh_failed_load) {\n      console.log(\"Bokeh: BokehJS failed to load within specified timeout.\");\n      root._bokeh_failed_load = true;\n    } else if (force !== true) {\n      var cell = $(document.getElementById(\"1002\")).parents('.cell').data().cell;\n      cell.output_area.append_execute_result(NB_LOAD_WARNING)\n    }\n\n  }\n\n  if (root._bokeh_is_loading === 0) {\n    console.debug(\"Bokeh: BokehJS loaded, going straight to plotting\");\n    run_inline_js();\n  } else {\n    load_libs(css_urls, js_urls, function() {\n      console.debug(\"Bokeh: BokehJS plotting callback run at\", now());\n      run_inline_js();\n    });\n  }\n}(window));"
     },
     "metadata": {},
     "output_type": "display_data"
    }
   ],
   "source": [
    "import glob\n",
    "import os\n",
    "import warnings\n",
    "import numpy as np\n",
    "from bokeh.io import export_svgs, output_notebook\n",
    "from bokeh.models import BoxAnnotation, ColumnDataSource, HoverTool\n",
    "from bokeh.plotting import figure, show\n",
    "from sklearn.metrics import (\n",
    "    accuracy_score,\n",
    "    confusion_matrix,\n",
    "    f1_score,\n",
    "    precision_score,\n",
    "    recall_score,\n",
    "    average_precision_score,\n",
    "    precision_recall_curve,\n",
    "    roc_auc_score,\n",
    "    roc_curve,\n",
    ")\n",
    "from sklearn.model_selection import train_test_split\n",
    "from tqdm.notebook import tqdm\n",
    "from utils.measuring_performance import (\n",
    "    get_prediction,\n",
    "    plot_confusion_matrix,\n",
    "    plot_histogram_by_class,\n",
    "    plot_loss_per_epoch,\n",
    "    plot_pr_curve,\n",
    "    plot_roc_curve,\n",
    ")\n",
    "from utils.misc import build_files_list, dump_pickle, load_pickle\n",
    "from utils.sound_utils import extract_signal_features, generate_dataset, load_sound_file\n",
    "\n",
    "output_notebook()\n",
    "warnings.filterwarnings(\"ignore\")\n",
    "np.random.seed(42)"
   ]
  },
  {
   "cell_type": "code",
   "execution_count": 3,
   "id": "3c27992c-448d-4fcb-82df-005cb6b01da1",
   "metadata": {},
   "outputs": [],
   "source": [
    "import tensorflow as tf\n",
    "from tensorflow.keras import Input\n",
    "from tensorflow.keras.callbacks import EarlyStopping\n",
    "from tensorflow.keras.layers import Dense\n",
    "from tensorflow.keras.models import Model\n",
    "from tensorflow.keras.optimizers import Adam\n",
    "from tensorflow.keras.utils import multi_gpu_model\n",
    "from tensorflow.python.client import device_lib\n",
    "\n",
    "tf.set_random_seed(42)"
   ]
  },
  {
   "cell_type": "code",
   "execution_count": 4,
   "id": "78552a56-23e4-4295-a178-b625ac2c4ab9",
   "metadata": {},
   "outputs": [],
   "source": [
    "def get_available_gpus():\n",
    "    local_devices = device_lib.list_local_devices()\n",
    "    return [x.name for x in local_devices if x.device_type == \"GPU\"]"
   ]
  },
  {
   "cell_type": "markdown",
   "id": "81ca7bdf-bbf5-48e8-8542-4bb028fd1094",
   "metadata": {},
   "source": [
    "The boolean variable `COMBINE_MACHINE_ID` allows you to decide whether to perform modeling separately for each machine ID, or combine all data from the same machine type to perform modeling."
   ]
  },
  {
   "cell_type": "code",
   "execution_count": 5,
   "id": "34adbb79",
   "metadata": {},
   "outputs": [],
   "source": [
    "DATA_PATH = \"../../data/mimii-anomaly-detection\"\n",
    "IMAGE_PATH = \"./img\"\n",
    "MODEL_PATH = \"./models\"\n",
    "MERGE_MACHINE_ID = True\n",
    "\n",
    "os.makedirs(os.path.join(DATA_PATH, \"dataset\"), exist_ok=True)\n",
    "os.makedirs(MODEL_PATH, exist_ok=True)\n",
    "\n",
    "file_paths = sorted(\n",
    "    glob.glob(DATA_PATH + \"/*/*\" if MERGE_MACHINE_ID else DATA_PATH + \"/*/*/*\")\n",
    ")"
   ]
  },
  {
   "cell_type": "markdown",
   "id": "6870f533-d3a3-4517-a965-3af32fe38f6f",
   "metadata": {},
   "source": [
    "# Data Splitting and Preprocessing"
   ]
  },
  {
   "cell_type": "code",
   "execution_count": 6,
   "id": "404129ca-a017-40f8-85b8-9a9244d561cd",
   "metadata": {},
   "outputs": [
    {
     "name": "stdout",
     "output_type": "stream",
     "text": [
      "db: 6dB, machine type: fan\n"
     ]
    }
   ],
   "source": [
    "file_path = file_paths[0]  # the first machine ID or machine type selected\n",
    "file_path_split = file_path.split(\"/\")\n",
    "SUFFIX = \"_\".join([\"\", file_path_split[-1], file_path_split[-2]])\n",
    "\n",
    "if MERGE_MACHINE_ID:\n",
    "    print(f\"db: {file_path_split[-2]}, machine type: {file_path_split[-1]}\")\n",
    "\n",
    "else:\n",
    "    print(\n",
    "        f\"db: {file_path_split[-3]}, machine type: {file_path_split[-2]}, machine id: {file_path_split[-1]}\"\n",
    "    )\n",
    "    SUFFIX = \"_\".join([SUFFIX, file_path_split[-3]])"
   ]
  },
  {
   "cell_type": "markdown",
   "id": "1d83bb51-93f6-4adf-a435-1916f9aa1c25",
   "metadata": {},
   "source": [
    "Because unsupervised learning is used, all anomalous labels are assigned to the test set."
   ]
  },
  {
   "cell_type": "code",
   "execution_count": 7,
   "id": "04fe076f-09a8-4e64-8716-e35fe88e66f1",
   "metadata": {},
   "outputs": [
    {
     "name": "stdout",
     "output_type": "stream",
     "text": [
      "Train set has 3260 signals including abnormal 0 signals, but test set has 2290 signals including abnormal 1475 signals.\n"
     ]
    }
   ],
   "source": [
    "normal_files, abnormal_files = build_files_list(root_dir=file_path)\n",
    "normal_labels = np.zeros(len(normal_files))\n",
    "abnormal_labels = np.ones(len(abnormal_files))\n",
    "\n",
    "train_files, test_files, train_labels, test_labels = train_test_split(\n",
    "    normal_files, normal_labels, train_size=0.8, random_state=42, shuffle=True\n",
    ")\n",
    "\n",
    "test_files = np.concatenate((test_files, abnormal_files), axis=0)\n",
    "test_labels = np.concatenate((test_labels, abnormal_labels), axis=0)\n",
    "\n",
    "test_indices = np.arange(len(test_files))\n",
    "np.random.shuffle(test_indices)\n",
    "\n",
    "test_files = test_files[test_indices]\n",
    "test_labels = test_labels[test_indices]\n",
    "\n",
    "print(\n",
    "    f\"Train set has {train_labels.shape[0]} signals including abnormal {train_labels.sum():.0f} signals, \\\n",
    "but test set has {test_labels.shape[0]} signals including abnormal {test_labels.sum():.0f} signals.\"\n",
    ")"
   ]
  },
  {
   "cell_type": "code",
   "execution_count": 8,
   "id": "9dd514d6-75e7-4199-8d90-3611f8f79934",
   "metadata": {},
   "outputs": [],
   "source": [
    "dataset = {\n",
    "    \"train_files\": train_files,\n",
    "    \"test_files\": test_files,\n",
    "    \"train_labels\": train_labels,\n",
    "    \"test_labels\": test_labels,\n",
    "}\n",
    "\n",
    "for key, values in dataset.items():\n",
    "    file_name = os.path.join(DATA_PATH, \"dataset\", key + SUFFIX + \".txt\")\n",
    "    with open(file_name, \"w\") as f:\n",
    "        for item in values:\n",
    "            f.write(str(item) + \"\\n\")"
   ]
  },
  {
   "cell_type": "code",
   "execution_count": 9,
   "id": "06251cae-d042-44cb-9590-eb71052a5a7f",
   "metadata": {},
   "outputs": [
    {
     "name": "stdout",
     "output_type": "stream",
     "text": [
      "Train data already exists, loading from file...\n",
      "Train data has a (1007340, 320) shape.\n"
     ]
    }
   ],
   "source": [
    "n_fft = 2048\n",
    "hop_length = 512\n",
    "n_mels = 64\n",
    "frames = 5\n",
    "\n",
    "train_data_path = os.path.join(DATA_PATH, \"dataset\", \"train_data\" + SUFFIX + \".pkl\")\n",
    "\n",
    "if os.path.exists(train_data_path):\n",
    "    print(\"Train data already exists, loading from file...\")\n",
    "    train_data = load_pickle(train_data_path)\n",
    "\n",
    "else:\n",
    "    train_data = generate_dataset(\n",
    "        train_files, n_fft=n_fft, hop_length=hop_length, n_mels=n_mels, frames=frames\n",
    "    )\n",
    "    print(\"Saving train data to disk...\")\n",
    "    dump_pickle(train_data_path, train_data)\n",
    "    print(\"Done.\")\n",
    "\n",
    "print(f\"Train data has a {train_data.shape} shape.\")"
   ]
  },
  {
   "cell_type": "markdown",
   "id": "6cfa3e40-6238-4a80-949a-d25f11c7c737",
   "metadata": {},
   "source": [
    "# Model Training and Prediction with AutoEncoder"
   ]
  },
  {
   "cell_type": "code",
   "execution_count": 10,
   "id": "d2c0bfa5-09cd-4a5c-930a-bfca91ed7143",
   "metadata": {},
   "outputs": [],
   "source": [
    "def autoencoder(input_dims, model_name=None):\n",
    "    input_layer = Input(shape=(input_dims,))\n",
    "    output = Dense(64, activation=\"relu\")(input_layer)\n",
    "    output = Dense(64, activation=\"relu\")(output)\n",
    "    output = Dense(8, activation=\"relu\")(output)\n",
    "    output = Dense(64, activation=\"relu\")(output)\n",
    "    output = Dense(64, activation=\"relu\")(output)\n",
    "    output = Dense(input_dims, activation=None)(output)\n",
    "\n",
    "    return Model(inputs=input_layer, outputs=output, name=model_name)"
   ]
  },
  {
   "cell_type": "code",
   "execution_count": 11,
   "id": "65806b41-edab-496a-94b2-abcf5c9b20e3",
   "metadata": {},
   "outputs": [
    {
     "name": "stdout",
     "output_type": "stream",
     "text": [
      "WARNING:tensorflow:From /Users/aldente0630/anaconda3/envs/mimii-anomaly-detection/lib/python3.7/site-packages/tensorflow/python/ops/init_ops.py:1251: calling VarianceScaling.__init__ (from tensorflow.python.ops.init_ops) with dtype is deprecated and will be removed in a future version.\n",
      "Instructions for updating:\n",
      "Call initializer instance with the dtype argument instead of passing it to the constructor\n",
      "Model: \"AutoEncoder\"\n",
      "_________________________________________________________________\n",
      "Layer (type)                 Output Shape              Param #   \n",
      "=================================================================\n",
      "input_1 (InputLayer)         [(None, 320)]             0         \n",
      "_________________________________________________________________\n",
      "dense (Dense)                (None, 64)                20544     \n",
      "_________________________________________________________________\n",
      "dense_1 (Dense)              (None, 64)                4160      \n",
      "_________________________________________________________________\n",
      "dense_2 (Dense)              (None, 8)                 520       \n",
      "_________________________________________________________________\n",
      "dense_3 (Dense)              (None, 64)                576       \n",
      "_________________________________________________________________\n",
      "dense_4 (Dense)              (None, 64)                4160      \n",
      "_________________________________________________________________\n",
      "dense_5 (Dense)              (None, 320)               20800     \n",
      "=================================================================\n",
      "Total params: 50,760\n",
      "Trainable params: 50,760\n",
      "Non-trainable params: 0\n",
      "_________________________________________________________________\n",
      "None\n"
     ]
    }
   ],
   "source": [
    "MODEL_NAME = \"AutoEncoder\"\n",
    "model = autoencoder(n_mels * frames, model_name=MODEL_NAME)\n",
    "print(model.summary())\n",
    "\n",
    "gpu_count = len(get_available_gpus())\n",
    "if gpu_count > 1:\n",
    "    model = multi_gpu_model(model, gpus=gpu_count)"
   ]
  },
  {
   "cell_type": "code",
   "execution_count": 12,
   "id": "0fe1f5bb-828e-406f-97de-9a2933417d69",
   "metadata": {},
   "outputs": [
    {
     "name": "stdout",
     "output_type": "stream",
     "text": [
      "CPU times: user 17min 16s, sys: 1min 49s, total: 19min 5s\n",
      "Wall time: 7min 57s\n"
     ]
    }
   ],
   "source": [
    "%%time\n",
    "batch_size = 512\n",
    "epochs = 200\n",
    "\n",
    "model.compile(\n",
    "    optimizer=Adam(learning_rate=1e-03),\n",
    "    loss=\"mean_squared_error\"\n",
    ")\n",
    "\n",
    "history = model.fit(\n",
    "    train_data,\n",
    "    train_data,\n",
    "    batch_size=batch_size,\n",
    "    epochs=epochs,\n",
    "    verbose=False,\n",
    "    callbacks=[EarlyStopping(monitor=\"val_loss\", patience=10)],\n",
    "    validation_split=0.1,\n",
    "    shuffle=True\n",
    ")\n",
    "\n",
    "model.save(os.path.join(MODEL_PATH, MODEL_NAME + SUFFIX + \".h5\"))"
   ]
  },
  {
   "cell_type": "code",
   "execution_count": 13,
   "id": "efec0991-d2b9-4369-8e2d-1bd2ecd3bbef",
   "metadata": {},
   "outputs": [
    {
     "data": {
      "text/html": [
       "\n",
       "\n",
       "\n",
       "\n",
       "\n",
       "\n",
       "  <div class=\"bk-root\" id=\"dea72dba-2437-43d2-8e27-4444d006d5fe\" data-root-id=\"1003\"></div>\n"
      ]
     },
     "metadata": {},
     "output_type": "display_data"
    },
    {
     "data": {
      "application/javascript": [
       "(function(root) {\n",
       "  function embed_document(root) {\n",
       "    \n",
       "  var docs_json = {\"246bfdf2-181f-4bd0-9011-b68a96183433\":{\"defs\":[],\"roots\":{\"references\":[{\"attributes\":{\"below\":[{\"id\":\"1014\"}],\"center\":[{\"id\":\"1017\"},{\"id\":\"1021\"},{\"id\":\"1052\"}],\"height\":400,\"left\":[{\"id\":\"1018\"}],\"renderers\":[{\"id\":\"1040\"},{\"id\":\"1057\"}],\"title\":{\"id\":\"1004\"},\"toolbar\":{\"id\":\"1029\"},\"x_range\":{\"id\":\"1006\"},\"x_scale\":{\"id\":\"1010\"},\"y_range\":{\"id\":\"1008\"},\"y_scale\":{\"id\":\"1012\"}},\"id\":\"1003\",\"subtype\":\"Figure\",\"type\":\"Plot\"},{\"attributes\":{\"source\":{\"id\":\"1036\"}},\"id\":\"1058\",\"type\":\"CDSView\"},{\"attributes\":{\"label\":{\"value\":\"Validation Loss\"},\"renderers\":[{\"id\":\"1057\"}]},\"id\":\"1069\",\"type\":\"LegendItem\"},{\"attributes\":{},\"id\":\"1006\",\"type\":\"DataRange1d\"},{\"attributes\":{},\"id\":\"1019\",\"type\":\"BasicTicker\"},{\"attributes\":{},\"id\":\"1049\",\"type\":\"UnionRenderers\"},{\"attributes\":{\"data\":{\"index\":[0,1,2,3,4,5,6,7,8,9,10,11,12,13,14,15,16,17,18,19,20,21,22,23,24,25,26,27,28,29,30,31,32,33,34,35,36,37,38,39,40,41,42,43,44,45,46,47,48,49,50,51,52,53,54,55,56,57,58,59,60,61,62,63,64,65,66,67,68,69,70,71,72,73,74,75,76,77,78,79,80,81,82,83,84,85,86,87,88,89,90,91,92,93,94,95,96,97,98,99,100,101,102,103,104,105,106,107,108,109,110,111,112],\"loss\":[12.890616941684184,4.156649667699168,4.034506867508434,3.8739492854150797,3.7735339218859227,3.709741939519869,3.6185388134650576,3.5327667949618355,3.485148094730883,3.434334510620332,3.398653936909753,3.3694343470097126,3.349609123849017,3.334467819351281,3.322698196319191,3.311513402088191,3.3021639634701043,3.294930982805575,3.287797344371202,3.2777457559724605,3.2687456684887306,3.2644268969379855,3.2593435141118157,3.254677178576466,3.250491573902394,3.2477918510144286,3.2433162379444656,3.240629797970845,3.236292260269749,3.231428401332273,3.2275195429982095,3.2239739192996324,3.221024898123198,3.2170595519714467,3.214972650920138,3.211782455072483,3.2089186271054313,3.2061633908494565,3.204128984933152,3.201465170598828,3.199233027149531,3.1958921570219463,3.1934893387529395,3.188956065547908,3.185532227604066,3.181952192105169,3.179310426988522,3.1760570320018835,3.173933471705266,3.17115715191146,3.169266312604591,3.16692283089246,3.165055277192391,3.162795955517221,3.161116603210255,3.159043946529164,3.15787722296034,3.155453799205625,3.154558637730871,3.1529719080489187,3.15096330665632,3.149541770423646,3.148384116447406,3.1470857442664086,3.145988106982953,3.1453049185558455,3.1438920071904697,3.1426527039528627,3.1414508967479615,3.1408863286073307,3.139122003120473,3.139229657222111,3.1378308972658866,3.137295636896202,3.1370318541921463,3.1351999761996705,3.134396991155642,3.1336317533137112,3.133307365502871,3.1316998953111366,3.13116027984231,3.13116091536589,3.1299348191699545,3.1288154762212517,3.1272427553905477,3.126652832759471,3.123833653867958,3.123972475269551,3.1218339760166227,3.120492613335595,3.119667890012683,3.1188328591980365,3.1179929535562243,3.1165191156360934,3.117249570680759,3.1146901073690767,3.114284648273223,3.113429140350404,3.111858999879607,3.112040518223789,3.1108214726975922,3.1091760139024704,3.1110376659207652,3.108997041666198,3.1097236035227027,3.108347295152949,3.106943298474325,3.106246949670691,3.108238243978702,3.1054759941809267,3.1059649708569754,3.1042240387047952,3.104323599046272],\"val_loss\":[4.1754116997823045,4.01878493222282,3.856395825759947,3.7563909811192238,3.669435908256805,3.6226599642818944,3.5318230690210948,3.520274190112005,3.4020335588701918,3.383043929620603,3.3480800146059395,3.3263313176934073,3.3129274518077017,3.3003161326862873,3.287238775404545,3.323600876638305,3.308860111674906,3.3278349075938056,3.2617868018111986,3.286504893376099,3.295647872003868,3.260429286212661,3.2374503795330978,3.2715342836955426,3.2373787424777234,3.2505306932913727,3.2336359390430562,3.247151122912213,3.232185539690036,3.2349876466756364,3.228142301049845,3.2136670854520655,3.2072150048655383,3.20668857327254,3.2116744029533066,3.2074234735135687,3.204555481856307,3.2076685764706885,3.2041862044895915,3.1970324908714045,3.203948516768261,3.188682515599363,3.185632907142164,3.1938298192911216,3.172254892311715,3.1778442876548705,3.1701330752867594,3.167879104202432,3.2049762450399273,3.169060293562651,3.189079173896369,3.165493277329289,3.1623980244689496,3.1663127871961034,3.1758944272905056,3.1590189129296986,3.162463696837451,3.158971036115042,3.169170509870211,3.1492377211519447,3.1507327170062145,3.142704383194699,3.168338384310575,3.145397339625136,3.155458457190609,3.149010599571922,3.1499091683711784,3.162996096075839,3.1352015291953155,3.148118634286138,3.144241391406566,3.140458529219935,3.1344346241558383,3.1461438168734674,3.1449130716906466,3.135922610147914,3.1403205305800026,3.1509250401101476,3.133147134437601,3.1318494434034045,3.1540115133709237,3.166632805126789,3.1330397417384046,3.1259846560739715,3.1266367476874555,3.148424790822783,3.1233534444414404,3.1350879566564425,3.128862520897985,3.123034211620622,3.13502226055827,3.1202030937750287,3.1224895132554353,3.1133730890856586,3.120236851965633,3.124755763897748,3.1200199013116863,3.167827204974234,3.1223104301765585,3.1360225955732814,3.1780865862978898,3.129447621733242,3.11053745915177,3.1181177287198594,3.1892756474205783,3.1132234831384786,3.1301149780575557,3.1162681120191364,3.111960345733527,3.113490810156091,3.114386510121914,3.1148027990199822,3.15192210455829]},\"selected\":{\"id\":\"1050\"},\"selection_policy\":{\"id\":\"1049\"}},\"id\":\"1036\",\"type\":\"ColumnDataSource\"},{\"attributes\":{\"line_alpha\":0.1,\"line_dash\":[2,4],\"x\":{\"field\":\"index\"},\"y\":{\"field\":\"loss\"}},\"id\":\"1039\",\"type\":\"Line\"},{\"attributes\":{\"data_source\":{\"id\":\"1036\"},\"glyph\":{\"id\":\"1055\"},\"hover_glyph\":null,\"muted_glyph\":null,\"nonselection_glyph\":{\"id\":\"1056\"},\"view\":{\"id\":\"1058\"}},\"id\":\"1057\",\"type\":\"GlyphRenderer\"},{\"attributes\":{\"bottom_units\":\"screen\",\"fill_alpha\":0.5,\"fill_color\":\"lightgrey\",\"left_units\":\"screen\",\"level\":\"overlay\",\"line_alpha\":1.0,\"line_color\":\"black\",\"line_dash\":[4,4],\"line_width\":2,\"right_units\":\"screen\",\"syncable\":false,\"top_units\":\"screen\"},\"id\":\"1028\",\"type\":\"BoxAnnotation\"},{\"attributes\":{\"align\":\"center\",\"text\":\"AutoEncoder: Loss per Epoch\",\"text_font_size\":\"12pt\"},\"id\":\"1004\",\"type\":\"Title\"},{\"attributes\":{},\"id\":\"1026\",\"type\":\"ResetTool\"},{\"attributes\":{},\"id\":\"1027\",\"type\":\"HelpTool\"},{\"attributes\":{\"axis_label\":\"Loss\",\"formatter\":{\"id\":\"1046\"},\"major_label_policy\":{\"id\":\"1048\"},\"ticker\":{\"id\":\"1019\"}},\"id\":\"1018\",\"type\":\"LinearAxis\"},{\"attributes\":{\"click_policy\":\"hide\",\"items\":[{\"id\":\"1053\"},{\"id\":\"1069\"}],\"label_text_font_size\":\"8pt\"},\"id\":\"1052\",\"type\":\"Legend\"},{\"attributes\":{},\"id\":\"1050\",\"type\":\"Selection\"},{\"attributes\":{\"label\":{\"value\":\"Training Loss\"},\"renderers\":[{\"id\":\"1040\"}]},\"id\":\"1053\",\"type\":\"LegendItem\"},{\"attributes\":{},\"id\":\"1048\",\"type\":\"AllLabels\"},{\"attributes\":{},\"id\":\"1043\",\"type\":\"BasicTickFormatter\"},{\"attributes\":{\"overlay\":{\"id\":\"1028\"}},\"id\":\"1024\",\"type\":\"BoxZoomTool\"},{\"attributes\":{},\"id\":\"1025\",\"type\":\"SaveTool\"},{\"attributes\":{},\"id\":\"1015\",\"type\":\"BasicTicker\"},{\"attributes\":{\"active_multi\":null,\"tools\":[{\"id\":\"1022\"},{\"id\":\"1023\"},{\"id\":\"1024\"},{\"id\":\"1025\"},{\"id\":\"1026\"},{\"id\":\"1027\"},{\"id\":\"1070\"}]},\"id\":\"1029\",\"type\":\"Toolbar\"},{\"attributes\":{},\"id\":\"1012\",\"type\":\"LinearScale\"},{\"attributes\":{},\"id\":\"1023\",\"type\":\"WheelZoomTool\"},{\"attributes\":{\"axis\":{\"id\":\"1018\"},\"dimension\":1,\"ticker\":null},\"id\":\"1021\",\"type\":\"Grid\"},{\"attributes\":{\"source\":{\"id\":\"1036\"}},\"id\":\"1041\",\"type\":\"CDSView\"},{\"attributes\":{\"line_alpha\":0.1,\"line_color\":\"coral\",\"line_width\":1.5,\"x\":{\"field\":\"index\"},\"y\":{\"field\":\"val_loss\"}},\"id\":\"1056\",\"type\":\"Line\"},{\"attributes\":{\"line_color\":\"coral\",\"line_width\":1.5,\"x\":{\"field\":\"index\"},\"y\":{\"field\":\"val_loss\"}},\"id\":\"1055\",\"type\":\"Line\"},{\"attributes\":{\"axis_label\":\"# Epochs\",\"formatter\":{\"id\":\"1043\"},\"major_label_policy\":{\"id\":\"1045\"},\"ticker\":{\"id\":\"1015\"}},\"id\":\"1014\",\"type\":\"LinearAxis\"},{\"attributes\":{\"data_source\":{\"id\":\"1036\"},\"glyph\":{\"id\":\"1038\"},\"hover_glyph\":null,\"muted_glyph\":null,\"nonselection_glyph\":{\"id\":\"1039\"},\"view\":{\"id\":\"1041\"}},\"id\":\"1040\",\"type\":\"GlyphRenderer\"},{\"attributes\":{},\"id\":\"1010\",\"type\":\"LinearScale\"},{\"attributes\":{\"line_dash\":[2,4],\"x\":{\"field\":\"index\"},\"y\":{\"field\":\"loss\"}},\"id\":\"1038\",\"type\":\"Line\"},{\"attributes\":{\"callback\":null,\"tooltips\":[[\"epoch\",\"@index\"],[\"training loss\",\"@loss\"],[\"validation loss\",\"@val_loss\"]]},\"id\":\"1070\",\"type\":\"HoverTool\"},{\"attributes\":{},\"id\":\"1008\",\"type\":\"DataRange1d\"},{\"attributes\":{\"axis\":{\"id\":\"1014\"},\"grid_line_color\":null,\"ticker\":null},\"id\":\"1017\",\"type\":\"Grid\"},{\"attributes\":{},\"id\":\"1045\",\"type\":\"AllLabels\"},{\"attributes\":{},\"id\":\"1046\",\"type\":\"BasicTickFormatter\"},{\"attributes\":{},\"id\":\"1022\",\"type\":\"PanTool\"}],\"root_ids\":[\"1003\"]},\"title\":\"Bokeh Application\",\"version\":\"2.3.2\"}};\n",
       "  var render_items = [{\"docid\":\"246bfdf2-181f-4bd0-9011-b68a96183433\",\"root_ids\":[\"1003\"],\"roots\":{\"1003\":\"dea72dba-2437-43d2-8e27-4444d006d5fe\"}}];\n",
       "  root.Bokeh.embed.embed_items_notebook(docs_json, render_items);\n",
       "\n",
       "  }\n",
       "  if (root.Bokeh !== undefined) {\n",
       "    embed_document(root);\n",
       "  } else {\n",
       "    var attempts = 0;\n",
       "    var timer = setInterval(function(root) {\n",
       "      if (root.Bokeh !== undefined) {\n",
       "        clearInterval(timer);\n",
       "        embed_document(root);\n",
       "      } else {\n",
       "        attempts++;\n",
       "        if (attempts > 100) {\n",
       "          clearInterval(timer);\n",
       "          console.log(\"Bokeh: ERROR: Unable to run BokehJS code because BokehJS library is missing\");\n",
       "        }\n",
       "      }\n",
       "    }, 10, root)\n",
       "  }\n",
       "})(window);"
      ],
      "application/vnd.bokehjs_exec.v0+json": ""
     },
     "metadata": {
      "application/vnd.bokehjs_exec.v0+json": {
       "id": "1003"
      }
     },
     "output_type": "display_data"
    }
   ],
   "source": [
    "plot_loss_per_epoch(\n",
    "    history, model_name=MODEL_NAME, file_name=os.path.join(IMAGE_PATH, \"model_loss.svg\")\n",
    ")"
   ]
  },
  {
   "cell_type": "code",
   "execution_count": 14,
   "id": "8c503335-ed82-468a-89d7-1ca6cc0abe59",
   "metadata": {},
   "outputs": [
    {
     "data": {
      "application/vnd.jupyter.widget-view+json": {
       "model_id": "9e4b25bc1ccd4a178735c2b8410586ef",
       "version_major": 2,
       "version_minor": 0
      },
      "text/plain": [
       "  0%|          | 0/2290 [00:00<?, ?it/s]"
      ]
     },
     "metadata": {},
     "output_type": "display_data"
    }
   ],
   "source": [
    "recon_errors = []\n",
    "\n",
    "for index in tqdm(range(len(test_files))):\n",
    "    signal, sr = load_sound_file(test_files[index])\n",
    "\n",
    "    features = extract_signal_features(\n",
    "        signal, sr, n_fft=n_fft, hop_length=hop_length, n_mels=n_mels, frames=frames\n",
    "    )\n",
    "\n",
    "    predictions = model.predict(features)\n",
    "    mse = np.mean(np.mean(np.square(features - predictions), axis=1))\n",
    "    recon_errors.append(mse)"
   ]
  },
  {
   "cell_type": "markdown",
   "id": "615c6e87-716e-4543-9c08-b93338ac35c7",
   "metadata": {},
   "source": [
    "# Model Evaluation"
   ]
  },
  {
   "cell_type": "code",
   "execution_count": 15,
   "id": "f923d9e7-6b08-4719-b6c2-3419ee0e7546",
   "metadata": {},
   "outputs": [
    {
     "data": {
      "text/html": [
       "\n",
       "\n",
       "\n",
       "\n",
       "\n",
       "\n",
       "  <div class=\"bk-root\" id=\"6db85d53-0d93-4b73-9da7-fbbef48954ee\" data-root-id=\"1243\"></div>\n"
      ]
     },
     "metadata": {},
     "output_type": "display_data"
    },
    {
     "data": {
      "application/javascript": [
       "(function(root) {\n",
       "  function embed_document(root) {\n",
       "    \n",
       "  var docs_json = {\"46a931be-34d1-4405-ab71-883900ab28bf\":{\"defs\":[],\"roots\":{\"references\":[{\"attributes\":{\"below\":[{\"id\":\"1254\"}],\"center\":[{\"id\":\"1257\"},{\"id\":\"1261\"},{\"id\":\"1293\"}],\"height\":400,\"left\":[{\"id\":\"1258\"}],\"renderers\":[{\"id\":\"1281\"},{\"id\":\"1300\"}],\"title\":{\"id\":\"1244\"},\"toolbar\":{\"id\":\"1269\"},\"x_range\":{\"id\":\"1246\"},\"x_scale\":{\"id\":\"1250\"},\"y_range\":{\"id\":\"1248\"},\"y_scale\":{\"id\":\"1252\"}},\"id\":\"1243\",\"subtype\":\"Figure\",\"type\":\"Plot\"},{\"attributes\":{},\"id\":\"1255\",\"type\":\"BasicTicker\"},{\"attributes\":{},\"id\":\"1246\",\"type\":\"DataRange1d\"},{\"attributes\":{},\"id\":\"1291\",\"type\":\"Selection\"},{\"attributes\":{\"axis\":{\"id\":\"1258\"},\"dimension\":1,\"ticker\":null},\"id\":\"1261\",\"type\":\"Grid\"},{\"attributes\":{},\"id\":\"1267\",\"type\":\"HelpTool\"},{\"attributes\":{\"active_multi\":null,\"tools\":[{\"id\":\"1262\"},{\"id\":\"1263\"},{\"id\":\"1264\"},{\"id\":\"1265\"},{\"id\":\"1266\"},{\"id\":\"1267\"},{\"id\":\"1317\"}]},\"id\":\"1269\",\"type\":\"Toolbar\"},{\"attributes\":{\"bottom_units\":\"screen\",\"fill_alpha\":0.5,\"fill_color\":\"lightgrey\",\"left_units\":\"screen\",\"level\":\"overlay\",\"line_alpha\":1.0,\"line_color\":\"black\",\"line_dash\":[4,4],\"line_width\":2,\"right_units\":\"screen\",\"syncable\":false,\"top_units\":\"screen\"},\"id\":\"1268\",\"type\":\"BoxAnnotation\"},{\"attributes\":{\"start\":0.0},\"id\":\"1248\",\"type\":\"DataRange1d\"},{\"attributes\":{\"bottom\":{\"value\":0.0},\"fill_alpha\":{\"field\":\"alpha\"},\"fill_color\":{\"value\":\"crimson\"},\"left\":{\"field\":\"left\"},\"line_color\":{\"value\":null},\"right\":{\"field\":\"right\"},\"top\":{\"field\":\"percent\"}},\"id\":\"1278\",\"type\":\"Quad\"},{\"attributes\":{\"axis_label\":\"Reconstruction Error\",\"formatter\":{\"id\":\"1284\"},\"major_label_policy\":{\"id\":\"1286\"},\"ticker\":{\"id\":\"1255\"}},\"id\":\"1254\",\"type\":\"LinearAxis\"},{\"attributes\":{\"axis\":{\"id\":\"1254\"},\"ticker\":null},\"id\":\"1257\",\"type\":\"Grid\"},{\"attributes\":{\"overlay\":{\"id\":\"1268\"}},\"id\":\"1264\",\"type\":\"BoxZoomTool\"},{\"attributes\":{\"click_policy\":\"hide\",\"items\":[{\"id\":\"1294\"},{\"id\":\"1314\"}],\"label_text_font_size\":\"8pt\"},\"id\":\"1293\",\"type\":\"Legend\"},{\"attributes\":{},\"id\":\"1266\",\"type\":\"ResetTool\"},{\"attributes\":{},\"id\":\"1312\",\"type\":\"Selection\"},{\"attributes\":{\"bottom\":{\"value\":0.0},\"fill_alpha\":{\"value\":0.1},\"fill_color\":{\"value\":\"crimson\"},\"left\":{\"field\":\"left\"},\"line_alpha\":{\"value\":0.1},\"line_color\":{\"value\":null},\"right\":{\"field\":\"right\"},\"top\":{\"field\":\"percent\"}},\"id\":\"1279\",\"type\":\"Quad\"},{\"attributes\":{\"source\":{\"id\":\"1295\"}},\"id\":\"1301\",\"type\":\"CDSView\"},{\"attributes\":{},\"id\":\"1286\",\"type\":\"AllLabels\"},{\"attributes\":{},\"id\":\"1284\",\"type\":\"BasicTickFormatter\"},{\"attributes\":{\"align\":\"center\",\"text\":\"AutoEncoder: Reconstruction Error Distribution\",\"text_font_size\":\"12pt\"},\"id\":\"1244\",\"type\":\"Title\"},{\"attributes\":{\"bottom\":{\"value\":0.0},\"fill_color\":{\"value\":\"tan\"},\"left\":{\"field\":\"left\"},\"line_color\":{\"value\":null},\"right\":{\"field\":\"right\"},\"top\":{\"field\":\"percent\"}},\"id\":\"1280\",\"type\":\"Quad\"},{\"attributes\":{\"label\":{\"value\":\"Abnormal Signals\"},\"renderers\":[{\"id\":\"1300\"}]},\"id\":\"1314\",\"type\":\"LegendItem\"},{\"attributes\":{},\"id\":\"1290\",\"type\":\"UnionRenderers\"},{\"attributes\":{\"data_source\":{\"id\":\"1276\"},\"glyph\":{\"id\":\"1278\"},\"hover_glyph\":{\"id\":\"1280\"},\"muted_glyph\":null,\"nonselection_glyph\":{\"id\":\"1279\"},\"view\":{\"id\":\"1282\"}},\"id\":\"1281\",\"type\":\"GlyphRenderer\"},{\"attributes\":{},\"id\":\"1250\",\"type\":\"LinearScale\"},{\"attributes\":{\"axis_label\":\"# Samples\",\"formatter\":{\"id\":\"1315\"},\"major_label_policy\":{\"id\":\"1289\"},\"ticker\":{\"id\":\"1259\"}},\"id\":\"1258\",\"type\":\"LinearAxis\"},{\"attributes\":{\"source\":{\"id\":\"1276\"}},\"id\":\"1282\",\"type\":\"CDSView\"},{\"attributes\":{\"bottom\":{\"value\":0.0},\"fill_color\":{\"value\":\"tan\"},\"left\":{\"field\":\"left\"},\"line_color\":{\"value\":null},\"right\":{\"field\":\"right\"},\"top\":{\"field\":\"percent\"}},\"id\":\"1299\",\"type\":\"Quad\"},{\"attributes\":{\"bottom\":{\"value\":0.0},\"fill_alpha\":{\"value\":0.1},\"fill_color\":{\"value\":\"indigo\"},\"left\":{\"field\":\"left\"},\"line_alpha\":{\"value\":0.1},\"line_color\":{\"value\":null},\"right\":{\"field\":\"right\"},\"top\":{\"field\":\"percent\"}},\"id\":\"1298\",\"type\":\"Quad\"},{\"attributes\":{\"data\":{\"alpha\":{\"__ndarray__\":\"gjLffvf63j/WOs/yw53hPw/kyuWcKOI/FcM08Ii54T+PWVTeFVbgP6pPpxTDNOA/SvKE1mSp4D9sx0EX/hjgP9rzQSzrJ94/qeYFynz73T++/e71PUneP6nmBcp8+90/mq6GqKc+3T/skH9Lr9rcP1SKYRp4xNw/u4ND6UCu3D91Xx5bETTcPylcj8L1KNw/YEg1L1Dm2z+sS8THa/HbP8hBF/4Y0Ns/yEEX/hjQ2z8vO/nM4bnbP8hBF/4Y0Ns/yEEX/hjQ2z97Pohl/cTbP3s+iGX9xNs/Lzv5zOG52z8vO/nM4bnbP3s+iGX9xNs/\",\"dtype\":\"float64\",\"order\":\"little\",\"shape\":[30]},\"count\":[76,174,199,179,115,109,130,104,57,53,60,53,36,27,25,23,12,11,5,6,3,3,1,3,3,2,2,1,1,2],\"interval\":[\"3.00 to 3.42\",\"3.42 to 3.84\",\"3.84 to 4.26\",\"4.26 to 4.67\",\"4.67 to 5.09\",\"5.09 to 5.51\",\"5.51 to 5.93\",\"5.93 to 6.34\",\"6.34 to 6.76\",\"6.76 to 7.18\",\"7.18 to 7.60\",\"7.60 to 8.01\",\"8.01 to 8.43\",\"8.43 to 8.85\",\"8.85 to 9.27\",\"9.27 to 9.68\",\"9.68 to 10.10\",\"10.10 to 10.52\",\"10.52 to 10.94\",\"10.94 to 11.35\",\"11.35 to 11.77\",\"11.77 to 12.19\",\"12.19 to 12.61\",\"12.61 to 13.02\",\"13.02 to 13.44\",\"13.44 to 13.86\",\"13.86 to 14.28\",\"14.28 to 14.69\",\"14.69 to 15.11\",\"15.11 to 15.53\"],\"left\":{\"__ndarray__\":\"AAAAAG0ICECrqqpqc18LQFVVVdV5tg5AAAAAIMAGEUBVVVVVQ7ISQKqqqorGXRRAAAAAwEkJFkBVVVX1zLQXQKqqqipQYBlAAAAAYNMLG0BVVVWVVrccQKqqqsrZYh5AAAAAgC4HIECqqqoa8NwgQFVVVbWxsiFAAAAAUHOIIkCqqqrqNF4jQFVVVYX2MyRAAAAAILgJJUCqqqq6ed8lQFVVVVU7tSZAAAAA8PyKJ0CqqqqKvmAoQFVVVSWANilAAAAAwEEMKkCqqqpaA+IqQFVVVfXEtytAAAAAkIaNLECqqqoqSGMtQFVVVcUJOS5A\",\"dtype\":\"float64\",\"order\":\"little\",\"shape\":[30]},\"percent\":[0.05152542372881356,0.11796610169491525,0.13491525423728815,0.12135593220338983,0.07796610169491526,0.07389830508474576,0.08813559322033898,0.07050847457627119,0.03864406779661017,0.03593220338983051,0.04067796610169491,0.03593220338983051,0.02440677966101695,0.01830508474576271,0.01694915254237288,0.015593220338983051,0.008135593220338983,0.007457627118644068,0.003389830508474576,0.004067796610169492,0.002033898305084746,0.002033898305084746,0.0006779661016949153,0.002033898305084746,0.002033898305084746,0.0013559322033898306,0.0013559322033898306,0.0006779661016949153,0.0006779661016949153,0.0013559322033898306],\"right\":{\"__ndarray__\":\"q6qqanNfC0BVVVXVebYOQAAAACDABhFAVVVVVUOyEkCqqqqKxl0UQAAAAMBJCRZAVVVV9cy0F0CqqqoqUGAZQAAAAGDTCxtAVVVVlVa3HECqqqrK2WIeQAAAAIAuByBAqqqqGvDcIEBVVVW1sbIhQAAAAFBziCJAqqqq6jReI0BVVVWF9jMkQAAAACC4CSVAqqqqunnfJUBVVVVVO7UmQAAAAPD8iidAqqqqir5gKEBVVVUlgDYpQAAAAMBBDCpAqqqqWgPiKkBVVVX1xLcrQAAAAJCGjSxAqqqqKkhjLUBVVVXFCTkuQAAAAGDLDi9A\",\"dtype\":\"float64\",\"order\":\"little\",\"shape\":[30]}},\"selected\":{\"id\":\"1312\"},\"selection_policy\":{\"id\":\"1311\"}},\"id\":\"1295\",\"type\":\"ColumnDataSource\"},{\"attributes\":{},\"id\":\"1262\",\"type\":\"PanTool\"},{\"attributes\":{},\"id\":\"1311\",\"type\":\"UnionRenderers\"},{\"attributes\":{},\"id\":\"1265\",\"type\":\"SaveTool\"},{\"attributes\":{},\"id\":\"1259\",\"type\":\"BasicTicker\"},{\"attributes\":{\"bottom\":{\"value\":0.0},\"fill_alpha\":{\"field\":\"alpha\"},\"fill_color\":{\"value\":\"indigo\"},\"left\":{\"field\":\"left\"},\"line_color\":{\"value\":null},\"right\":{\"field\":\"right\"},\"top\":{\"field\":\"percent\"}},\"id\":\"1297\",\"type\":\"Quad\"},{\"attributes\":{\"format\":\"0 %\"},\"id\":\"1315\",\"type\":\"NumeralTickFormatter\"},{\"attributes\":{},\"id\":\"1263\",\"type\":\"WheelZoomTool\"},{\"attributes\":{\"data_source\":{\"id\":\"1295\"},\"glyph\":{\"id\":\"1297\"},\"hover_glyph\":{\"id\":\"1299\"},\"muted_glyph\":null,\"nonselection_glyph\":{\"id\":\"1298\"},\"view\":{\"id\":\"1301\"}},\"id\":\"1300\",\"type\":\"GlyphRenderer\"},{\"attributes\":{},\"id\":\"1252\",\"type\":\"LinearScale\"},{\"attributes\":{},\"id\":\"1289\",\"type\":\"AllLabels\"},{\"attributes\":{\"data\":{\"alpha\":{\"__ndarray__\":\"1DOV644X2z/SPkgG1DPlP7Awq1HEoeM/4tBJ+yAZ4D+IEku/kdDYP054T22cUtc/rajJ4jIC1z9UfV8wenXWP5whewgrOdY/zDk4Q/YQ1j/kxZbg2/zVP0P2EFZyrNU/Q/YQVnKs1T8rarK4jMDVP0P2EFZyrNU/W4Jv81eY1T8rarK4jMDVP1uCb/NXmNU/W4Jv81eY1T8rarK4jMDVPw==\",\"dtype\":\"float64\",\"order\":\"little\",\"shape\":[20]},\"count\":[70,265,225,135,41,22,18,11,8,6,5,1,1,2,1,0,2,0,0,2],\"interval\":[\"2.22 to 2.57\",\"2.57 to 2.91\",\"2.91 to 3.26\",\"3.26 to 3.61\",\"3.61 to 3.95\",\"3.95 to 4.30\",\"4.30 to 4.65\",\"4.65 to 4.99\",\"4.99 to 5.34\",\"5.34 to 5.68\",\"5.68 to 6.03\",\"6.03 to 6.38\",\"6.38 to 6.72\",\"6.72 to 7.07\",\"7.07 to 7.42\",\"7.42 to 7.76\",\"7.76 to 8.11\",\"8.11 to 8.46\",\"8.46 to 8.80\",\"8.80 to 9.15\"],\"left\":{\"__ndarray__\":\"AAAAYAvBAUBmZmYuyYYEQM3MzPyGTAdAMzMzy0QSCkCamZmZAtgMQAAAAGjAnQ9AMzMzG78xEUBmZmYCnpQSQJqZmel89xNAzMzM0FtaFUAAAAC4Or0WQDMzM58ZIBhAZmZmhviCGUCZmZlt1+UaQM3MzFS2SBxAAAAAPJWrHUAzMzMjdA4fQDMzM4WpOCBAzMzM+BjqIEBmZmZsiJshQA==\",\"dtype\":\"float64\",\"order\":\"little\",\"shape\":[20]},\"percent\":[0.08588957055214724,0.32515337423312884,0.27607361963190186,0.1656441717791411,0.05030674846625767,0.026993865030674847,0.022085889570552148,0.013496932515337423,0.0098159509202454,0.007361963190184049,0.006134969325153374,0.001226993865030675,0.001226993865030675,0.00245398773006135,0.001226993865030675,0.0,0.00245398773006135,0.0,0.0,0.00245398773006135],\"right\":{\"__ndarray__\":\"ZmZmLsmGBEDNzMz8hkwHQDMzM8tEEgpAmpmZmQLYDEAAAABowJ0PQDMzMxu/MRFAZmZmAp6UEkCamZnpfPcTQMzMzNBbWhVAAAAAuDq9FkAzMzOfGSAYQGZmZob4ghlAmZmZbdflGkDNzMxUtkgcQAAAADyVqx1AMzMzI3QOH0AzMzOFqTggQMzMzPgY6iBAZmZmbIibIUAAAADg90wiQA==\",\"dtype\":\"float64\",\"order\":\"little\",\"shape\":[20]}},\"selected\":{\"id\":\"1291\"},\"selection_policy\":{\"id\":\"1290\"}},\"id\":\"1276\",\"type\":\"ColumnDataSource\"},{\"attributes\":{\"label\":{\"value\":\"Normal Signals\"},\"renderers\":[{\"id\":\"1281\"}]},\"id\":\"1294\",\"type\":\"LegendItem\"},{\"attributes\":{\"callback\":null,\"tooltips\":[[\"interval\",\"@interval\"],[\"count\",\"@count\"],[\"percent\",\"@percent\"]]},\"id\":\"1317\",\"type\":\"HoverTool\"}],\"root_ids\":[\"1243\"]},\"title\":\"Bokeh Application\",\"version\":\"2.3.2\"}};\n",
       "  var render_items = [{\"docid\":\"46a931be-34d1-4405-ab71-883900ab28bf\",\"root_ids\":[\"1243\"],\"roots\":{\"1243\":\"6db85d53-0d93-4b73-9da7-fbbef48954ee\"}}];\n",
       "  root.Bokeh.embed.embed_items_notebook(docs_json, render_items);\n",
       "\n",
       "  }\n",
       "  if (root.Bokeh !== undefined) {\n",
       "    embed_document(root);\n",
       "  } else {\n",
       "    var attempts = 0;\n",
       "    var timer = setInterval(function(root) {\n",
       "      if (root.Bokeh !== undefined) {\n",
       "        clearInterval(timer);\n",
       "        embed_document(root);\n",
       "      } else {\n",
       "        attempts++;\n",
       "        if (attempts > 100) {\n",
       "          clearInterval(timer);\n",
       "          console.log(\"Bokeh: ERROR: Unable to run BokehJS code because BokehJS library is missing\");\n",
       "        }\n",
       "      }\n",
       "    }, 10, root)\n",
       "  }\n",
       "})(window);"
      ],
      "application/vnd.bokehjs_exec.v0+json": ""
     },
     "metadata": {
      "application/vnd.bokehjs_exec.v0+json": {
       "id": "1243"
      }
     },
     "output_type": "display_data"
    }
   ],
   "source": [
    "stack = np.column_stack((range(len(recon_errors)), recon_errors))\n",
    "score_false = stack[test_labels == 0][:, 1]\n",
    "score_true = stack[test_labels == 1][:, 1]\n",
    "\n",
    "plot_histogram_by_class(\n",
    "    score_false,\n",
    "    score_true,\n",
    "    bins=[20, 30],\n",
    "    model_name=MODEL_NAME,\n",
    "    file_name=os.path.join(IMAGE_PATH, \"recon_error_dist.svg\"),\n",
    ")"
   ]
  },
  {
   "cell_type": "code",
   "execution_count": 16,
   "id": "87cab09b-1956-45a2-8340-c7e6da5ca53c",
   "metadata": {},
   "outputs": [
    {
     "data": {
      "text/html": [
       "\n",
       "\n",
       "\n",
       "\n",
       "\n",
       "\n",
       "  <div class=\"bk-root\" id=\"4a8a0173-d2f6-4c04-a162-3f670e09ae13\" data-root-id=\"1517\"></div>\n"
      ]
     },
     "metadata": {},
     "output_type": "display_data"
    },
    {
     "data": {
      "application/javascript": [
       "(function(root) {\n",
       "  function embed_document(root) {\n",
       "    \n",
       "  var docs_json = {\"98db513a-6995-4969-a732-9222bcd94097\":{\"defs\":[],\"roots\":{\"references\":[{\"attributes\":{\"below\":[{\"id\":\"1528\"}],\"center\":[{\"id\":\"1531\"},{\"id\":\"1535\"},{\"id\":\"1566\"},{\"id\":\"1588\"}],\"height\":400,\"left\":[{\"id\":\"1532\"}],\"renderers\":[{\"id\":\"1554\"},{\"id\":\"1572\"}],\"title\":{\"id\":\"1518\"},\"toolbar\":{\"id\":\"1543\"},\"x_range\":{\"id\":\"1520\"},\"x_scale\":{\"id\":\"1524\"},\"y_range\":{\"id\":\"1522\"},\"y_scale\":{\"id\":\"1526\"}},\"id\":\"1517\",\"subtype\":\"Figure\",\"type\":\"Plot\"},{\"attributes\":{\"data_source\":{\"id\":\"1568\"},\"glyph\":{\"id\":\"1570\"},\"hover_glyph\":null,\"muted_glyph\":null,\"nonselection_glyph\":{\"id\":\"1571\"},\"view\":{\"id\":\"1573\"}},\"id\":\"1572\",\"type\":\"GlyphRenderer\"},{\"attributes\":{\"active_multi\":null,\"tools\":[{\"id\":\"1536\"},{\"id\":\"1537\"},{\"id\":\"1538\"},{\"id\":\"1539\"},{\"id\":\"1540\"},{\"id\":\"1541\"},{\"id\":\"1589\"}]},\"id\":\"1543\",\"type\":\"Toolbar\"},{\"attributes\":{\"bottom\":2.0,\"fill_alpha\":0.1,\"fill_color\":\"magenta\",\"line_color\":\"darkmagenta\",\"top\":7.0},\"id\":\"1588\",\"type\":\"BoxAnnotation\"},{\"attributes\":{\"fill_alpha\":{\"value\":0.1},\"fill_color\":{\"value\":\"indigo\"},\"line_alpha\":{\"value\":0.1},\"line_color\":{\"value\":null},\"x\":{\"field\":\"index\"},\"y\":{\"field\":\"error\"}},\"id\":\"1571\",\"type\":\"Scatter\"},{\"attributes\":{\"fill_alpha\":{\"value\":0.6},\"fill_color\":{\"value\":\"indigo\"},\"line_color\":{\"value\":null},\"x\":{\"field\":\"index\"},\"y\":{\"field\":\"error\"}},\"id\":\"1570\",\"type\":\"Scatter\"},{\"attributes\":{\"callback\":null,\"tooltips\":[[\"index\",\"@index\"],[\"error\",\"@error\"]]},\"id\":\"1589\",\"type\":\"HoverTool\"},{\"attributes\":{},\"id\":\"1583\",\"type\":\"UnionRenderers\"},{\"attributes\":{},\"id\":\"1536\",\"type\":\"PanTool\"},{\"attributes\":{\"items\":[{\"id\":\"1567\"},{\"id\":\"1586\"}],\"label_text_font_size\":\"8pt\"},\"id\":\"1566\",\"type\":\"Legend\"},{\"attributes\":{\"source\":{\"id\":\"1568\"}},\"id\":\"1573\",\"type\":\"CDSView\"},{\"attributes\":{\"align\":\"center\",\"text\":\"AutoEncoder: Threshold Range Exploration\",\"text_font_size\":\"12pt\"},\"id\":\"1518\",\"type\":\"Title\"},{\"attributes\":{},\"id\":\"1537\",\"type\":\"WheelZoomTool\"},{\"attributes\":{},\"id\":\"1560\",\"type\":\"BasicTickFormatter\"},{\"attributes\":{},\"id\":\"1520\",\"type\":\"DataRange1d\"},{\"attributes\":{\"overlay\":{\"id\":\"1542\"}},\"id\":\"1538\",\"type\":\"BoxZoomTool\"},{\"attributes\":{},\"id\":\"1564\",\"type\":\"Selection\"},{\"attributes\":{\"fill_alpha\":{\"value\":0.1},\"fill_color\":{\"value\":\"crimson\"},\"line_alpha\":{\"value\":0.1},\"line_color\":{\"value\":null},\"x\":{\"field\":\"index\"},\"y\":{\"field\":\"error\"}},\"id\":\"1553\",\"type\":\"Scatter\"},{\"attributes\":{},\"id\":\"1539\",\"type\":\"SaveTool\"},{\"attributes\":{\"source\":{\"id\":\"1550\"}},\"id\":\"1555\",\"type\":\"CDSView\"},{\"attributes\":{},\"id\":\"1559\",\"type\":\"AllLabels\"},{\"attributes\":{\"bottom_units\":\"screen\",\"fill_alpha\":0.5,\"fill_color\":\"lightgrey\",\"left_units\":\"screen\",\"level\":\"overlay\",\"line_alpha\":1.0,\"line_color\":\"black\",\"line_dash\":[4,4],\"line_width\":2,\"right_units\":\"screen\",\"syncable\":false,\"top_units\":\"screen\"},\"id\":\"1542\",\"type\":\"BoxAnnotation\"},{\"attributes\":{},\"id\":\"1540\",\"type\":\"ResetTool\"},{\"attributes\":{},\"id\":\"1563\",\"type\":\"UnionRenderers\"},{\"attributes\":{},\"id\":\"1522\",\"type\":\"DataRange1d\"},{\"attributes\":{},\"id\":\"1524\",\"type\":\"LinearScale\"},{\"attributes\":{},\"id\":\"1541\",\"type\":\"HelpTool\"},{\"attributes\":{},\"id\":\"1584\",\"type\":\"Selection\"},{\"attributes\":{},\"id\":\"1526\",\"type\":\"LinearScale\"},{\"attributes\":{},\"id\":\"1562\",\"type\":\"AllLabels\"},{\"attributes\":{\"axis_label\":\"Samples\",\"formatter\":{\"id\":\"1557\"},\"major_label_policy\":{\"id\":\"1559\"},\"ticker\":{\"id\":\"1529\"}},\"id\":\"1528\",\"type\":\"LinearAxis\"},{\"attributes\":{\"axis\":{\"id\":\"1532\"},\"dimension\":1,\"ticker\":null},\"id\":\"1535\",\"type\":\"Grid\"},{\"attributes\":{},\"id\":\"1557\",\"type\":\"BasicTickFormatter\"},{\"attributes\":{},\"id\":\"1529\",\"type\":\"BasicTicker\"},{\"attributes\":{\"data\":{\"error\":{\"__ndarray__\":\"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\",\"dtype\":\"float64\",\"order\":\"little\",\"shape\":[815]},\"index\":{\"__ndarray__\":\"AAAAAAAACEAAAAAAAAAiQAAAAAAAACRAAAAAAAAAKkAAAAAAAAAuQAAAAAAAADNAAAAAAAAANkAAAAAAAAA3QAAAAAAAADxAAAAAAAAAPkAAAAAAAAA/QAAAAAAAAENAAAAAAAAAR0AAAAAAAABJQAAAAAAAAEpAAAAAAAAAS0AAAAAAAABMQAAAAAAAgExAAAAAAAAATUAAAAAAAABOQAAAAAAAgE5AAAAAAAAAUEAAAAAAAEBRQAAAAAAAgFFAAAAAAABAUkAAAAAAAIBSQAAAAAAAwFJAAAAAAADAU0AAAAAAAIBUQAAAAAAAwFRAAAAAAAAAVUAAAAAAAIBVQAAAAAAAwFVAAAAAAACAVkAAAAAAAEBXQAAAAAAAwFdAAAAAAABAWEAAAAAAAIBYQAAAAAAAwFhAAAAAAAAAWUAAAAAAAMBZQAAAAAAAAFpAAAAAAABAWkAAAAAAAIBaQAAAAAAAwFpAAAAAAABAW0AAAAAAAABcQAAAAAAAQF1AAAAAAACAXkAAAAAAAABfQAAAAAAAwF9AAAAAAABAYEAAAAAAAIBgQAAAAAAAwGBAAAAAAAAAYUAAAAAAAEBhQAAAAAAAgGFAAAAAAACgYUAAAAAAAMBhQAAAAAAA4GFAAAAAAAAAYkAAAAAAACBiQAAAAAAAoGJAAAAAAADAYkAAAAAAACBjQAAAAAAA4GNAAAAAAAAAZEAAAAAAAEBkQAAAAAAA4GRAAAAAAAAAZUAAAAAAAIBlQAAAAAAAoGVAAAAAAABgZkAAAAAAAIBmQAAAAAAAAGdAAAAAAACAZ0AAAAAAAMBnQAAAAAAAYGhAAAAAAACgaEAAAAAAAMBoQAAAAAAAIGpAAAAAAACAakAAAAAAAABrQAAAAAAAIGtAAAAAAABga0AAAAAAAKBrQAAAAAAA4GtAAAAAAADgbEAAAAAAAABtQAAAAAAAIG1AAAAAAABAbUAAAAAAAGBtQAAAAAAAgG5AAAAAAADgbkAAAAAAABBwQAAAAAAAIHBAAAAAAABgcEAAAAAAAHBwQAAAAAAAgHBAAAAAAACgcEAAAAAAAMBwQAAAAAAA0HBAAAAAAACQcUAAAAAAAKBxQAAAAAAAsHFAAAAAAAAAckAAAAAAABByQAAAAAAAMHJAAAAAAABQckAAAAAAAGByQAAAAAAAcHJAAAAAAACAckAAAAAAAJByQAAAAAAAoHJAAAAAAADwckAAAAAAABBzQAAAAAAAMHNAAAAAAABgc0AAAAAAAHBzQAAAAAAAsHNAAAAAAADAc0AAAAAAAOBzQAAAAAAAAHRAAAAAAAAwdEAAAAAAAFB0QAAAAAAAgHRAAAAAAACgdEAAAAAAALB0QAAAAAAA0HRAAAAAAAAQdUAAAAAAACB1QAAAAAAAUHVAAAAAAABwdUAAAAAAAIB1QAAAAAAA4HVAAAAAAADwdUAAAAAAAAB2QAAAAAAAEHZAAAAAAABgdkAAAAAAAIB2QAAAAAAA0HZAAAAAAABQd0AAAAAAAIB3QAAAAAAAkHdAAAAAAACgd0AAAAAAAPB3QAAAAAAAAHhAAAAAAAAQeEAAAAAAACB4QAAAAAAAUHhAAAAAAABgeEAAAAAAAIB4QAAAAAAAkHhAAAAAAACweEAAAAAAAMB4QAAAAAAA8HhAAAAAAABAeUAAAAAAAGB5QAAAAAAAwHlAAAAAAADgeUAAAAAAAEB6QAAAAAAAYHpAAAAAAACQekAAAAAAANB6QAAAAAAA8HpAAAAAAAAQe0AAAAAAAEB7QAAAAAAAsHtAAAAAAADge0AAAAAAAAB8QAAAAAAAEHxAAAAAAAAwfEAAAAAAAHB8QAAAAAAAgHxAAAAAAADAfEAAAAAAANB8QAAAAAAAEH1AAAAAAADQfUAAAAAAAOB9QAAAAAAA8H1AAAAAAAAQfkAAAAAAADB+QAAAAAAAUH5AAAAAAACQfkAAAAAAAOB+QAAAAAAAMH9AAAAAAABQf0AAAAAAAGB/QAAAAAAAgH9AAAAAAADwf0AAAAAAAACAQAAAAAAACIBAAAAAAAAYgEAAAAAAACCAQAAAAAAAMIBAAAAAAABYgEAAAAAAAJCAQAAAAAAAmIBAAAAAAACogEAAAAAAAOiAQAAAAAAA8IBAAAAAAAAQgUAAAAAAABiBQAAAAAAAaIFAAAAAAABwgUAAAAAAAJCBQAAAAAAAmIFAAAAAAACogUAAAAAAALCBQAAAAAAAwIFAAAAAAADIgUAAAAAAANiBQAAAAAAA4IFAAAAAAADogUAAAAAAAAiCQAAAAAAAKIJAAAAAAABYgkAAAAAAAGCCQAAAAAAAaIJAAAAAAABwgkAAAAAAAIiCQAAAAAAAqIJAAAAAAACwgkAAAAAAAMiCQAAAAAAA4IJAAAAAAAAAg0AAAAAAAAiDQAAAAAAAEINAAAAAAAAYg0AAAAAAACCDQAAAAAAAMINAAAAAAABQg0AAAAAAAFiDQAAAAAAAmINAAAAAAACog0AAAAAAALiDQAAAAAAAyINAAAAAAADYg0AAAAAAAOCDQAAAAAAA8INAAAAAAAD4g0AAAAAAACiEQAAAAAAAWIRAAAAAAABohEAAAAAAAHCEQAAAAAAAgIRAAAAAAACohEAAAAAAALCEQAAAAAAAuIRAAAAAAADIhEAAAAAAANCEQAAAAAAAGIVAAAAAAAAghUAAAAAAADCFQAAAAAAAQIVAAAAAAABIhUAAAAAAAHCFQAAAAAAAkIVAAAAAAADAhUAAAAAAAOiFQAAAAAAA+IVAAAAAAAAAhkAAAAAAAAiGQAAAAAAAIIZAAAAAAAAohkAAAAAAADCGQAAAAAAAOIZAAAAAAABQhkAAAAAAAFiGQAAAAAAAcIZAAAAAAAB4hkAAAAAAAJCGQAAAAAAAmIZAAAAAAACohkAAAAAAAMCGQAAAAAAAAIdAAAAAAAAgh0AAAAAAAECHQAAAAAAAWIdAAAAAAABwh0AAAAAAAJiHQAAAAAAAyIdAAAAAAAAYiEAAAAAAAFCIQAAAAAAAWIhAAAAAAABgiEAAAAAAAICIQAAAAAAAqIhAAAAAAAC4iEAAAAAAAMiIQAAAAAAA2IhAAAAAAADgiEAAAAAAAOiIQAAAAAAA8IhAAAAAAAAIiUAAAAAAABCJQAAAAAAAKIlAAAAAAABYiUAAAAAAAGCJQAAAAAAAaIlAAAAAAAB4iUAAAAAAAIiJQAAAAAAAkIlAAAAAAACwiUAAAAAAAMiJQAAAAAAA6IlAAAAAAAD4iUAAAAAAABCKQAAAAAAAIIpAAAAAAAAoikAAAAAAADCKQAAAAAAAUIpAAAAAAABYikAAAAAAAGCKQAAAAAAAaIpAAAAAAABwikAAAAAAAICKQAAAAAAAiIpAAAAAAACoikAAAAAAALCKQAAAAAAAuIpAAAAAAADoikAAAAAAAPCKQAAAAAAA+IpAAAAAAAAIi0AAAAAAABCLQAAAAAAAQItAAAAAAABIi0AAAAAAAFiLQAAAAAAAgItAAAAAAACIi0AAAAAAAKCLQAAAAAAAsItAAAAAAAAAjEAAAAAAAFCMQAAAAAAAYIxAAAAAAAB4jEAAAAAAAJiMQAAAAAAAqIxAAAAAAAC4jEAAAAAAAAiNQAAAAAAAEI1AAAAAAAAYjUAAAAAAADiNQAAAAAAASI1AAAAAAACgjUAAAAAAALCNQAAAAAAAuI1AAAAAAADgjUAAAAAAAOiNQAAAAAAA8I1AAAAAAAD4jUAAAAAAADiOQAAAAAAAWI5AAAAAAABgjkAAAAAAAHCOQAAAAAAAkI5AAAAAAACYjkAAAAAAAKiOQAAAAAAA8I5AAAAAAAAIj0AAAAAAABCPQAAAAAAAII9AAAAAAAAwj0AAAAAAAFCPQAAAAAAAWI9AAAAAAABoj0AAAAAAAHiPQAAAAAAAsI9AAAAAAADwj0AAAAAAABCQQAAAAAAAFJBAAAAAAAAYkEAAAAAAAByQQAAAAAAAJJBAAAAAAAAwkEAAAAAAADSQQAAAAAAAPJBAAAAAAABgkEAAAAAAAGiQQAAAAAAAdJBAAAAAAAB4kEAAAAAAAIiQQAAAAAAAjJBAAAAAAACQkEAAAAAAAJSQQAAAAAAAqJBAAAAAAACskEAAAAAAALCQQAAAAAAAtJBAAAAAAAC4kEAAAAAAANCQQAAAAAAA1JBAAAAAAADskEAAAAAAAPSQQAAAAAAA/JBAAAAAAAAMkUAAAAAAACCRQAAAAAAAMJFAAAAAAAA0kUAAAAAAADyRQAAAAAAAQJFAAAAAAABEkUAAAAAAAFCRQAAAAAAAWJFAAAAAAABckUAAAAAAAGiRQAAAAAAAbJFAAAAAAACEkUAAAAAAAMCRQAAAAAAAzJFAAAAAAADYkUAAAAAAAOiRQAAAAAAA9JFAAAAAAAD8kUAAAAAAAACSQAAAAAAAFJJAAAAAAAAYkkAAAAAAADSSQAAAAAAARJJAAAAAAABMkkAAAAAAAGCSQAAAAAAAgJJAAAAAAACQkkAAAAAAAJySQAAAAAAAoJJAAAAAAACokkAAAAAAALCSQAAAAAAAwJJAAAAAAADIkkAAAAAAAOSSQAAAAAAA6JJAAAAAAADskkAAAAAAAPCSQAAAAAAABJNAAAAAAAAIk0AAAAAAAAyTQAAAAAAAFJNAAAAAAAAck0AAAAAAACSTQAAAAAAAKJNAAAAAAABIk0AAAAAAAFCTQAAAAAAAXJNAAAAAAABgk0AAAAAAAGSTQAAAAAAAaJNAAAAAAABsk0AAAAAAAHCTQAAAAAAAfJNAAAAAAACUk0AAAAAAAJyTQAAAAAAAuJNAAAAAAAC8k0AAAAAAANCTQAAAAAAA2JNAAAAAAADkk0AAAAAAAOyTQAAAAAAA8JNAAAAAAAAAlEAAAAAAAAiUQAAAAAAADJRAAAAAAAAclEAAAAAAACCUQAAAAAAAJJRAAAAAAAAolEAAAAAAACyUQAAAAAAAMJRAAAAAAAA8lEAAAAAAAEiUQAAAAAAAUJRAAAAAAABUlEAAAAAAAFyUQAAAAAAAaJRAAAAAAABslEAAAAAAAHSUQAAAAAAAeJRAAAAAAACElEAAAAAAAIiUQAAAAAAAkJRAAAAAAACUlEAAAAAAALiUQAAAAAAAvJRAAAAAAADIlEAAAAAAANCUQAAAAAAA2JRAAAAAAADclEAAAAAAAOSUQAAAAAAA8JRAAAAAAAAElUAAAAAAAAiVQAAAAAAAEJVAAAAAAAAUlUAAAAAAABiVQAAAAAAAIJVAAAAAAAA4lUAAAAAAAFCVQAAAAAAAVJVAAAAAAAB0lUAAAAAAAHiVQAAAAAAAgJVAAAAAAACElUAAAAAAAIyVQAAAAAAAkJVAAAAAAACUlUAAAAAAAJiVQAAAAAAAnJVAAAAAAACglUAAAAAAAKiVQAAAAAAArJVAAAAAAAC0lUAAAAAAALyVQAAAAAAAwJVAAAAAAADIlUAAAAAAAMyVQAAAAAAA1JVAAAAAAADYlUAAAAAAAOiVQAAAAAAA/JVAAAAAAAAAlkAAAAAAAASWQAAAAAAACJZAAAAAAAAQlkAAAAAAABiWQAAAAAAAKJZAAAAAAAAwlkAAAAAAADSWQAAAAAAAQJZAAAAAAABIlkAAAAAAAGSWQAAAAAAAaJZAAAAAAABslkAAAAAAAHCWQAAAAAAAdJZAAAAAAAB4lkAAAAAAAHyWQAAAAAAAkJZAAAAAAACUlkAAAAAAAJyWQAAAAAAAoJZAAAAAAACklkAAAAAAALCWQAAAAAAAwJZAAAAAAADElkAAAAAAAMyWQAAAAAAA4JZAAAAAAADolkAAAAAAAOyWQAAAAAAA+JZAAAAAAAD8lkAAAAAAAACXQAAAAAAABJdAAAAAAAAol0AAAAAAADCXQAAAAAAANJdAAAAAAAA8l0AAAAAAAEiXQAAAAAAATJdAAAAAAABQl0AAAAAAAFSXQAAAAAAAYJdAAAAAAABol0AAAAAAAHSXQAAAAAAAfJdAAAAAAACIl0AAAAAAAJyXQAAAAAAAqJdAAAAAAAC4l0AAAAAAAMyXQAAAAAAA0JdAAAAAAADcl0AAAAAAAOSXQAAAAAAA9JdAAAAAAAAImEAAAAAAAAyYQAAAAAAAFJhAAAAAAAA4mEAAAAAAADyYQAAAAAAAQJhAAAAAAABEmEAAAAAAAEyYQAAAAAAAXJhAAAAAAABkmEAAAAAAAHiYQAAAAAAAfJhAAAAAAACAmEAAAAAAAIiYQAAAAAAAjJhAAAAAAACYmEAAAAAAALCYQAAAAAAAtJhAAAAAAADAmEAAAAAAAMiYQAAAAAAAzJhAAAAAAAAwmUAAAAAAADiZQAAAAAAAQJlAAAAAAABMmUAAAAAAAFCZQAAAAAAAdJlAAAAAAAB8mUAAAAAAAICZQAAAAAAAmJlAAAAAAAComUAAAAAAAKyZQAAAAAAAuJlAAAAAAADAmUAAAAAAAMSZQAAAAAAAyJlAAAAAAAD0mUAAAAAAAPiZQAAAAAAACJpAAAAAAAAUmkAAAAAAACSaQAAAAAAAMJpAAAAAAABQmkAAAAAAAGCaQAAAAAAAZJpAAAAAAABomkAAAAAAAGyaQAAAAAAAcJpAAAAAAACYmkAAAAAAAKCaQAAAAAAA1JpAAAAAAADsmkAAAAAAAPCaQAAAAAAA9JpAAAAAAAD4mkAAAAAAAPyaQAAAAAAABJtAAAAAAAAIm0AAAAAAABCbQAAAAAAAKJtAAAAAAAAsm0AAAAAAADybQAAAAAAAQJtAAAAAAABQm0AAAAAAAFibQAAAAAAAeJtAAAAAAAB8m0AAAAAAAISbQAAAAAAAjJtAAAAAAACQm0AAAAAAAJybQAAAAAAAqJtAAAAAAADEm0AAAAAAAMibQAAAAAAAzJtAAAAAAADcm0AAAAAAAOSbQAAAAAAA9JtAAAAAAAD4m0AAAAAAAAicQAAAAAAADJxAAAAAAAAQnEAAAAAAADScQAAAAAAASJxAAAAAAABYnEAAAAAAAGScQAAAAAAAbJxAAAAAAAB4nEAAAAAAAIScQAAAAAAAjJxAAAAAAACUnEAAAAAAAKycQAAAAAAAtJxAAAAAAAC4nEAAAAAAAMycQAAAAAAA0JxAAAAAAADUnEAAAAAAANicQAAAAAAA3JxAAAAAAAD4nEAAAAAAABCdQAAAAAAAJJ1AAAAAAAAsnUAAAAAAADSdQAAAAAAAOJ1AAAAAAABAnUAAAAAAAFSdQAAAAAAAXJ1AAAAAAABsnUAAAAAAAHSdQAAAAAAAeJ1AAAAAAACQnUAAAAAAAJidQAAAAAAAoJ1AAAAAAAC4nUAAAAAAALydQAAAAAAAzJ1AAAAAAADQnUAAAAAAANSdQAAAAAAA2J1AAAAAAADsnUAAAAAAAACeQAAAAAAADJ5AAAAAAAAgnkAAAAAAACieQAAAAAAALJ5AAAAAAABAnkAAAAAAAEieQAAAAAAAVJ5AAAAAAABYnkAAAAAAAGSeQAAAAAAAcJ5AAAAAAAB4nkAAAAAAAJCeQAAAAAAAnJ5AAAAAAACgnkAAAAAAAKSeQAAAAAAArJ5AAAAAAACwnkAAAAAAALSeQAAAAAAAuJ5AAAAAAADMnkAAAAAAANCeQAAAAAAA4J5AAAAAAADknkAAAAAAAPieQAAAAAAADJ9AAAAAAAAUn0AAAAAAABifQAAAAAAANJ9AAAAAAAA8n0AAAAAAAEifQAAAAAAATJ9AAAAAAABYn0AAAAAAAFyfQAAAAAAAeJ9AAAAAAAB8n0AAAAAAAIifQAAAAAAAkJ9AAAAAAACUn0AAAAAAAJifQAAAAAAAnJ9AAAAAAACkn0AAAAAAALifQAAAAAAAxJ9AAAAAAADIn0AAAAAAANSfQAAAAAAA5J9AAAAAAADsn0AAAAAAAASgQAAAAAAABqBAAAAAAAAQoEAAAAAAABagQAAAAAAALKBAAAAAAAA6oEAAAAAAAD6gQAAAAAAAQKBAAAAAAABIoEAAAAAAAEqgQAAAAAAATqBAAAAAAABYoEAAAAAAAGKgQAAAAAAAZqBAAAAAAABwoEAAAAAAAHagQAAAAAAAfKBAAAAAAACGoEAAAAAAAIqgQAAAAAAAjqBAAAAAAACSoEAAAAAAAJSgQAAAAAAAlqBAAAAAAACYoEAAAAAAAJqgQAAAAAAAnKBAAAAAAAC0oEAAAAAAALagQAAAAAAAuKBAAAAAAADMoEAAAAAAAM6gQAAAAAAA0qBAAAAAAADUoEAAAAAAANqgQAAAAAAA+qBAAAAAAAAGoUAAAAAAAA6hQAAAAAAAEqFAAAAAAAAcoUAAAAAAAB6hQAAAAAAAIqFAAAAAAAAyoUAAAAAAADahQAAAAAAAOKFAAAAAAAA8oUAAAAAAAEShQAAAAAAARqFAAAAAAABKoUAAAAAAAFihQAAAAAAAXqFAAAAAAABgoUAAAAAAAGKhQAAAAAAAZKFAAAAAAABqoUAAAAAAAHChQAAAAAAAeKFAAAAAAAB6oUAAAAAAAH6hQAAAAAAAiqFAAAAAAACMoUAAAAAAAJihQAAAAAAAnKFAAAAAAACkoUAAAAAAAKyhQAAAAAAArqFAAAAAAAC4oUAAAAAAALqhQAAAAAAAvKFAAAAAAAC+oUAAAAAAAMihQAAAAAAAzKFAAAAAAADSoUAAAAAAANahQA==\",\"dtype\":\"float64\",\"order\":\"little\",\"shape\":[815]}},\"selected\":{\"id\":\"1564\"},\"selection_policy\":{\"id\":\"1563\"}},\"id\":\"1550\",\"type\":\"ColumnDataSource\"},{\"attributes\":{\"axis\":{\"id\":\"1528\"},\"ticker\":null},\"id\":\"1531\",\"type\":\"Grid\"},{\"attributes\":{\"data\":{\"error\":{\"__ndarray__\":\"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\",\"dtype\":\"float64\",\"order\":\"little\",\"shape\":[1475]},\"index\":{\"__ndarray__\":\"AAAAAAAAAAAAAAAAAADwPwAAAAAAAABAAAAAAAAAEEAAAAAAAAAUQAAAAAAAABhAAAAAAAAAHEAAAAAAAAAgQAAAAAAAACZAAAAAAAAAKEAAAAAAAAAsQAAAAAAAADBAAAAAAAAAMUAAAAAAAAAyQAAAAAAAADRAAAAAAAAANUAAAAAAAAA4QAAAAAAAADlAAAAAAAAAOkAAAAAAAAA7QAAAAAAAAD1AAAAAAAAAQEAAAAAAAIBAQAAAAAAAAEFAAAAAAACAQUAAAAAAAABCQAAAAAAAgEJAAAAAAACAQ0AAAAAAAABEQAAAAAAAgERAAAAAAAAARUAAAAAAAIBFQAAAAAAAAEZAAAAAAACARkAAAAAAAIBHQAAAAAAAAEhAAAAAAACASEAAAAAAAIBJQAAAAAAAgEpAAAAAAACAS0AAAAAAAIBNQAAAAAAAAE9AAAAAAACAT0AAAAAAAEBQQAAAAAAAgFBAAAAAAADAUEAAAAAAAABRQAAAAAAAwFFAAAAAAAAAUkAAAAAAAABTQAAAAAAAQFNAAAAAAACAU0AAAAAAAABUQAAAAAAAQFRAAAAAAABAVUAAAAAAAABWQAAAAAAAQFZAAAAAAADAVkAAAAAAAABXQAAAAAAAgFdAAAAAAAAAWEAAAAAAAEBZQAAAAAAAgFlAAAAAAAAAW0AAAAAAAIBbQAAAAAAAwFtAAAAAAABAXEAAAAAAAIBcQAAAAAAAwFxAAAAAAAAAXUAAAAAAAIBdQAAAAAAAwF1AAAAAAAAAXkAAAAAAAEBeQAAAAAAAwF5AAAAAAABAX0AAAAAAAIBfQAAAAAAAAGBAAAAAAAAgYEAAAAAAAGBgQAAAAAAAoGBAAAAAAADgYEAAAAAAACBhQAAAAAAAYGFAAAAAAABAYkAAAAAAAGBiQAAAAAAAgGJAAAAAAADgYkAAAAAAAABjQAAAAAAAQGNAAAAAAABgY0AAAAAAAIBjQAAAAAAAoGNAAAAAAADAY0AAAAAAACBkQAAAAAAAYGRAAAAAAACAZEAAAAAAAKBkQAAAAAAAwGRAAAAAAAAgZUAAAAAAAEBlQAAAAAAAYGVAAAAAAADAZUAAAAAAAOBlQAAAAAAAAGZAAAAAAAAgZkAAAAAAAEBmQAAAAAAAoGZAAAAAAADAZkAAAAAAAOBmQAAAAAAAIGdAAAAAAABAZ0AAAAAAAGBnQAAAAAAAoGdAAAAAAADgZ0AAAAAAAABoQAAAAAAAIGhAAAAAAABAaEAAAAAAAIBoQAAAAAAA4GhAAAAAAAAAaUAAAAAAACBpQAAAAAAAQGlAAAAAAABgaUAAAAAAAIBpQAAAAAAAoGlAAAAAAADAaUAAAAAAAOBpQAAAAAAAAGpAAAAAAABAakAAAAAAAGBqQAAAAAAAoGpAAAAAAADAakAAAAAAAOBqQAAAAAAAQGtAAAAAAACAa0AAAAAAAMBrQAAAAAAAAGxAAAAAAAAgbEAAAAAAAEBsQAAAAAAAYGxAAAAAAACAbEAAAAAAAKBsQAAAAAAAwGxAAAAAAACAbUAAAAAAAKBtQAAAAAAAwG1AAAAAAADgbUAAAAAAAABuQAAAAAAAIG5AAAAAAABAbkAAAAAAAGBuQAAAAAAAoG5AAAAAAADAbkAAAAAAAABvQAAAAAAAIG9AAAAAAABAb0AAAAAAAGBvQAAAAAAAgG9AAAAAAACgb0AAAAAAAMBvQAAAAAAA4G9AAAAAAAAAcEAAAAAAADBwQAAAAAAAQHBAAAAAAABQcEAAAAAAAJBwQAAAAAAAsHBAAAAAAADgcEAAAAAAAPBwQAAAAAAAAHFAAAAAAAAQcUAAAAAAACBxQAAAAAAAMHFAAAAAAABAcUAAAAAAAFBxQAAAAAAAYHFAAAAAAABwcUAAAAAAAIBxQAAAAAAAwHFAAAAAAADQcUAAAAAAAOBxQAAAAAAA8HFAAAAAAAAgckAAAAAAAEByQAAAAAAAsHJAAAAAAADAckAAAAAAANByQAAAAAAA4HJAAAAAAAAAc0AAAAAAACBzQAAAAAAAQHNAAAAAAABQc0AAAAAAAIBzQAAAAAAAkHNAAAAAAACgc0AAAAAAANBzQAAAAAAA8HNAAAAAAAAQdEAAAAAAACB0QAAAAAAAQHRAAAAAAABgdEAAAAAAAHB0QAAAAAAAkHRAAAAAAADAdEAAAAAAAOB0QAAAAAAA8HRAAAAAAAAAdUAAAAAAADB1QAAAAAAAQHVAAAAAAABgdUAAAAAAAJB1QAAAAAAAoHVAAAAAAACwdUAAAAAAAMB1QAAAAAAA0HVAAAAAAAAgdkAAAAAAADB2QAAAAAAAQHZAAAAAAABQdkAAAAAAAHB2QAAAAAAAkHZAAAAAAACgdkAAAAAAALB2QAAAAAAAwHZAAAAAAADgdkAAAAAAAPB2QAAAAAAAAHdAAAAAAAAQd0AAAAAAACB3QAAAAAAAMHdAAAAAAABAd0AAAAAAAGB3QAAAAAAAcHdAAAAAAACwd0AAAAAAAMB3QAAAAAAA0HdAAAAAAADgd0AAAAAAADB4QAAAAAAAQHhAAAAAAABweEAAAAAAAKB4QAAAAAAA0HhAAAAAAADgeEAAAAAAAAB5QAAAAAAAEHlAAAAAAAAgeUAAAAAAADB5QAAAAAAAUHlAAAAAAABweUAAAAAAAIB5QAAAAAAAkHlAAAAAAACgeUAAAAAAALB5QAAAAAAA0HlAAAAAAADweUAAAAAAAAB6QAAAAAAAEHpAAAAAAAAgekAAAAAAADB6QAAAAAAAUHpAAAAAAABwekAAAAAAAIB6QAAAAAAAoHpAAAAAAACwekAAAAAAAMB6QAAAAAAA4HpAAAAAAAAAe0AAAAAAACB7QAAAAAAAMHtAAAAAAABQe0AAAAAAAGB7QAAAAAAAcHtAAAAAAACAe0AAAAAAAJB7QAAAAAAAoHtAAAAAAADAe0AAAAAAANB7QAAAAAAA8HtAAAAAAAAgfEAAAAAAAEB8QAAAAAAAUHxAAAAAAABgfEAAAAAAAJB8QAAAAAAAoHxAAAAAAACwfEAAAAAAAOB8QAAAAAAA8HxAAAAAAAAAfUAAAAAAACB9QAAAAAAAMH1AAAAAAABAfUAAAAAAAFB9QAAAAAAAYH1AAAAAAABwfUAAAAAAAIB9QAAAAAAAkH1AAAAAAACgfUAAAAAAALB9QAAAAAAAwH1AAAAAAAAAfkAAAAAAACB+QAAAAAAAQH5AAAAAAABgfkAAAAAAAHB+QAAAAAAAgH5AAAAAAACgfkAAAAAAALB+QAAAAAAAwH5AAAAAAADQfkAAAAAAAPB+QAAAAAAAAH9AAAAAAAAQf0AAAAAAACB/QAAAAAAAQH9AAAAAAABwf0AAAAAAAJB/QAAAAAAAoH9AAAAAAACwf0AAAAAAAMB/QAAAAAAA0H9AAAAAAADgf0AAAAAAABCAQAAAAAAAKIBAAAAAAAA4gEAAAAAAAECAQAAAAAAASIBAAAAAAABQgEAAAAAAAGCAQAAAAAAAaIBAAAAAAABwgEAAAAAAAHiAQAAAAAAAgIBAAAAAAACIgEAAAAAAAKCAQAAAAAAAsIBAAAAAAAC4gEAAAAAAAMCAQAAAAAAAyIBAAAAAAADQgEAAAAAAANiAQAAAAAAA4IBAAAAAAAD4gEAAAAAAAACBQAAAAAAACIFAAAAAAAAggUAAAAAAACiBQAAAAAAAMIFAAAAAAAA4gUAAAAAAAECBQAAAAAAASIFAAAAAAABQgUAAAAAAAFiBQAAAAAAAYIFAAAAAAAB4gUAAAAAAAICBQAAAAAAAiIFAAAAAAACggUAAAAAAALiBQAAAAAAA0IFAAAAAAADwgUAAAAAAAPiBQAAAAAAAAIJAAAAAAAAQgkAAAAAAABiCQAAAAAAAIIJAAAAAAAAwgkAAAAAAADiCQAAAAAAAQIJAAAAAAABIgkAAAAAAAFCCQAAAAAAAeIJAAAAAAACAgkAAAAAAAJCCQAAAAAAAmIJAAAAAAACggkAAAAAAALiCQAAAAAAAwIJAAAAAAADQgkAAAAAAANiCQAAAAAAA6IJAAAAAAADwgkAAAAAAAPiCQAAAAAAAKINAAAAAAAA4g0AAAAAAAECDQAAAAAAASINAAAAAAABgg0AAAAAAAGiDQAAAAAAAcINAAAAAAAB4g0AAAAAAAICDQAAAAAAAiINAAAAAAACQg0AAAAAAAKCDQAAAAAAAsINAAAAAAADAg0AAAAAAANCDQAAAAAAA6INAAAAAAAAAhEAAAAAAAAiEQAAAAAAAEIRAAAAAAAAYhEAAAAAAACCEQAAAAAAAMIRAAAAAAAA4hEAAAAAAAECEQAAAAAAASIRAAAAAAABQhEAAAAAAAGCEQAAAAAAAeIRAAAAAAACIhEAAAAAAAJCEQAAAAAAAmIRAAAAAAACghEAAAAAAAMCEQAAAAAAA2IRAAAAAAADghEAAAAAAAOiEQAAAAAAA8IRAAAAAAAD4hEAAAAAAAACFQAAAAAAACIVAAAAAAAAQhUAAAAAAACiFQAAAAAAAOIVAAAAAAABQhUAAAAAAAFiFQAAAAAAAYIVAAAAAAABohUAAAAAAAHiFQAAAAAAAgIVAAAAAAACIhUAAAAAAAJiFQAAAAAAAoIVAAAAAAACohUAAAAAAALCFQAAAAAAAuIVAAAAAAADIhUAAAAAAANCFQAAAAAAA2IVAAAAAAADghUAAAAAAAPCFQAAAAAAAEIZAAAAAAAAYhkAAAAAAAECGQAAAAAAASIZAAAAAAABghkAAAAAAAGiGQAAAAAAAgIZAAAAAAACIhkAAAAAAAKCGQAAAAAAAsIZAAAAAAAC4hkAAAAAAAMiGQAAAAAAA0IZAAAAAAADYhkAAAAAAAOCGQAAAAAAA6IZAAAAAAADwhkAAAAAAAPiGQAAAAAAACIdAAAAAAAAQh0AAAAAAABiHQAAAAAAAKIdAAAAAAAAwh0AAAAAAADiHQAAAAAAASIdAAAAAAABQh0AAAAAAAGCHQAAAAAAAaIdAAAAAAAB4h0AAAAAAAICHQAAAAAAAiIdAAAAAAACQh0AAAAAAAKCHQAAAAAAAqIdAAAAAAACwh0AAAAAAALiHQAAAAAAAwIdAAAAAAADQh0AAAAAAANiHQAAAAAAA4IdAAAAAAADoh0AAAAAAAPCHQAAAAAAA+IdAAAAAAAAAiEAAAAAAAAiIQAAAAAAAEIhAAAAAAAAgiEAAAAAAACiIQAAAAAAAMIhAAAAAAAA4iEAAAAAAAECIQAAAAAAASIhAAAAAAABoiEAAAAAAAHCIQAAAAAAAeIhAAAAAAACIiEAAAAAAAJCIQAAAAAAAmIhAAAAAAACgiEAAAAAAALCIQAAAAAAAwIhAAAAAAADQiEAAAAAAAPiIQAAAAAAAAIlAAAAAAAAYiUAAAAAAACCJQAAAAAAAMIlAAAAAAAA4iUAAAAAAAECJQAAAAAAASIlAAAAAAABQiUAAAAAAAHCJQAAAAAAAgIlAAAAAAACYiUAAAAAAAKCJQAAAAAAAqIlAAAAAAAC4iUAAAAAAAMCJQAAAAAAA0IlAAAAAAADYiUAAAAAAAOCJQAAAAAAA8IlAAAAAAAAAikAAAAAAAAiKQAAAAAAAGIpAAAAAAAA4ikAAAAAAAECKQAAAAAAASIpAAAAAAAB4ikAAAAAAAJCKQAAAAAAAmIpAAAAAAACgikAAAAAAAMCKQAAAAAAAyIpAAAAAAADQikAAAAAAANiKQAAAAAAA4IpAAAAAAAAAi0AAAAAAABiLQAAAAAAAIItAAAAAAAAoi0AAAAAAADCLQAAAAAAAOItAAAAAAABQi0AAAAAAAGCLQAAAAAAAaItAAAAAAABwi0AAAAAAAHiLQAAAAAAAkItAAAAAAACYi0AAAAAAAKiLQAAAAAAAuItAAAAAAADAi0AAAAAAAMiLQAAAAAAA0ItAAAAAAADYi0AAAAAAAOCLQAAAAAAA6ItAAAAAAADwi0AAAAAAAPiLQAAAAAAACIxAAAAAAAAQjEAAAAAAABiMQAAAAAAAIIxAAAAAAAAojEAAAAAAADCMQAAAAAAAOIxAAAAAAABAjEAAAAAAAEiMQAAAAAAAWIxAAAAAAABojEAAAAAAAHCMQAAAAAAAgIxAAAAAAACIjEAAAAAAAJCMQAAAAAAAoIxAAAAAAACwjEAAAAAAAMCMQAAAAAAAyIxAAAAAAADQjEAAAAAAANiMQAAAAAAA4IxAAAAAAADojEAAAAAAAPCMQAAAAAAA+IxAAAAAAAAAjUAAAAAAACCNQAAAAAAAKI1AAAAAAAAwjUAAAAAAAECNQAAAAAAAUI1AAAAAAABYjUAAAAAAAGCNQAAAAAAAaI1AAAAAAABwjUAAAAAAAHiNQAAAAAAAgI1AAAAAAACIjUAAAAAAAJCNQAAAAAAAmI1AAAAAAACojUAAAAAAAMCNQAAAAAAAyI1AAAAAAADQjUAAAAAAANiNQAAAAAAAAI5AAAAAAAAIjkAAAAAAABCOQAAAAAAAGI5AAAAAAAAgjkAAAAAAACiOQAAAAAAAMI5AAAAAAABAjkAAAAAAAEiOQAAAAAAAUI5AAAAAAABojkAAAAAAAHiOQAAAAAAAgI5AAAAAAACIjkAAAAAAAKCOQAAAAAAAsI5AAAAAAAC4jkAAAAAAAMCOQAAAAAAAyI5AAAAAAADQjkAAAAAAANiOQAAAAAAA4I5AAAAAAADojkAAAAAAAPiOQAAAAAAAAI9AAAAAAAAYj0AAAAAAACiPQAAAAAAAOI9AAAAAAABAj0AAAAAAAEiPQAAAAAAAYI9AAAAAAABwj0AAAAAAAICPQAAAAAAAiI9AAAAAAACQj0AAAAAAAJiPQAAAAAAAoI9AAAAAAACoj0AAAAAAALiPQAAAAAAAwI9AAAAAAADIj0AAAAAAANCPQAAAAAAA2I9AAAAAAADgj0AAAAAAAOiPQAAAAAAA+I9AAAAAAAAAkEAAAAAAAASQQAAAAAAACJBAAAAAAAAMkEAAAAAAACCQQAAAAAAAKJBAAAAAAAAskEAAAAAAADiQQAAAAAAAQJBAAAAAAABEkEAAAAAAAEiQQAAAAAAATJBAAAAAAABQkEAAAAAAAFSQQAAAAAAAWJBAAAAAAABckEAAAAAAAGSQQAAAAAAAbJBAAAAAAABwkEAAAAAAAHyQQAAAAAAAgJBAAAAAAACEkEAAAAAAAJiQQAAAAAAAnJBAAAAAAACgkEAAAAAAAKSQQAAAAAAAvJBAAAAAAADAkEAAAAAAAMSQQAAAAAAAyJBAAAAAAADMkEAAAAAAANiQQAAAAAAA3JBAAAAAAADgkEAAAAAAAOSQQAAAAAAA6JBAAAAAAADwkEAAAAAAAPiQQAAAAAAAAJFAAAAAAAAEkUAAAAAAAAiRQAAAAAAAEJFAAAAAAAAUkUAAAAAAABiRQAAAAAAAHJFAAAAAAAAkkUAAAAAAACiRQAAAAAAALJFAAAAAAAA4kUAAAAAAAEiRQAAAAAAATJFAAAAAAABUkUAAAAAAAGCRQAAAAAAAZJFAAAAAAABwkUAAAAAAAHSRQAAAAAAAeJFAAAAAAAB8kUAAAAAAAICRQAAAAAAAiJFAAAAAAACMkUAAAAAAAJCRQAAAAAAAlJFAAAAAAACYkUAAAAAAAJyRQAAAAAAAoJFAAAAAAACkkUAAAAAAAKiRQAAAAAAArJFAAAAAAACwkUAAAAAAALSRQAAAAAAAuJFAAAAAAAC8kUAAAAAAAMSRQAAAAAAAyJFAAAAAAADQkUAAAAAAANSRQAAAAAAA3JFAAAAAAADgkUAAAAAAAOSRQAAAAAAA7JFAAAAAAADwkUAAAAAAAPiRQAAAAAAABJJAAAAAAAAIkkAAAAAAAAySQAAAAAAAEJJAAAAAAAAckkAAAAAAACCSQAAAAAAAJJJAAAAAAAAokkAAAAAAACySQAAAAAAAMJJAAAAAAAA4kkAAAAAAADySQAAAAAAAQJJAAAAAAABIkkAAAAAAAFCSQAAAAAAAVJJAAAAAAABYkkAAAAAAAFySQAAAAAAAZJJAAAAAAABokkAAAAAAAGySQAAAAAAAcJJAAAAAAAB0kkAAAAAAAHiSQAAAAAAAfJJAAAAAAACEkkAAAAAAAIiSQAAAAAAAjJJAAAAAAACUkkAAAAAAAJiSQAAAAAAApJJAAAAAAACskkAAAAAAALSSQAAAAAAAuJJAAAAAAAC8kkAAAAAAAMSSQAAAAAAAzJJAAAAAAADQkkAAAAAAANSSQAAAAAAA2JJAAAAAAADckkAAAAAAAOCSQAAAAAAA9JJAAAAAAAD4kkAAAAAAAPySQAAAAAAAAJNAAAAAAAAQk0AAAAAAABiTQAAAAAAAIJNAAAAAAAAsk0AAAAAAADCTQAAAAAAANJNAAAAAAAA4k0AAAAAAADyTQAAAAAAAQJNAAAAAAABEk0AAAAAAAEyTQAAAAAAAVJNAAAAAAABYk0AAAAAAAHSTQAAAAAAAeJNAAAAAAACAk0AAAAAAAISTQAAAAAAAiJNAAAAAAACMk0AAAAAAAJCTQAAAAAAAmJNAAAAAAACgk0AAAAAAAKSTQAAAAAAAqJNAAAAAAACsk0AAAAAAALCTQAAAAAAAtJNAAAAAAADAk0AAAAAAAMSTQAAAAAAAyJNAAAAAAADMk0AAAAAAANSTQAAAAAAA3JNAAAAAAADgk0AAAAAAAOiTQAAAAAAA9JNAAAAAAAD4k0AAAAAAAPyTQAAAAAAABJRAAAAAAAAQlEAAAAAAABSUQAAAAAAAGJRAAAAAAAA0lEAAAAAAADiUQAAAAAAAQJRAAAAAAABElEAAAAAAAEyUQAAAAAAAWJRAAAAAAABglEAAAAAAAGSUQAAAAAAAcJRAAAAAAAB8lEAAAAAAAICUQAAAAAAAjJRAAAAAAACYlEAAAAAAAJyUQAAAAAAAoJRAAAAAAACklEAAAAAAAKiUQAAAAAAArJRAAAAAAACwlEAAAAAAALSUQAAAAAAAwJRAAAAAAADElEAAAAAAAMyUQAAAAAAA1JRAAAAAAADglEAAAAAAAOiUQAAAAAAA7JRAAAAAAAD0lEAAAAAAAPiUQAAAAAAA/JRAAAAAAAAAlUAAAAAAAAyVQAAAAAAAHJVAAAAAAAAklUAAAAAAACiVQAAAAAAALJVAAAAAAAAwlUAAAAAAADSVQAAAAAAAPJVAAAAAAABAlUAAAAAAAESVQAAAAAAASJVAAAAAAABMlUAAAAAAAFiVQAAAAAAAXJVAAAAAAABglUAAAAAAAGSVQAAAAAAAaJVAAAAAAABslUAAAAAAAHCVQAAAAAAAfJVAAAAAAACIlUAAAAAAAKSVQAAAAAAAsJVAAAAAAAC4lUAAAAAAAMSVQAAAAAAA0JVAAAAAAADclUAAAAAAAOCVQAAAAAAA5JVAAAAAAADslUAAAAAAAPCVQAAAAAAA9JVAAAAAAAD4lUAAAAAAAAyWQAAAAAAAFJZAAAAAAAAclkAAAAAAACCWQAAAAAAAJJZAAAAAAAAslkAAAAAAADiWQAAAAAAAPJZAAAAAAABElkAAAAAAAEyWQAAAAAAAUJZAAAAAAABUlkAAAAAAAFiWQAAAAAAAXJZAAAAAAABglkAAAAAAAICWQAAAAAAAhJZAAAAAAACIlkAAAAAAAIyWQAAAAAAAmJZAAAAAAAColkAAAAAAAKyWQAAAAAAAtJZAAAAAAAC4lkAAAAAAALyWQAAAAAAAyJZAAAAAAADQlkAAAAAAANSWQAAAAAAA2JZAAAAAAADclkAAAAAAAOSWQAAAAAAA8JZAAAAAAAD0lkAAAAAAAAiXQAAAAAAADJdAAAAAAAAQl0AAAAAAABSXQAAAAAAAGJdAAAAAAAAcl0AAAAAAACCXQAAAAAAAJJdAAAAAAAAsl0AAAAAAADiXQAAAAAAAQJdAAAAAAABEl0AAAAAAAFiXQAAAAAAAXJdAAAAAAABkl0AAAAAAAGyXQAAAAAAAcJdAAAAAAAB4l0AAAAAAAICXQAAAAAAAhJdAAAAAAACMl0AAAAAAAJCXQAAAAAAAlJdAAAAAAACYl0AAAAAAAKCXQAAAAAAApJdAAAAAAACsl0AAAAAAALCXQAAAAAAAtJdAAAAAAAC8l0AAAAAAAMCXQAAAAAAAxJdAAAAAAADIl0AAAAAAANSXQAAAAAAA2JdAAAAAAADgl0AAAAAAAOiXQAAAAAAA7JdAAAAAAADwl0AAAAAAAPiXQAAAAAAA/JdAAAAAAAAAmEAAAAAAAASYQAAAAAAAEJhAAAAAAAAYmEAAAAAAAByYQAAAAAAAIJhAAAAAAAAkmEAAAAAAACiYQAAAAAAALJhAAAAAAAAwmEAAAAAAADSYQAAAAAAASJhAAAAAAABQmEAAAAAAAFSYQAAAAAAAWJhAAAAAAABgmEAAAAAAAGiYQAAAAAAAbJhAAAAAAABwmEAAAAAAAHSYQAAAAAAAhJhAAAAAAACQmEAAAAAAAJSYQAAAAAAAnJhAAAAAAACgmEAAAAAAAKSYQAAAAAAAqJhAAAAAAACsmEAAAAAAALiYQAAAAAAAvJhAAAAAAADEmEAAAAAAANCYQAAAAAAA1JhAAAAAAADYmEAAAAAAANyYQAAAAAAA4JhAAAAAAADkmEAAAAAAAOiYQAAAAAAA7JhAAAAAAADwmEAAAAAAAPSYQAAAAAAA+JhAAAAAAAD8mEAAAAAAAACZQAAAAAAABJlAAAAAAAAImUAAAAAAAAyZQAAAAAAAEJlAAAAAAAAUmUAAAAAAABiZQAAAAAAAHJlAAAAAAAAgmUAAAAAAACSZQAAAAAAAKJlAAAAAAAAsmUAAAAAAADSZQAAAAAAAPJlAAAAAAABEmUAAAAAAAEiZQAAAAAAAVJlAAAAAAABYmUAAAAAAAFyZQAAAAAAAYJlAAAAAAABkmUAAAAAAAGiZQAAAAAAAbJlAAAAAAABwmUAAAAAAAHiZQAAAAAAAhJlAAAAAAACImUAAAAAAAIyZQAAAAAAAkJlAAAAAAACUmUAAAAAAAJyZQAAAAAAAoJlAAAAAAACkmUAAAAAAALCZQAAAAAAAtJlAAAAAAAC8mUAAAAAAAMyZQAAAAAAA0JlAAAAAAADUmUAAAAAAANiZQAAAAAAA3JlAAAAAAADgmUAAAAAAAOSZQAAAAAAA6JlAAAAAAADsmUAAAAAAAPCZQAAAAAAA/JlAAAAAAAAAmkAAAAAAAASaQAAAAAAADJpAAAAAAAAQmkAAAAAAABiaQAAAAAAAHJpAAAAAAAAgmkAAAAAAACiaQAAAAAAALJpAAAAAAAA0mkAAAAAAADiaQAAAAAAAPJpAAAAAAABAmkAAAAAAAESaQAAAAAAASJpAAAAAAABMmkAAAAAAAFSaQAAAAAAAWJpAAAAAAABcmkAAAAAAAHSaQAAAAAAAeJpAAAAAAAB8mkAAAAAAAICaQAAAAAAAhJpAAAAAAACImkAAAAAAAIyaQAAAAAAAkJpAAAAAAACUmkAAAAAAAJyaQAAAAAAApJpAAAAAAAComkAAAAAAAKyaQAAAAAAAsJpAAAAAAAC0mkAAAAAAALiaQAAAAAAAvJpAAAAAAADAmkAAAAAAAMSaQAAAAAAAyJpAAAAAAADMmkAAAAAAANCaQAAAAAAA2JpAAAAAAADcmkAAAAAAAOCaQAAAAAAA5JpAAAAAAADomkAAAAAAAACbQAAAAAAADJtAAAAAAAAUm0AAAAAAABibQAAAAAAAHJtAAAAAAAAgm0AAAAAAACSbQAAAAAAAMJtAAAAAAAA0m0AAAAAAADibQAAAAAAARJtAAAAAAABIm0AAAAAAAEybQAAAAAAAVJtAAAAAAABcm0AAAAAAAGCbQAAAAAAAZJtAAAAAAABom0AAAAAAAGybQAAAAAAAcJtAAAAAAAB0m0AAAAAAAICbQAAAAAAAiJtAAAAAAACUm0AAAAAAAJibQAAAAAAAoJtAAAAAAACkm0AAAAAAAKybQAAAAAAAsJtAAAAAAAC0m0AAAAAAALibQAAAAAAAvJtAAAAAAADAm0AAAAAAANCbQAAAAAAA1JtAAAAAAADYm0AAAAAAAOCbQAAAAAAA6JtAAAAAAADsm0AAAAAAAPCbQAAAAAAA/JtAAAAAAAAAnEAAAAAAAAScQAAAAAAAFJxAAAAAAAAYnEAAAAAAABycQAAAAAAAIJxAAAAAAAAknEAAAAAAACicQAAAAAAALJxAAAAAAAAwnEAAAAAAADicQAAAAAAAPJxAAAAAAABAnEAAAAAAAEScQAAAAAAATJxAAAAAAABQnEAAAAAAAFScQAAAAAAAXJxAAAAAAABgnEAAAAAAAGicQAAAAAAAcJxAAAAAAAB0nEAAAAAAAHycQAAAAAAAgJxAAAAAAACInEAAAAAAAJCcQAAAAAAAmJxAAAAAAACcnEAAAAAAAKCcQAAAAAAApJxAAAAAAAConEAAAAAAALCcQAAAAAAAvJxAAAAAAADAnEAAAAAAAMScQAAAAAAAyJxAAAAAAADgnEAAAAAAAOScQAAAAAAA6JxAAAAAAADsnEAAAAAAAPCcQAAAAAAA9JxAAAAAAAD8nEAAAAAAAACdQAAAAAAABJ1AAAAAAAAInUAAAAAAAAydQAAAAAAAFJ1AAAAAAAAYnUAAAAAAABydQAAAAAAAIJ1AAAAAAAAonUAAAAAAADCdQAAAAAAAPJ1AAAAAAABEnUAAAAAAAEidQAAAAAAATJ1AAAAAAABQnUAAAAAAAFidQAAAAAAAYJ1AAAAAAABknUAAAAAAAGidQAAAAAAAcJ1AAAAAAAB8nUAAAAAAAICdQAAAAAAAhJ1AAAAAAACInUAAAAAAAIydQAAAAAAAlJ1AAAAAAACcnUAAAAAAAKSdQAAAAAAAqJ1AAAAAAACsnUAAAAAAALCdQAAAAAAAtJ1AAAAAAADAnUAAAAAAAMSdQAAAAAAAyJ1AAAAAAADcnUAAAAAAAOCdQAAAAAAA5J1AAAAAAADonUAAAAAAAPCdQAAAAAAA9J1AAAAAAAD4nUAAAAAAAPydQAAAAAAABJ5AAAAAAAAInkAAAAAAABCeQAAAAAAAFJ5AAAAAAAAYnkAAAAAAAByeQAAAAAAAJJ5AAAAAAAAwnkAAAAAAADSeQAAAAAAAOJ5AAAAAAAA8nkAAAAAAAESeQAAAAAAATJ5AAAAAAABQnkAAAAAAAFyeQAAAAAAAYJ5AAAAAAABonkAAAAAAAGyeQAAAAAAAdJ5AAAAAAAB8nkAAAAAAAICeQAAAAAAAhJ5AAAAAAACInkAAAAAAAIyeQAAAAAAAlJ5AAAAAAACYnkAAAAAAAKieQAAAAAAAvJ5AAAAAAADAnkAAAAAAAMSeQAAAAAAAyJ5AAAAAAADUnkAAAAAAANieQAAAAAAA3J5AAAAAAADonkAAAAAAAOyeQAAAAAAA8J5AAAAAAAD0nkAAAAAAAPyeQAAAAAAAAJ9AAAAAAAAEn0AAAAAAAAifQAAAAAAAEJ9AAAAAAAAcn0AAAAAAACCfQAAAAAAAJJ9AAAAAAAAon0AAAAAAACyfQAAAAAAAMJ9AAAAAAAA4n0AAAAAAAECfQAAAAAAARJ9AAAAAAABQn0AAAAAAAFSfQAAAAAAAYJ9AAAAAAABkn0AAAAAAAGifQAAAAAAAbJ9AAAAAAABwn0AAAAAAAHSfQAAAAAAAgJ9AAAAAAACEn0AAAAAAAIyfQAAAAAAAoJ9AAAAAAACon0AAAAAAAKyfQAAAAAAAsJ9AAAAAAAC0n0AAAAAAALyfQAAAAAAAwJ9AAAAAAADMn0AAAAAAANCfQAAAAAAA2J9AAAAAAADcn0AAAAAAAOCfQAAAAAAA6J9AAAAAAADwn0AAAAAAAPSfQAAAAAAA+J9AAAAAAAD8n0AAAAAAAACgQAAAAAAAAqBAAAAAAAAIoEAAAAAAAAqgQAAAAAAADKBAAAAAAAAOoEAAAAAAABKgQAAAAAAAFKBAAAAAAAAYoEAAAAAAABqgQAAAAAAAHKBAAAAAAAAeoEAAAAAAACCgQAAAAAAAIqBAAAAAAAAkoEAAAAAAACagQAAAAAAAKKBAAAAAAAAqoEAAAAAAAC6gQAAAAAAAMKBAAAAAAAAyoEAAAAAAADSgQAAAAAAANqBAAAAAAAA4oEAAAAAAADygQAAAAAAAQqBAAAAAAABEoEAAAAAAAEagQAAAAAAATKBAAAAAAABQoEAAAAAAAFKgQAAAAAAAVKBAAAAAAABWoEAAAAAAAFqgQAAAAAAAXKBAAAAAAABeoEAAAAAAAGCgQAAAAAAAZKBAAAAAAABooEAAAAAAAGqgQAAAAAAAbKBAAAAAAABuoEAAAAAAAHKgQAAAAAAAdKBAAAAAAAB4oEAAAAAAAHqgQAAAAAAAfqBAAAAAAACAoEAAAAAAAIKgQAAAAAAAhKBAAAAAAACIoEAAAAAAAIygQAAAAAAAkKBAAAAAAACeoEAAAAAAAKCgQAAAAAAAoqBAAAAAAACkoEAAAAAAAKagQAAAAAAAqKBAAAAAAACqoEAAAAAAAKygQAAAAAAArqBAAAAAAACwoEAAAAAAALKgQAAAAAAAuqBAAAAAAAC8oEAAAAAAAL6gQAAAAAAAwKBAAAAAAADCoEAAAAAAAMSgQAAAAAAAxqBAAAAAAADIoEAAAAAAAMqgQAAAAAAA0KBAAAAAAADWoEAAAAAAANigQAAAAAAA3KBAAAAAAADeoEAAAAAAAOCgQAAAAAAA4qBAAAAAAADkoEAAAAAAAOagQAAAAAAA6KBAAAAAAADqoEAAAAAAAOygQAAAAAAA7qBAAAAAAADwoEAAAAAAAPKgQAAAAAAA9KBAAAAAAAD2oEAAAAAAAPigQAAAAAAA/KBAAAAAAAD+oEAAAAAAAAChQAAAAAAAAqFAAAAAAAAEoUAAAAAAAAihQAAAAAAACqFAAAAAAAAMoUAAAAAAABChQAAAAAAAFKFAAAAAAAAWoUAAAAAAABihQAAAAAAAGqFAAAAAAAAgoUAAAAAAACShQAAAAAAAJqFAAAAAAAAooUAAAAAAACqhQAAAAAAALKFAAAAAAAAuoUAAAAAAADChQAAAAAAANKFAAAAAAAA6oUAAAAAAAD6hQAAAAAAAQKFAAAAAAABCoUAAAAAAAEihQAAAAAAATKFAAAAAAABOoUAAAAAAAFChQAAAAAAAUqFAAAAAAABUoUAAAAAAAFahQAAAAAAAWqFAAAAAAABcoUAAAAAAAGahQAAAAAAAaKFAAAAAAABsoUAAAAAAAG6hQAAAAAAAcqFAAAAAAAB0oUAAAAAAAHahQAAAAAAAfKFAAAAAAACAoUAAAAAAAIKhQAAAAAAAhKFAAAAAAACGoUAAAAAAAIihQAAAAAAAjqFAAAAAAACQoUAAAAAAAJKhQAAAAAAAlKFAAAAAAACWoUAAAAAAAJqhQAAAAAAAnqFAAAAAAACgoUAAAAAAAKKhQAAAAAAApqFAAAAAAACooUAAAAAAAKqhQAAAAAAAsKFAAAAAAACyoUAAAAAAALShQAAAAAAAtqFAAAAAAADAoUAAAAAAAMKhQAAAAAAAxKFAAAAAAADGoUAAAAAAAMqhQAAAAAAAzqFAAAAAAADQoUAAAAAAANShQAAAAAAA2KFAAAAAAADaoUAAAAAAANyhQAAAAAAA3qFAAAAAAADgoUAAAAAAAOKhQA==\",\"dtype\":\"float64\",\"order\":\"little\",\"shape\":[1475]}},\"selected\":{\"id\":\"1584\"},\"selection_policy\":{\"id\":\"1583\"}},\"id\":\"1568\",\"type\":\"ColumnDataSource\"},{\"attributes\":{\"data_source\":{\"id\":\"1550\"},\"glyph\":{\"id\":\"1552\"},\"hover_glyph\":null,\"muted_glyph\":null,\"nonselection_glyph\":{\"id\":\"1553\"},\"view\":{\"id\":\"1555\"}},\"id\":\"1554\",\"type\":\"GlyphRenderer\"},{\"attributes\":{},\"id\":\"1533\",\"type\":\"BasicTicker\"},{\"attributes\":{\"axis_label\":\"Reconstruction Error\",\"formatter\":{\"id\":\"1560\"},\"major_label_policy\":{\"id\":\"1562\"},\"ticker\":{\"id\":\"1533\"}},\"id\":\"1532\",\"type\":\"LinearAxis\"},{\"attributes\":{\"fill_alpha\":{\"value\":0.6},\"fill_color\":{\"value\":\"crimson\"},\"line_color\":{\"value\":null},\"x\":{\"field\":\"index\"},\"y\":{\"field\":\"error\"}},\"id\":\"1552\",\"type\":\"Scatter\"},{\"attributes\":{\"label\":{\"value\":\"Normal Signals\"},\"renderers\":[{\"id\":\"1554\"}]},\"id\":\"1567\",\"type\":\"LegendItem\"},{\"attributes\":{\"label\":{\"value\":\"Abnormal Signals\"},\"renderers\":[{\"id\":\"1572\"}]},\"id\":\"1586\",\"type\":\"LegendItem\"}],\"root_ids\":[\"1517\"]},\"title\":\"Bokeh Application\",\"version\":\"2.3.2\"}};\n",
       "  var render_items = [{\"docid\":\"98db513a-6995-4969-a732-9222bcd94097\",\"root_ids\":[\"1517\"],\"roots\":{\"1517\":\"4a8a0173-d2f6-4c04-a162-3f670e09ae13\"}}];\n",
       "  root.Bokeh.embed.embed_items_notebook(docs_json, render_items);\n",
       "\n",
       "  }\n",
       "  if (root.Bokeh !== undefined) {\n",
       "    embed_document(root);\n",
       "  } else {\n",
       "    var attempts = 0;\n",
       "    var timer = setInterval(function(root) {\n",
       "      if (root.Bokeh !== undefined) {\n",
       "        clearInterval(timer);\n",
       "        embed_document(root);\n",
       "      } else {\n",
       "        attempts++;\n",
       "        if (attempts > 100) {\n",
       "          clearInterval(timer);\n",
       "          console.log(\"Bokeh: ERROR: Unable to run BokehJS code because BokehJS library is missing\");\n",
       "        }\n",
       "      }\n",
       "    }, 10, root)\n",
       "  }\n",
       "})(window);"
      ],
      "application/vnd.bokehjs_exec.v0+json": ""
     },
     "metadata": {
      "application/vnd.bokehjs_exec.v0+json": {
       "id": "1517"
      }
     },
     "output_type": "display_data"
    }
   ],
   "source": [
    "THRESHOLD_MIN = 2.0\n",
    "THRESHOLD_MAX = 7.0\n",
    "\n",
    "p = figure(\n",
    "    plot_width=600,\n",
    "    plot_height=400,\n",
    "    title=f\"{MODEL_NAME}: Threshold Range Exploration\",\n",
    "    x_axis_label=\"Samples\",\n",
    "    y_axis_label=\"Reconstruction Error\",\n",
    ")\n",
    "\n",
    "source = ColumnDataSource(\n",
    "    dict(index=stack[test_labels == 0][:, 0], error=stack[test_labels == 0][:, 1])\n",
    ")\n",
    "p.scatter(\n",
    "    \"index\",\n",
    "    \"error\",\n",
    "    fill_alpha=0.6,\n",
    "    fill_color=\"crimson\",\n",
    "    line_color=None,\n",
    "    legend_label=\"Normal Signals\",\n",
    "    source=source,\n",
    ")\n",
    "\n",
    "source = ColumnDataSource(\n",
    "    dict(index=stack[test_labels == 1][:, 0], error=stack[test_labels == 1][:, 1])\n",
    ")\n",
    "p.scatter(\n",
    "    \"index\",\n",
    "    \"error\",\n",
    "    fill_alpha=0.6,\n",
    "    fill_color=\"indigo\",\n",
    "    line_color=None,\n",
    "    legend_label=\"Abnormal Signals\",\n",
    "    source=source,\n",
    ")\n",
    "\n",
    "source = ColumnDataSource(\n",
    "    data=dict(\n",
    "        index=stack[:, 0],\n",
    "        threshold_min=np.repeat(THRESHOLD_MIN, stack.shape[0]),\n",
    "        threshold_max=np.repeat(THRESHOLD_MAX, stack.shape[0]),\n",
    "    )\n",
    ")\n",
    "\n",
    "box = BoxAnnotation(\n",
    "    bottom=THRESHOLD_MIN,\n",
    "    top=THRESHOLD_MAX,\n",
    "    fill_alpha=0.1,\n",
    "    fill_color=\"magenta\",\n",
    "    line_color=\"darkmagenta\",\n",
    "    line_width=1.0,\n",
    ")\n",
    "p.add_layout(box)\n",
    "\n",
    "p.legend.label_text_font_size = \"8pt\"\n",
    "p.legend.location = \"top_right\"\n",
    "p.title.align = \"center\"\n",
    "p.title.text_font_size = \"12pt\"\n",
    "\n",
    "p.add_tools(HoverTool(tooltips=[(\"index\", \"@index\"), (\"error\", \"@error\")]))\n",
    "show(p)\n",
    "\n",
    "p.output_backend = \"svg\"\n",
    "_ = export_svgs(p, filename=os.path.join(IMAGE_PATH, \"thr_range_exp.svg\"))"
   ]
  },
  {
   "cell_type": "code",
   "execution_count": 17,
   "id": "8e942a91-6fd4-43d9-a85f-2f9b82ed8e9d",
   "metadata": {},
   "outputs": [],
   "source": [
    "THRESHOLD_STEP = 0.2\n",
    "thresholds = np.arange(THRESHOLD_MIN, THRESHOLD_MAX + THRESHOLD_STEP, THRESHOLD_STEP)\n",
    "errors = []\n",
    "\n",
    "for threshold in thresholds:\n",
    "    predictions = get_prediction(stack[:, 1], threshold=threshold)\n",
    "    conf_mat = confusion_matrix(test_labels, predictions)\n",
    "    errors.append([threshold, conf_mat[1, 0], conf_mat[0, 1]])\n",
    "\n",
    "errors = np.array(errors)"
   ]
  },
  {
   "cell_type": "code",
   "execution_count": 18,
   "id": "b27ade12-c641-40bd-893c-9773242b1220",
   "metadata": {},
   "outputs": [
    {
     "data": {
      "text/html": [
       "\n",
       "\n",
       "\n",
       "\n",
       "\n",
       "\n",
       "  <div class=\"bk-root\" id=\"4b86dc64-b8ab-4271-a0d9-18a7f9ab9b20\" data-root-id=\"1817\"></div>\n"
      ]
     },
     "metadata": {},
     "output_type": "display_data"
    },
    {
     "data": {
      "application/javascript": [
       "(function(root) {\n",
       "  function embed_document(root) {\n",
       "    \n",
       "  var docs_json = {\"c95e114d-c2a0-4099-976d-4479ec4b9139\":{\"defs\":[],\"roots\":{\"references\":[{\"attributes\":{\"below\":[{\"id\":\"1828\"}],\"center\":[{\"id\":\"1831\"},{\"id\":\"1835\"},{\"id\":\"1866\"}],\"height\":400,\"left\":[{\"id\":\"1832\"}],\"renderers\":[{\"id\":\"1854\"},{\"id\":\"1871\"},{\"id\":\"1876\"},{\"id\":\"1892\"}],\"title\":{\"id\":\"1818\"},\"toolbar\":{\"id\":\"1843\"},\"x_range\":{\"id\":\"1820\"},\"x_scale\":{\"id\":\"1824\"},\"y_range\":{\"id\":\"1822\"},\"y_scale\":{\"id\":\"1826\"}},\"id\":\"1817\",\"subtype\":\"Figure\",\"type\":\"Plot\"},{\"attributes\":{\"data\":{\"false_negative\":{\"__ndarray__\":\"AAAAAAAAAAAAAAAAAAAAAAAAAAAAAAAAAAAAAAAAAAAAAAAAAAAAAAAAAAAAAAAAAAAAAAAAN0AAAAAAAEBSQAAAAAAAoGJAAAAAAAAgbUAAAAAAADB0QAAAAAAAAHpAAAAAAABQgEAAAAAAAMCCQAAAAAAA8IRAAAAAAACghkAAAAAAAECIQAAAAAAAuIlAAAAAAACIi0AAAAAAAIiNQAAAAAAAQI9AAAAAAAB8kEAAAAAAACiRQAAAAAAAuJFAAAAAAAD4kUAAAAAAAFiSQA==\",\"dtype\":\"float64\",\"order\":\"little\",\"shape\":[26]},\"false_positive\":{\"__ndarray__\":\"AAAAAAB4iUAAAAAAAHiJQAAAAAAAKIhAAAAAAADwhkAAAAAAAACBQAAAAAAAwHpAAAAAAAAgckAAAAAAAOBnQAAAAAAAgF5AAAAAAAAAV0AAAAAAAABTQAAAAAAAgE9AAAAAAAAASkAAAAAAAABEQAAAAAAAAEFAAAAAAAAAPEAAAAAAAAA3QAAAAAAAADRAAAAAAAAALkAAAAAAAAAsQAAAAAAAACJAAAAAAAAAIkAAAAAAAAAgQAAAAAAAACBAAAAAAAAAHEAAAAAAAAAUQA==\",\"dtype\":\"float64\",\"order\":\"little\",\"shape\":[26]},\"threshold\":{\"__ndarray__\":\"AAAAAAAAAECamZmZmZkBQDQzMzMzMwNAzszMzMzMBEBoZmZmZmYGQAIAAAAAAAhAnJmZmZmZCUA2MzMzMzMLQNDMzMzMzAxAamZmZmZmDkACAAAAAAAQQM/MzMzMzBBAnJmZmZmZEUBpZmZmZmYSQDYzMzMzMxNAAwAAAAAAFEDQzMzMzMwUQJ2ZmZmZmRVAamZmZmZmFkA3MzMzMzMXQAQAAAAAABhA0czMzMzMGECemZmZmZkZQGtmZmZmZhpAODMzMzMzG0AFAAAAAAAcQA==\",\"dtype\":\"float64\",\"order\":\"little\",\"shape\":[26]}},\"selected\":{\"id\":\"1864\"},\"selection_policy\":{\"id\":\"1863\"}},\"id\":\"1850\",\"type\":\"ColumnDataSource\"},{\"attributes\":{},\"id\":\"1836\",\"type\":\"PanTool\"},{\"attributes\":{},\"id\":\"1862\",\"type\":\"AllLabels\"},{\"attributes\":{\"axis\":{\"id\":\"1828\"},\"ticker\":null},\"id\":\"1831\",\"type\":\"Grid\"},{\"attributes\":{},\"id\":\"1841\",\"type\":\"HelpTool\"},{\"attributes\":{},\"id\":\"1826\",\"type\":\"LinearScale\"},{\"attributes\":{\"click_policy\":\"hide\",\"items\":[{\"id\":\"1867\"},{\"id\":\"1888\"}],\"label_text_font_size\":\"8pt\",\"location\":\"top_left\"},\"id\":\"1866\",\"type\":\"Legend\"},{\"attributes\":{\"source\":{\"id\":\"1850\"}},\"id\":\"1877\",\"type\":\"CDSView\"},{\"attributes\":{},\"id\":\"1833\",\"type\":\"BasicTicker\"},{\"attributes\":{},\"id\":\"1864\",\"type\":\"Selection\"},{\"attributes\":{\"axis_label\":\"# Samples\",\"formatter\":{\"id\":\"1860\"},\"major_label_policy\":{\"id\":\"1862\"},\"ticker\":{\"id\":\"1833\"}},\"id\":\"1832\",\"type\":\"LinearAxis\"},{\"attributes\":{\"source\":{\"id\":\"1850\"}},\"id\":\"1872\",\"type\":\"CDSView\"},{\"attributes\":{\"overlay\":{\"id\":\"1842\"}},\"id\":\"1838\",\"type\":\"BoxZoomTool\"},{\"attributes\":{\"callback\":null,\"tooltips\":[[\"threshold\",\"@threshold\"],[\"false_negative\",\"@false_negative\"],[\"false_positive\",\"@false_positive\"]]},\"id\":\"1894\",\"type\":\"HoverTool\"},{\"attributes\":{},\"id\":\"1839\",\"type\":\"SaveTool\"},{\"attributes\":{\"line_alpha\":0.1,\"line_color\":\"crimson\",\"x\":{\"field\":\"threshold\"},\"y\":{\"field\":\"false_negative\"}},\"id\":\"1853\",\"type\":\"Line\"},{\"attributes\":{\"fill_alpha\":{\"value\":0.1},\"fill_color\":{\"value\":\"white\"},\"line_alpha\":{\"value\":0.1},\"line_color\":{\"value\":\"indigo\"},\"x\":{\"field\":\"threshold\"},\"y\":{\"field\":\"false_positive\"}},\"id\":\"1891\",\"type\":\"Circle\"},{\"attributes\":{},\"id\":\"1820\",\"type\":\"DataRange1d\"},{\"attributes\":{\"line_alpha\":0.1,\"line_color\":\"indigo\",\"x\":{\"field\":\"threshold\"},\"y\":{\"field\":\"false_positive\"}},\"id\":\"1875\",\"type\":\"Line\"},{\"attributes\":{\"active_multi\":null,\"tools\":[{\"id\":\"1836\"},{\"id\":\"1837\"},{\"id\":\"1838\"},{\"id\":\"1839\"},{\"id\":\"1840\"},{\"id\":\"1841\"},{\"id\":\"1894\"}]},\"id\":\"1843\",\"type\":\"Toolbar\"},{\"attributes\":{\"axis_label\":\"Reconstruction Error Threshold (%)\",\"formatter\":{\"id\":\"1857\"},\"major_label_policy\":{\"id\":\"1859\"},\"ticker\":{\"id\":\"1829\"}},\"id\":\"1828\",\"type\":\"LinearAxis\"},{\"attributes\":{\"data_source\":{\"id\":\"1850\"},\"glyph\":{\"id\":\"1890\"},\"hover_glyph\":null,\"muted_glyph\":null,\"nonselection_glyph\":{\"id\":\"1891\"},\"view\":{\"id\":\"1893\"}},\"id\":\"1892\",\"type\":\"GlyphRenderer\"},{\"attributes\":{\"source\":{\"id\":\"1850\"}},\"id\":\"1893\",\"type\":\"CDSView\"},{\"attributes\":{\"fill_color\":{\"value\":\"white\"},\"line_color\":{\"value\":\"crimson\"},\"x\":{\"field\":\"threshold\"},\"y\":{\"field\":\"false_negative\"}},\"id\":\"1869\",\"type\":\"Circle\"},{\"attributes\":{},\"id\":\"1824\",\"type\":\"LinearScale\"},{\"attributes\":{\"align\":\"center\",\"text\":\"AutoEncoder: Best Threshold Exploration\",\"text_font_size\":\"12pt\"},\"id\":\"1818\",\"type\":\"Title\"},{\"attributes\":{\"line_color\":\"crimson\",\"x\":{\"field\":\"threshold\"},\"y\":{\"field\":\"false_negative\"}},\"id\":\"1852\",\"type\":\"Line\"},{\"attributes\":{},\"id\":\"1822\",\"type\":\"DataRange1d\"},{\"attributes\":{\"bottom_units\":\"screen\",\"fill_alpha\":0.5,\"fill_color\":\"lightgrey\",\"left_units\":\"screen\",\"level\":\"overlay\",\"line_alpha\":1.0,\"line_color\":\"black\",\"line_dash\":[4,4],\"line_width\":2,\"right_units\":\"screen\",\"syncable\":false,\"top_units\":\"screen\"},\"id\":\"1842\",\"type\":\"BoxAnnotation\"},{\"attributes\":{\"axis\":{\"id\":\"1832\"},\"dimension\":1,\"ticker\":null},\"id\":\"1835\",\"type\":\"Grid\"},{\"attributes\":{\"fill_color\":{\"value\":\"white\"},\"line_color\":{\"value\":\"indigo\"},\"x\":{\"field\":\"threshold\"},\"y\":{\"field\":\"false_positive\"}},\"id\":\"1890\",\"type\":\"Circle\"},{\"attributes\":{},\"id\":\"1829\",\"type\":\"BasicTicker\"},{\"attributes\":{},\"id\":\"1860\",\"type\":\"BasicTickFormatter\"},{\"attributes\":{},\"id\":\"1837\",\"type\":\"WheelZoomTool\"},{\"attributes\":{\"line_color\":\"indigo\",\"x\":{\"field\":\"threshold\"},\"y\":{\"field\":\"false_positive\"}},\"id\":\"1874\",\"type\":\"Line\"},{\"attributes\":{},\"id\":\"1857\",\"type\":\"BasicTickFormatter\"},{\"attributes\":{\"label\":{\"value\":\"False Positive\"},\"renderers\":[{\"id\":\"1876\"}]},\"id\":\"1888\",\"type\":\"LegendItem\"},{\"attributes\":{\"data_source\":{\"id\":\"1850\"},\"glyph\":{\"id\":\"1874\"},\"hover_glyph\":null,\"muted_glyph\":null,\"nonselection_glyph\":{\"id\":\"1875\"},\"view\":{\"id\":\"1877\"}},\"id\":\"1876\",\"type\":\"GlyphRenderer\"},{\"attributes\":{\"label\":{\"value\":\"False Negative\"},\"renderers\":[{\"id\":\"1854\"}]},\"id\":\"1867\",\"type\":\"LegendItem\"},{\"attributes\":{\"source\":{\"id\":\"1850\"}},\"id\":\"1855\",\"type\":\"CDSView\"},{\"attributes\":{},\"id\":\"1859\",\"type\":\"AllLabels\"},{\"attributes\":{},\"id\":\"1840\",\"type\":\"ResetTool\"},{\"attributes\":{},\"id\":\"1863\",\"type\":\"UnionRenderers\"},{\"attributes\":{\"fill_alpha\":{\"value\":0.1},\"fill_color\":{\"value\":\"white\"},\"line_alpha\":{\"value\":0.1},\"line_color\":{\"value\":\"crimson\"},\"x\":{\"field\":\"threshold\"},\"y\":{\"field\":\"false_negative\"}},\"id\":\"1870\",\"type\":\"Circle\"},{\"attributes\":{\"data_source\":{\"id\":\"1850\"},\"glyph\":{\"id\":\"1852\"},\"hover_glyph\":null,\"muted_glyph\":null,\"nonselection_glyph\":{\"id\":\"1853\"},\"view\":{\"id\":\"1855\"}},\"id\":\"1854\",\"type\":\"GlyphRenderer\"},{\"attributes\":{\"data_source\":{\"id\":\"1850\"},\"glyph\":{\"id\":\"1869\"},\"hover_glyph\":null,\"muted_glyph\":null,\"nonselection_glyph\":{\"id\":\"1870\"},\"view\":{\"id\":\"1872\"}},\"id\":\"1871\",\"type\":\"GlyphRenderer\"}],\"root_ids\":[\"1817\"]},\"title\":\"Bokeh Application\",\"version\":\"2.3.2\"}};\n",
       "  var render_items = [{\"docid\":\"c95e114d-c2a0-4099-976d-4479ec4b9139\",\"root_ids\":[\"1817\"],\"roots\":{\"1817\":\"4b86dc64-b8ab-4271-a0d9-18a7f9ab9b20\"}}];\n",
       "  root.Bokeh.embed.embed_items_notebook(docs_json, render_items);\n",
       "\n",
       "  }\n",
       "  if (root.Bokeh !== undefined) {\n",
       "    embed_document(root);\n",
       "  } else {\n",
       "    var attempts = 0;\n",
       "    var timer = setInterval(function(root) {\n",
       "      if (root.Bokeh !== undefined) {\n",
       "        clearInterval(timer);\n",
       "        embed_document(root);\n",
       "      } else {\n",
       "        attempts++;\n",
       "        if (attempts > 100) {\n",
       "          clearInterval(timer);\n",
       "          console.log(\"Bokeh: ERROR: Unable to run BokehJS code because BokehJS library is missing\");\n",
       "        }\n",
       "      }\n",
       "    }, 10, root)\n",
       "  }\n",
       "})(window);"
      ],
      "application/vnd.bokehjs_exec.v0+json": ""
     },
     "metadata": {
      "application/vnd.bokehjs_exec.v0+json": {
       "id": "1817"
      }
     },
     "output_type": "display_data"
    }
   ],
   "source": [
    "p = figure(\n",
    "    plot_width=600,\n",
    "    plot_height=400,\n",
    "    title=f\"{MODEL_NAME}: Best Threshold Exploration\",\n",
    "    x_axis_label=\"Reconstruction Error Threshold (%)\",\n",
    "    y_axis_label=\"# Samples\",\n",
    ")\n",
    "\n",
    "source = ColumnDataSource(\n",
    "    data=dict(\n",
    "        threshold=errors[:, 0], false_negative=errors[:, 1], false_positive=errors[:, 2]\n",
    "    )\n",
    ")\n",
    "\n",
    "p.line(\n",
    "    x=\"threshold\",\n",
    "    y=\"false_negative\",\n",
    "    color=\"crimson\",\n",
    "    legend_label=\"False Negative\",\n",
    "    source=source,\n",
    ")\n",
    "p.circle(\n",
    "    x=\"threshold\", y=\"false_negative\", color=\"crimson\", fill_color=\"white\", source=source\n",
    ")\n",
    "p.line(\n",
    "    x=\"threshold\",\n",
    "    y=\"false_positive\",\n",
    "    color=\"indigo\",\n",
    "    legend_label=\"False Positive\",\n",
    "    source=source,\n",
    ")\n",
    "p.circle(\n",
    "    x=\"threshold\", y=\"false_positive\", color=\"indigo\", fill_color=\"white\", source=source\n",
    ")\n",
    "\n",
    "p.legend.label_text_font_size = \"8pt\"\n",
    "p.legend.location = \"top_left\"\n",
    "p.legend.click_policy = \"hide\"\n",
    "p.title.align = \"center\"\n",
    "p.title.text_font_size = \"12pt\"\n",
    "\n",
    "p.add_tools(\n",
    "    HoverTool(\n",
    "        tooltips=[\n",
    "            (\"threshold\", \"@threshold\"),\n",
    "            (\"false_negative\", \"@false_negative\"),\n",
    "            (\"false_positive\", \"@false_positive\"),\n",
    "        ]\n",
    "    )\n",
    ")\n",
    "show(p)\n",
    "\n",
    "p.output_backend = \"svg\"\n",
    "_ = export_svgs(p, filename=os.path.join(IMAGE_PATH, \"best_thr_exp.svg\"))"
   ]
  },
  {
   "cell_type": "code",
   "execution_count": 19,
   "id": "025c99d8-8cc3-4891-99fb-ce34f716c455",
   "metadata": {},
   "outputs": [
    {
     "data": {
      "text/html": [
       "\n",
       "\n",
       "\n",
       "\n",
       "\n",
       "\n",
       "  <div class=\"bk-root\" id=\"d058897a-6616-48ad-a6cf-8ed0820c11ca\" data-root-id=\"2100\"></div>\n"
      ]
     },
     "metadata": {},
     "output_type": "display_data"
    },
    {
     "data": {
      "application/javascript": [
       "(function(root) {\n",
       "  function embed_document(root) {\n",
       "    \n",
       "  var docs_json = {\"184eb314-3992-4512-8b35-630587381862\":{\"defs\":[],\"roots\":{\"references\":[{\"attributes\":{\"below\":[{\"id\":\"2111\"}],\"center\":[{\"id\":\"2114\"},{\"id\":\"2118\"},{\"id\":\"2140\"},{\"id\":\"2141\"},{\"id\":\"2142\"},{\"id\":\"2143\"}],\"height\":300,\"left\":[{\"id\":\"2115\"}],\"renderers\":[{\"id\":\"2138\"}],\"title\":{\"id\":\"2101\"},\"toolbar\":{\"id\":\"2126\"},\"width\":330,\"x_range\":{\"id\":\"2103\"},\"x_scale\":{\"id\":\"2107\"},\"y_range\":{\"id\":\"2105\"},\"y_scale\":{\"id\":\"2109\"}},\"id\":\"2100\",\"subtype\":\"Figure\",\"type\":\"Plot\"},{\"attributes\":{\"axis\":{\"id\":\"2115\"},\"dimension\":1,\"grid_line_color\":null,\"ticker\":null},\"id\":\"2118\",\"type\":\"Grid\"},{\"attributes\":{\"text\":\"149\",\"text_baseline\":\"middle\",\"text_color\":\"white\",\"text_font_size\":\"10px\",\"text_font_style\":\"bold\",\"x\":1,\"x_offset\":-6.5,\"y\":0},\"id\":\"2142\",\"type\":\"Label\"},{\"attributes\":{},\"id\":\"2122\",\"type\":\"SaveTool\"},{\"attributes\":{\"axis_label\":\"Predicted Class\",\"axis_line_color\":null,\"formatter\":{\"id\":\"2194\"},\"major_label_overrides\":{\"0\":\"False\",\"1\":\"True\"},\"major_label_policy\":{\"id\":\"2195\"},\"major_tick_line_color\":null,\"minor_tick_line_color\":null,\"ticker\":{\"id\":\"2146\"}},\"id\":\"2115\",\"type\":\"LinearAxis\"},{\"attributes\":{},\"id\":\"2120\",\"type\":\"WheelZoomTool\"},{\"attributes\":{\"fill_alpha\":{\"value\":0.6},\"fill_color\":{\"field\":\"n_samples\",\"transform\":{\"id\":\"2133\"}},\"height\":{\"value\":1},\"line_alpha\":{\"value\":0.6},\"line_color\":{\"value\":\"white\"},\"line_width\":{\"value\":1.5},\"width\":{\"value\":1},\"x\":{\"field\":\"true_class\"},\"y\":{\"field\":\"predicted_class\"}},\"id\":\"2136\",\"type\":\"Rect\"},{\"attributes\":{\"active_multi\":null,\"tools\":[{\"id\":\"2119\"},{\"id\":\"2120\"},{\"id\":\"2121\"},{\"id\":\"2122\"},{\"id\":\"2123\"},{\"id\":\"2124\"}]},\"id\":\"2126\",\"type\":\"Toolbar\"},{\"attributes\":{},\"id\":\"2192\",\"type\":\"BasicTickFormatter\"},{\"attributes\":{\"text\":\"122\",\"text_baseline\":\"middle\",\"text_color\":\"white\",\"text_font_size\":\"10px\",\"text_font_style\":\"bold\",\"x\":0,\"x_offset\":-6.5,\"y\":1},\"id\":\"2141\",\"type\":\"Label\"},{\"attributes\":{\"data_source\":{\"id\":\"2134\"},\"glyph\":{\"id\":\"2136\"},\"hover_glyph\":null,\"muted_glyph\":null,\"nonselection_glyph\":{\"id\":\"2137\"},\"view\":{\"id\":\"2139\"}},\"id\":\"2138\",\"type\":\"GlyphRenderer\"},{\"attributes\":{},\"id\":\"2103\",\"type\":\"DataRange1d\"},{\"attributes\":{},\"id\":\"2119\",\"type\":\"PanTool\"},{\"attributes\":{\"overlay\":{\"id\":\"2125\"}},\"id\":\"2121\",\"type\":\"BoxZoomTool\"},{\"attributes\":{},\"id\":\"2194\",\"type\":\"BasicTickFormatter\"},{\"attributes\":{\"ticks\":[0,1]},\"id\":\"2146\",\"type\":\"FixedTicker\"},{\"attributes\":{\"align\":\"center\",\"text\":\"AutoEncoder: Confusion Matrix\"},\"id\":\"2101\",\"type\":\"Title\"},{\"attributes\":{\"high\":1326,\"low\":122,\"palette\":[\"#000000\",\"#010101\",\"#020202\",\"#030303\",\"#040404\",\"#050505\",\"#060606\",\"#070707\",\"#080808\",\"#090909\",\"#0a0a0a\",\"#0b0b0b\",\"#0c0c0c\",\"#0d0d0d\",\"#0e0e0e\",\"#0f0f0f\",\"#101010\",\"#111111\",\"#121212\",\"#131313\",\"#141414\",\"#151515\",\"#161616\",\"#171717\",\"#181818\",\"#191919\",\"#1a1a1a\",\"#1b1b1b\",\"#1c1c1c\",\"#1d1d1d\",\"#1e1e1e\",\"#1f1f1f\",\"#202020\",\"#212121\",\"#222222\",\"#232323\",\"#242424\",\"#252525\",\"#262626\",\"#272727\",\"#282828\",\"#292929\",\"#2a2a2a\",\"#2b2b2b\",\"#2c2c2c\",\"#2d2d2d\",\"#2e2e2e\",\"#2f2f2f\",\"#303030\",\"#313131\",\"#323232\",\"#333333\",\"#343434\",\"#353535\",\"#363636\",\"#373737\",\"#383838\",\"#393939\",\"#3a3a3a\",\"#3b3b3b\",\"#3c3c3c\",\"#3d3d3d\",\"#3e3e3e\",\"#3f3f3f\",\"#404040\",\"#414141\",\"#424242\",\"#434343\",\"#444444\",\"#454545\",\"#464646\",\"#474747\",\"#484848\",\"#494949\",\"#4a4a4a\",\"#4b4b4b\",\"#4c4c4c\",\"#4d4d4d\",\"#4e4e4e\",\"#4f4f4f\",\"#505050\",\"#515151\",\"#525252\",\"#535353\",\"#545454\",\"#555555\",\"#565656\",\"#575757\",\"#585858\",\"#595959\",\"#5a5a5a\",\"#5b5b5b\",\"#5c5c5c\",\"#5d5d5d\",\"#5e5e5e\",\"#5f5f5f\",\"#606060\",\"#616161\",\"#626262\",\"#636363\",\"#646464\",\"#656565\",\"#666666\",\"#676767\",\"#686868\",\"#696969\",\"#6a6a6a\",\"#6b6b6b\",\"#6c6c6c\",\"#6d6d6d\",\"#6e6e6e\",\"#6f6f6f\",\"#707070\",\"#717171\",\"#727272\",\"#737373\",\"#747474\",\"#757575\",\"#767676\",\"#777777\",\"#787878\",\"#797979\",\"#7a7a7a\",\"#7b7b7b\",\"#7c7c7c\",\"#7d7d7d\",\"#7e7e7e\",\"#7f7f7f\",\"#808080\",\"#818181\",\"#828282\",\"#838383\",\"#848484\",\"#858585\",\"#868686\",\"#878787\",\"#888888\",\"#898989\",\"#8a8a8a\",\"#8b8b8b\",\"#8c8c8c\",\"#8d8d8d\",\"#8e8e8e\",\"#8f8f8f\",\"#909090\",\"#919191\",\"#929292\",\"#939393\",\"#949494\",\"#959595\",\"#969696\",\"#979797\",\"#989898\",\"#999999\",\"#9a9a9a\",\"#9b9b9b\",\"#9c9c9c\",\"#9d9d9d\",\"#9e9e9e\",\"#9f9f9f\",\"#a0a0a0\",\"#a1a1a1\",\"#a2a2a2\",\"#a3a3a3\",\"#a4a4a4\",\"#a5a5a5\",\"#a6a6a6\",\"#a7a7a7\",\"#a8a8a8\",\"#a9a9a9\",\"#aaaaaa\",\"#ababab\",\"#acacac\",\"#adadad\",\"#aeaeae\",\"#afafaf\",\"#b0b0b0\",\"#b1b1b1\",\"#b2b2b2\",\"#b3b3b3\",\"#b4b4b4\",\"#b5b5b5\",\"#b6b6b6\",\"#b7b7b7\",\"#b8b8b8\",\"#b9b9b9\",\"#bababa\",\"#bbbbbb\",\"#bcbcbc\",\"#bdbdbd\",\"#bebebe\",\"#bfbfbf\",\"#c0c0c0\",\"#c1c1c1\",\"#c2c2c2\",\"#c3c3c3\",\"#c4c4c4\",\"#c5c5c5\",\"#c6c6c6\",\"#c7c7c7\",\"#c8c8c8\",\"#c9c9c9\",\"#cacaca\",\"#cbcbcb\",\"#cccccc\",\"#cdcdcd\",\"#cecece\",\"#cfcfcf\",\"#d0d0d0\",\"#d1d1d1\",\"#d2d2d2\",\"#d3d3d3\",\"#d4d4d4\",\"#d5d5d5\",\"#d6d6d6\",\"#d7d7d7\",\"#d8d8d8\",\"#d9d9d9\",\"#dadada\",\"#dbdbdb\",\"#dcdcdc\",\"#dddddd\",\"#dedede\",\"#dfdfdf\",\"#e0e0e0\",\"#e1e1e1\",\"#e2e2e2\",\"#e3e3e3\",\"#e4e4e4\",\"#e5e5e5\",\"#e6e6e6\",\"#e7e7e7\",\"#e8e8e8\",\"#e9e9e9\",\"#eaeaea\",\"#ebebeb\",\"#ececec\",\"#ededed\",\"#eeeeee\",\"#efefef\",\"#f0f0f0\",\"#f1f1f1\",\"#f2f2f2\",\"#f3f3f3\",\"#f4f4f4\",\"#f5f5f5\",\"#f6f6f6\",\"#f7f7f7\",\"#f8f8f8\",\"#f9f9f9\",\"#fafafa\",\"#fbfbfb\",\"#fcfcfc\",\"#fdfdfd\",\"#fefefe\",\"#ffffff\"]},\"id\":\"2133\",\"type\":\"LinearColorMapper\"},{\"attributes\":{},\"id\":\"2123\",\"type\":\"ResetTool\"},{\"attributes\":{},\"id\":\"2107\",\"type\":\"LinearScale\"},{\"attributes\":{\"fill_alpha\":{\"value\":0.1},\"fill_color\":{\"field\":\"n_samples\",\"transform\":{\"id\":\"2133\"}},\"height\":{\"value\":1},\"line_alpha\":{\"value\":0.1},\"line_color\":{\"value\":\"white\"},\"line_width\":{\"value\":1.5},\"width\":{\"value\":1},\"x\":{\"field\":\"true_class\"},\"y\":{\"field\":\"predicted_class\"}},\"id\":\"2137\",\"type\":\"Rect\"},{\"attributes\":{},\"id\":\"2197\",\"type\":\"Selection\"},{\"attributes\":{},\"id\":\"2109\",\"type\":\"LinearScale\"},{\"attributes\":{\"axis\":{\"id\":\"2111\"},\"grid_line_color\":null,\"ticker\":null},\"id\":\"2114\",\"type\":\"Grid\"},{\"attributes\":{\"text\":\"1326\",\"text_baseline\":\"middle\",\"text_color\":\"black\",\"text_font_size\":\"10px\",\"text_font_style\":\"bold\",\"x\":1,\"x_offset\":-7.5,\"y\":1},\"id\":\"2143\",\"type\":\"Label\"},{\"attributes\":{\"source\":{\"id\":\"2134\"}},\"id\":\"2139\",\"type\":\"CDSView\"},{\"attributes\":{},\"id\":\"2193\",\"type\":\"AllLabels\"},{\"attributes\":{},\"id\":\"2196\",\"type\":\"UnionRenderers\"},{\"attributes\":{},\"id\":\"2105\",\"type\":\"DataRange1d\"},{\"attributes\":{},\"id\":\"2195\",\"type\":\"AllLabels\"},{\"attributes\":{\"axis_label\":\"True Class\",\"axis_line_color\":null,\"formatter\":{\"id\":\"2192\"},\"major_label_overrides\":{\"0\":\"False\",\"1\":\"True\"},\"major_label_policy\":{\"id\":\"2193\"},\"major_tick_line_color\":null,\"minor_tick_line_color\":null,\"ticker\":{\"id\":\"2144\"}},\"id\":\"2111\",\"type\":\"LinearAxis\"},{\"attributes\":{\"text\":\"693\",\"text_baseline\":\"middle\",\"text_color\":\"white\",\"text_font_size\":\"10px\",\"text_font_style\":\"bold\",\"x\":0,\"x_offset\":-6.5,\"y\":0},\"id\":\"2140\",\"type\":\"Label\"},{\"attributes\":{},\"id\":\"2124\",\"type\":\"HelpTool\"},{\"attributes\":{\"ticks\":[0,1]},\"id\":\"2144\",\"type\":\"FixedTicker\"},{\"attributes\":{\"data\":{\"n_samples\":[693,122,149,1326],\"predicted_class\":[0,0,1,1],\"true_class\":[0,1,0,1]},\"selected\":{\"id\":\"2197\"},\"selection_policy\":{\"id\":\"2196\"}},\"id\":\"2134\",\"type\":\"ColumnDataSource\"},{\"attributes\":{\"bottom_units\":\"screen\",\"fill_alpha\":0.5,\"fill_color\":\"lightgrey\",\"left_units\":\"screen\",\"level\":\"overlay\",\"line_alpha\":1.0,\"line_color\":\"black\",\"line_dash\":[4,4],\"line_width\":2,\"right_units\":\"screen\",\"syncable\":false,\"top_units\":\"screen\"},\"id\":\"2125\",\"type\":\"BoxAnnotation\"}],\"root_ids\":[\"2100\"]},\"title\":\"Bokeh Application\",\"version\":\"2.3.2\"}};\n",
       "  var render_items = [{\"docid\":\"184eb314-3992-4512-8b35-630587381862\",\"root_ids\":[\"2100\"],\"roots\":{\"2100\":\"d058897a-6616-48ad-a6cf-8ed0820c11ca\"}}];\n",
       "  root.Bokeh.embed.embed_items_notebook(docs_json, render_items);\n",
       "\n",
       "  }\n",
       "  if (root.Bokeh !== undefined) {\n",
       "    embed_document(root);\n",
       "  } else {\n",
       "    var attempts = 0;\n",
       "    var timer = setInterval(function(root) {\n",
       "      if (root.Bokeh !== undefined) {\n",
       "        clearInterval(timer);\n",
       "        embed_document(root);\n",
       "      } else {\n",
       "        attempts++;\n",
       "        if (attempts > 100) {\n",
       "          clearInterval(timer);\n",
       "          console.log(\"Bokeh: ERROR: Unable to run BokehJS code because BokehJS library is missing\");\n",
       "        }\n",
       "      }\n",
       "    }, 10, root)\n",
       "  }\n",
       "})(window);"
      ],
      "application/vnd.bokehjs_exec.v0+json": ""
     },
     "metadata": {
      "application/vnd.bokehjs_exec.v0+json": {
       "id": "2100"
      }
     },
     "output_type": "display_data"
    },
    {
     "name": "stdout",
     "output_type": "stream",
     "text": [
      "Accuracy: 88.17%, Precision: 91.57%, Recall: 89.90%, F1: 90.73%\n"
     ]
    }
   ],
   "source": [
    "THRESHOLD = 3.6\n",
    "predictions = get_prediction(stack[:, 1], threshold=THRESHOLD)\n",
    "\n",
    "plot_confusion_matrix(\n",
    "    confusion_matrix(test_labels, predictions),\n",
    "    model_name=MODEL_NAME,\n",
    "    file_name=os.path.join(IMAGE_PATH, \"conf_mat.svg\"),\n",
    ")\n",
    "\n",
    "print(\n",
    "    f\"Accuracy: {accuracy_score(test_labels, predictions):.2%}, \\\n",
    "Precision: {precision_score(test_labels, predictions):.2%}, \\\n",
    "Recall: {recall_score(test_labels, predictions):.2%}, \\\n",
    "F1: {f1_score(test_labels, predictions):.2%}\"\n",
    ")"
   ]
  },
  {
   "cell_type": "code",
   "execution_count": 20,
   "id": "ce9c6acd-f64d-43ef-94ac-406e9d38ab36",
   "metadata": {},
   "outputs": [
    {
     "data": {
      "text/html": [
       "\n",
       "\n",
       "\n",
       "\n",
       "\n",
       "\n",
       "  <div class=\"bk-root\" id=\"737294f7-9340-4c4c-8bd8-ed4dbcdb6dbd\" data-root-id=\"2328\"></div>\n"
      ]
     },
     "metadata": {},
     "output_type": "display_data"
    },
    {
     "data": {
      "application/javascript": [
       "(function(root) {\n",
       "  function embed_document(root) {\n",
       "    \n",
       "  var docs_json = {\"29c5fc29-6845-4dd2-badd-9260b36da4f0\":{\"defs\":[],\"roots\":{\"references\":[{\"attributes\":{\"below\":[{\"id\":\"2339\"}],\"center\":[{\"id\":\"2342\"},{\"id\":\"2346\"},{\"id\":\"2377\"}],\"height\":400,\"left\":[{\"id\":\"2343\"}],\"renderers\":[{\"id\":\"2365\"},{\"id\":\"2382\"}],\"title\":{\"id\":\"2329\"},\"toolbar\":{\"id\":\"2354\"},\"x_range\":{\"id\":\"2331\"},\"x_scale\":{\"id\":\"2335\"},\"y_range\":{\"id\":\"2333\"},\"y_scale\":{\"id\":\"2337\"}},\"id\":\"2328\",\"subtype\":\"Figure\",\"type\":\"Plot\"},{\"attributes\":{},\"id\":\"2333\",\"type\":\"DataRange1d\"},{\"attributes\":{},\"id\":\"2351\",\"type\":\"ResetTool\"},{\"attributes\":{},\"id\":\"2344\",\"type\":\"BasicTicker\"},{\"attributes\":{},\"id\":\"2331\",\"type\":\"DataRange1d\"},{\"attributes\":{\"overlay\":{\"id\":\"2353\"}},\"id\":\"2349\",\"type\":\"BoxZoomTool\"},{\"attributes\":{},\"id\":\"2352\",\"type\":\"HelpTool\"},{\"attributes\":{\"line_dash\":[6],\"x\":{\"field\":\"fpr\"},\"y\":{\"field\":\"fpr\"}},\"id\":\"2380\",\"type\":\"Line\"},{\"attributes\":{\"format\":\"0%\"},\"id\":\"2384\",\"type\":\"NumeralTickFormatter\"},{\"attributes\":{\"source\":{\"id\":\"2361\"}},\"id\":\"2366\",\"type\":\"CDSView\"},{\"attributes\":{},\"id\":\"2370\",\"type\":\"AllLabels\"},{\"attributes\":{},\"id\":\"2373\",\"type\":\"AllLabels\"},{\"attributes\":{\"source\":{\"id\":\"2361\"}},\"id\":\"2383\",\"type\":\"CDSView\"},{\"attributes\":{\"label\":{\"value\":\"AUROC: 93.86%\"},\"renderers\":[{\"id\":\"2365\"}]},\"id\":\"2378\",\"type\":\"LegendItem\"},{\"attributes\":{\"active_multi\":null,\"tools\":[{\"id\":\"2347\"},{\"id\":\"2348\"},{\"id\":\"2349\"},{\"id\":\"2350\"},{\"id\":\"2351\"},{\"id\":\"2352\"}]},\"id\":\"2354\",\"type\":\"Toolbar\"},{\"attributes\":{\"axis\":{\"id\":\"2343\"},\"dimension\":1,\"ticker\":null},\"id\":\"2346\",\"type\":\"Grid\"},{\"attributes\":{},\"id\":\"2347\",\"type\":\"PanTool\"},{\"attributes\":{},\"id\":\"2335\",\"type\":\"LinearScale\"},{\"attributes\":{\"line_alpha\":0.1,\"line_dash\":[6],\"x\":{\"field\":\"fpr\"},\"y\":{\"field\":\"fpr\"}},\"id\":\"2381\",\"type\":\"Line\"},{\"attributes\":{},\"id\":\"2350\",\"type\":\"SaveTool\"},{\"attributes\":{},\"id\":\"2340\",\"type\":\"BasicTicker\"},{\"attributes\":{\"axis_label\":\"False Positive Rate\",\"formatter\":{\"id\":\"2384\"},\"major_label_policy\":{\"id\":\"2370\"},\"ticker\":{\"id\":\"2340\"}},\"id\":\"2339\",\"type\":\"LinearAxis\"},{\"attributes\":{\"axis_label\":\"True Positive Rate\",\"formatter\":{\"id\":\"2386\"},\"major_label_policy\":{\"id\":\"2373\"},\"ticker\":{\"id\":\"2344\"}},\"id\":\"2343\",\"type\":\"LinearAxis\"},{\"attributes\":{\"align\":\"center\",\"text\":\"AutoEncoder: ROC Curve\",\"text_font_size\":\"12pt\"},\"id\":\"2329\",\"type\":\"Title\"},{\"attributes\":{\"data_source\":{\"id\":\"2361\"},\"glyph\":{\"id\":\"2380\"},\"hover_glyph\":null,\"muted_glyph\":null,\"nonselection_glyph\":{\"id\":\"2381\"},\"view\":{\"id\":\"2383\"}},\"id\":\"2382\",\"type\":\"GlyphRenderer\"},{\"attributes\":{\"bottom_units\":\"screen\",\"fill_alpha\":0.5,\"fill_color\":\"lightgrey\",\"left_units\":\"screen\",\"level\":\"overlay\",\"line_alpha\":1.0,\"line_color\":\"black\",\"line_dash\":[4,4],\"line_width\":2,\"right_units\":\"screen\",\"syncable\":false,\"top_units\":\"screen\"},\"id\":\"2353\",\"type\":\"BoxAnnotation\"},{\"attributes\":{\"line_alpha\":0.1,\"line_color\":\"coral\",\"line_width\":1.5,\"x\":{\"field\":\"fpr\"},\"y\":{\"field\":\"tpr\"}},\"id\":\"2364\",\"type\":\"Line\"},{\"attributes\":{},\"id\":\"2375\",\"type\":\"Selection\"},{\"attributes\":{\"format\":\"0%\"},\"id\":\"2386\",\"type\":\"NumeralTickFormatter\"},{\"attributes\":{},\"id\":\"2374\",\"type\":\"UnionRenderers\"},{\"attributes\":{\"data_source\":{\"id\":\"2361\"},\"glyph\":{\"id\":\"2363\"},\"hover_glyph\":null,\"muted_glyph\":null,\"nonselection_glyph\":{\"id\":\"2364\"},\"view\":{\"id\":\"2366\"}},\"id\":\"2365\",\"type\":\"GlyphRenderer\"},{\"attributes\":{\"line_color\":\"coral\",\"line_width\":1.5,\"x\":{\"field\":\"fpr\"},\"y\":{\"field\":\"tpr\"}},\"id\":\"2363\",\"type\":\"Line\"},{\"attributes\":{\"data\":{\"fpr\":{\"__ndarray__\":\"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\",\"dtype\":\"float64\",\"order\":\"little\",\"shape\":[400]},\"thr\":{\"__ndarray__\":\"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\",\"dtype\":\"float32\",\"order\":\"little\",\"shape\":[400]},\"tpr\":{\"__ndarray__\":\"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\",\"dtype\":\"float64\",\"order\":\"little\",\"shape\":[400]}},\"selected\":{\"id\":\"2375\"},\"selection_policy\":{\"id\":\"2374\"}},\"id\":\"2361\",\"type\":\"ColumnDataSource\"},{\"attributes\":{},\"id\":\"2337\",\"type\":\"LinearScale\"},{\"attributes\":{\"axis\":{\"id\":\"2339\"},\"grid_line_color\":null,\"ticker\":null},\"id\":\"2342\",\"type\":\"Grid\"},{\"attributes\":{\"items\":[{\"id\":\"2378\"}],\"label_text_font_size\":\"8pt\",\"location\":\"bottom_right\"},\"id\":\"2377\",\"type\":\"Legend\"},{\"attributes\":{},\"id\":\"2348\",\"type\":\"WheelZoomTool\"}],\"root_ids\":[\"2328\"]},\"title\":\"Bokeh Application\",\"version\":\"2.3.2\"}};\n",
       "  var render_items = [{\"docid\":\"29c5fc29-6845-4dd2-badd-9260b36da4f0\",\"root_ids\":[\"2328\"],\"roots\":{\"2328\":\"737294f7-9340-4c4c-8bd8-ed4dbcdb6dbd\"}}];\n",
       "  root.Bokeh.embed.embed_items_notebook(docs_json, render_items);\n",
       "\n",
       "  }\n",
       "  if (root.Bokeh !== undefined) {\n",
       "    embed_document(root);\n",
       "  } else {\n",
       "    var attempts = 0;\n",
       "    var timer = setInterval(function(root) {\n",
       "      if (root.Bokeh !== undefined) {\n",
       "        clearInterval(timer);\n",
       "        embed_document(root);\n",
       "      } else {\n",
       "        attempts++;\n",
       "        if (attempts > 100) {\n",
       "          clearInterval(timer);\n",
       "          console.log(\"Bokeh: ERROR: Unable to run BokehJS code because BokehJS library is missing\");\n",
       "        }\n",
       "      }\n",
       "    }, 10, root)\n",
       "  }\n",
       "})(window);"
      ],
      "application/vnd.bokehjs_exec.v0+json": ""
     },
     "metadata": {
      "application/vnd.bokehjs_exec.v0+json": {
       "id": "2328"
      }
     },
     "output_type": "display_data"
    }
   ],
   "source": [
    "plot_roc_curve(\n",
    "    roc_curve(test_labels, recon_errors),\n",
    "    roc_auc_score(test_labels, recon_errors),\n",
    "    model_name=MODEL_NAME,\n",
    "    file_name=os.path.join(IMAGE_PATH, \"roc_curve.svg\"),\n",
    ")"
   ]
  },
  {
   "cell_type": "code",
   "execution_count": 21,
   "id": "67dfe6d4-35cc-473a-968a-71dbe38551f2",
   "metadata": {},
   "outputs": [
    {
     "data": {
      "text/html": [
       "\n",
       "\n",
       "\n",
       "\n",
       "\n",
       "\n",
       "  <div class=\"bk-root\" id=\"2c0b6ce3-4414-4305-8dd5-77b6285b9df3\" data-root-id=\"2576\"></div>\n"
      ]
     },
     "metadata": {},
     "output_type": "display_data"
    },
    {
     "data": {
      "application/javascript": [
       "(function(root) {\n",
       "  function embed_document(root) {\n",
       "    \n",
       "  var docs_json = {\"b356d813-88b1-461b-8965-7527fbbf0ef5\":{\"defs\":[],\"roots\":{\"references\":[{\"attributes\":{\"below\":[{\"id\":\"2587\"}],\"center\":[{\"id\":\"2590\"},{\"id\":\"2594\"},{\"id\":\"2625\"},{\"id\":\"2627\"}],\"height\":400,\"left\":[{\"id\":\"2591\"}],\"renderers\":[{\"id\":\"2613\"}],\"title\":{\"id\":\"2577\"},\"toolbar\":{\"id\":\"2602\"},\"x_range\":{\"id\":\"2579\"},\"x_scale\":{\"id\":\"2583\"},\"y_range\":{\"id\":\"2581\"},\"y_scale\":{\"id\":\"2585\"}},\"id\":\"2576\",\"subtype\":\"Figure\",\"type\":\"Plot\"},{\"attributes\":{},\"id\":\"2600\",\"type\":\"HelpTool\"},{\"attributes\":{},\"id\":\"2588\",\"type\":\"BasicTicker\"},{\"attributes\":{\"axis\":{\"id\":\"2591\"},\"dimension\":1,\"ticker\":null},\"id\":\"2594\",\"type\":\"Grid\"},{\"attributes\":{\"items\":[{\"id\":\"2626\"}],\"label_text_font_size\":\"8pt\"},\"id\":\"2625\",\"type\":\"Legend\"},{\"attributes\":{},\"id\":\"2598\",\"type\":\"SaveTool\"},{\"attributes\":{\"axis_label\":\"Recall\",\"formatter\":{\"id\":\"2629\"},\"major_label_policy\":{\"id\":\"2618\"},\"ticker\":{\"id\":\"2588\"}},\"id\":\"2587\",\"type\":\"LinearAxis\"},{\"attributes\":{\"overlay\":{\"id\":\"2601\"}},\"id\":\"2597\",\"type\":\"BoxZoomTool\"},{\"attributes\":{},\"id\":\"2623\",\"type\":\"Selection\"},{\"attributes\":{},\"id\":\"2583\",\"type\":\"LinearScale\"},{\"attributes\":{},\"id\":\"2585\",\"type\":\"LinearScale\"},{\"attributes\":{},\"id\":\"2581\",\"type\":\"DataRange1d\"},{\"attributes\":{},\"id\":\"2596\",\"type\":\"WheelZoomTool\"},{\"attributes\":{\"data_source\":{\"id\":\"2609\"},\"glyph\":{\"id\":\"2611\"},\"hover_glyph\":null,\"muted_glyph\":null,\"nonselection_glyph\":{\"id\":\"2612\"},\"view\":{\"id\":\"2614\"}},\"id\":\"2613\",\"type\":\"GlyphRenderer\"},{\"attributes\":{},\"id\":\"2599\",\"type\":\"ResetTool\"},{\"attributes\":{\"format\":\"0%\"},\"id\":\"2629\",\"type\":\"NumeralTickFormatter\"},{\"attributes\":{\"source\":{\"id\":\"2609\"}},\"id\":\"2614\",\"type\":\"CDSView\"},{\"attributes\":{},\"id\":\"2595\",\"type\":\"PanTool\"},{\"attributes\":{\"axis_label\":\"Precision\",\"formatter\":{\"id\":\"2631\"},\"major_label_policy\":{\"id\":\"2621\"},\"ticker\":{\"id\":\"2592\"}},\"id\":\"2591\",\"type\":\"LinearAxis\"},{\"attributes\":{},\"id\":\"2621\",\"type\":\"AllLabels\"},{\"attributes\":{},\"id\":\"2622\",\"type\":\"UnionRenderers\"},{\"attributes\":{},\"id\":\"2618\",\"type\":\"AllLabels\"},{\"attributes\":{\"label\":{\"value\":\"AUPRC: 95.60%\"},\"renderers\":[{\"id\":\"2613\"}]},\"id\":\"2626\",\"type\":\"LegendItem\"},{\"attributes\":{\"axis\":{\"id\":\"2587\"},\"grid_line_color\":null,\"ticker\":null},\"id\":\"2590\",\"type\":\"Grid\"},{\"attributes\":{\"line_color\":\"coral\",\"x\":{\"field\":\"recall\"},\"y\":{\"field\":\"precision\"}},\"id\":\"2611\",\"type\":\"Line\"},{\"attributes\":{\"bottom_units\":\"screen\",\"fill_alpha\":0.5,\"fill_color\":\"lightgrey\",\"left_units\":\"screen\",\"level\":\"overlay\",\"line_alpha\":1.0,\"line_color\":\"black\",\"line_dash\":[4,4],\"line_width\":2,\"right_units\":\"screen\",\"syncable\":false,\"top_units\":\"screen\"},\"id\":\"2601\",\"type\":\"BoxAnnotation\"},{\"attributes\":{\"data\":{\"lower_band\":{\"__ndarray__\":\"AAAAAAAAAAAAAAAAAAAAAAAAAAAAAAAAAAAAAAAAAAAAAAAAAAAAAAAAAAAAAAAAAAAAAAAAAAAAAAAAAAAAAAAAAAAAAAAAAAAAAAAAAAAAAAAAAAAAAAAAAAAAAAAAAAAAAAAAAAAAAAAAAAAAAAAAAAAAAAAAAAAAAAAAAAAAAAAAAAAAAAAAAAAAAAAAAAAAAAAAAAAAAAAAAAAAAAAAAAAAAAAAAAAAAAAAAAAAAAAAAAAAAAAAAAAAAAAAAAAAAAAAAAAAAAAAAAAAAAAAAAAAAAAAAAAAAAAAAAAAAAAAAAAAAAAAAAAAAAAAAAAAAAAAAAAAAAAAAAAAAAAAAAAAAAAAAAAAAAAAAAAAAAAAAAAAAAAAAAAAAAAAAAAAAAAAAAAAAAAAAAAAAAAAAAAAAAAAAAAAAAAAAAAAAAAAAAAAAAAAAAAAAAAAAAAAAAAAAAAAAAAAAAAAAAAAAAAAAAAAAAAAAAAAAAAAAAAAAAAAAAAAAAAAAAAAAAAAAAAAAAAAAAAAAAAAAAAAAAAAAAAAAAAAAAAAAAAAAAAAAAAAAAAAAAAAAAAAAAAAAAAAAAAAAAAAAAAAAAAAAAAAAAAAAAAAAAAAAAAAAAAAAAAAAAAAAAAAAAAAAAAAAAAAAAAAAAAAAAAAAAAAAAAAAAAAAAAAAAAAAAAAAAAAAAAAAAAAAAAAAAAAAAAAAAAAAAAAAAAAAAAAAAAAAAAAAAAAAAAAAAAAAAAAAAAAAAAAAAAAAAAAAAAAAAAAAAAAAAAAAAAAAAAAAAAAAAAAAAAAAAAAAAAAAAAAAAAAAAAAAAAAAAAAAAAAAAAAAAAAAAAAAAAAAAAAAAAAAAAAAAAAAAAAAAAAAAAAAAAAAAAAAAAAAAAAAAAAAAAAAAAAAAAAAAAAAAAAAAAAAAAAAAAAAAAAAAAAAAAAAAAAAAAAAAAAAAAAAAAAAAAAAAAAAAAAAAAAAAAAAAAAAAAAAAAAAAAAAAAAAAAAAAAAAAAAAAAAAAAAAAAAAAAAAAAAAAAAAAAAAAAAAAAAAAAAAAAAAAAAAAAAAAAAAAAAAAAAAAAAAAAAAAAAAAAAAAAAAAAAAAAAAAAAAAAAAAAAAAAAAAAAAAAAAAAAAAAAAAAAAAAAAAAAAAAAAAAAAAAAAAAAAAAAAAAAAAAAAAAAAAAAAAAAAAAAAAAAAAAAAAAAAAAAAAAAAAAAAAAAAAAAAAAAAAAAAAAAAAAAAAAAAAAAAAAAAAAAAAAAAAAAAAAAAAAAAAAAAAAAAAAAAAAAAAAAAAAAAAAAAAAAAAAAAAAAAAAAAAAAAAAAAAAAAAAAAAAAAAAAAAAAAAAAAAAAAAAAAAAAAAAAAAAAAAAAAAAAAAAAAAAAAAAAAAAAAAAAAAAAAAAAAAAAAAAAAAAAAAAAAAAAAAAAAAAAAAAAAAAAAAAAAAAAAAAAAAAAAAAAAAAAAAAAAAAAAAAAAAAAAAAAAAAAAAAAAAAAAAAAAAAAAAAAAAAAAAAAAAAAAAAAAAAAAAAAAAAAAAAAAAAAAAAAAAAAAAAAAAAAAAAAAAAAAAAAAAAAAAAAAAAAAAAAAAAAAAAAAAAAAAAAAAAAAAAAAAAAAAAAAAAAAAAAAAAAAAAAAAAAAAAAAAAAAAAAAAAAAAAAAAAAAAAAAAAAAAAAAAAAAAAAAAAAAAAAAAAAAAAAAAAAAAAAAAAAAAAAAAAAAAAAAAAAAAAAAAAAAAAAAAAAAAAAAAAAAAAAAAAAAAAAAAAAAAAAAAAAAAAAAAAAAAAAAAAAAAAAAAAAAAAAAAAAAAAAAAAAAAAAAAAAAAAAAAAAAAAAAAAAAAAAAAAAAAAAAAAAAAAAAAAAAAAAAAAAAAAAAAAAAAAAAAAAAAAAAAAAAAAAAAAAAAAAAAAAAAAAAAAAAAAAAAAAAAAAAAAAAAAAAAAAAAAAAAAAAAAAAAAAAAAAAAAAAAAAAAAAAAAAAAAAAAAAAAAAAAAAAAAAAAAAAAAAAAAAAAAAAAAAAAAAAAAAAAAAAAAAAAAAAAAAAAAAAAAAAAAAAAAAAAAAAAAAAAAAAAAAAAAAAAAAAAAAAAAAAAAAAAAAAAAAAAAAAAAAAAAAAAAAAAAAAAAAAAAAAAAAAAAAAAAAAAAAAAAAAAAAAAAAAAAAAAAAAAAAAAAAAAAAAAAAAAAAAAAAAAAAAAAAAAAAAAAAAAAAAAAAAAAAAAAAAAAAAAAAAAAAAAAAAAAAAAAAAAAAAAAAAAAAAAAAAAAAAAAAAAAAAAAAAAAAAAAAAAAAAAAAAAAAAAAAAAAAAAAAAAAAAAAAAAAAAAAAAAAAAAAAAAAAAAAAAAAAAAAAAAAAAAAAAAAAAAAAAAAAAAAAAAAAAAAAAAAAAAAAAAAAAAAAAAAAAAAAAAAAAAAAAAAAAAAAAAAAAAAAAAAAAAAAAAAAAAAAAAAAAAAAAAAAAAAAAAAAAAAAAAAAAAAAAAAAAAAAAAAAAAAAAAAAAAAAAAAAAAAAAAAAAAAAAAAAAAAAAAAAAAAAAAAAAAAAAAAAAAAAAAAAAAAAAAAAAAAAAAAAAAAAAAAAAAAAAAAAAAAAAAAAAAAAAAAAAAAAAAAAAAAAAAAAAAAAAAAAAAAAAAAAAAAAAAAAAAAAAAAAAAAAAAAAAAAAAAAAAAAAAAAAAAAAAAAAAAAAAAAAAAAAAAAAAAAAAAAAAAAAAAAAAAAAAAAAAAAAAAAAAAAAAAAAAAAAAAAAAAAAAAAAAAAAAAAAAAAAAAAAAAAAAAAAAAAAAAAAAAAAAAAAAAAAAAAAAAAAAAAAAAAAAAAAAAAAAAAAAAAAAAAAAAAAAAAAAAAAAAAAAAAAAAAAAAAAAAAAAAAAAAAAAAAAAAAAAAAAAAAAAAAAAAAAAAAAAAAAAAAAAAAAAAAAAAAAAAAAAAAAAAAAAAAAAAAAAAAAAAAAAAAAAAAAAAAAAAAAAAAAAAAAAAAAAAAAAAAAAAAAAAAAAAAAAAAAAAAAAAAAAAAAAAAAAAAAAAAAAAAAAAAAAAAAAAAAAAAAAAAAAAAAAAAAAAAAAAAAAAAAAAAAAAAAAAAAAAAAAAAAAAAAAAAAAAAAAAAAAAAAAAAAAAAAAAAAAAAAAAAAAAAAAAAAAAAAAAAAAAAAAAAAAAAAAAAAAAAAAAAAAAAAAAAAAAAAAAAAAAAAAAAAAAAAAAAAAAAAAAAAAAAAAAAAAAAAAAAAAAAAAAAAAAAAAAAAAAAAAAAAAAAAAAAAAAAAAAAAAAAAAAAAAAAAAAAAAAAAAAAAAAAAAAAAAAAAAAAAAAAAAAAAAAAAAAAAAAAAAAAAAAAAAAAAAAAAAAAAAAAAAAAAAAAAAAAAAAAAAAAAAAAAAAAAAAAAAAAAAAAAAAAAAAAAAAAAAAAAAAAAAAAAAAAAAAAAAAAAAAAAAAAAAAAAAAAAAAAAAAAAAAAAAAAAAAAAAAAAAAAAAAAAAAAAAAAAAAAAAAAAAAAAAAAAAAAAAAAAAAAAAAAAAAAAAAAAAAAAAAAAAAAAAAAAAAAAAAAAAAAAAAAAAAAAAAAAAAAAAAAAAAAAAAAAAAAAAAAAAAAAAAAAAAAAAAAAAAAAAAAAAAAAAAAAAAAAAAAAAAAAAAAAAAAAAAAAAAAAAAAAAAAAAAAAAAAAAAAAAAAAAAAAAAAAAAAAAAAAAAAAAAAAAAAAAAAAAAAAAAAAAAAAAAAAAAAAAAAAAAAAAAAAAAAAAAAAAAAAAAAAAAAAAAAAAAAAAAAAAAAAAAAAAAAAAAAAAAAAAAAAAAAAAAAAAAAAAAAAAAAAAAAAAAAAAAAAAAAAAAAAAAAAAAAAAAAAAAAAAAAAAAAAAAAAAAAAAAAAAAAAAAAAAAAAAAAAAAAAAAAAAAAAAAAAAAAAAAAAAAAAAAAAAAAAAAAAAAAAAAAAAAAAAAAAAAAAAAAAAAAAAAAAAAAAAAAAAAAAAAAAAAAAAAAAAAAAAAAAAAAAAAAAAAAAAAAAAAAAAAAAAAAAAAAAAAAAAAAAAAAAAAAAAAAAAAAAAAAAAAAAAAAAAAAAAAAAAAAAAAAAAAAAAAAAAAAAAAAAAAAAAAAAAAAAAAAAAAAAAAAAAAAAAAAAAAAAAAAAAAAAAAAAAAAAAAAAAAAAAAAAAAAAAAAAAAAAAAAAAAAAAAAAAAAAAAAAAAAAAAAAAAAAAAAAAAAAAAAAAAAAAAAAAAAAAAAAAAAAAAAAAAAAAAAAAAAAAAAAAAAAAAAAAAAAAAAAAAAAAAAAAAAAAAAAAAAAAAAAAAAAAAAAAAAAAAAAAAAAAAAAAAAAAAAAAAAAAAAAAAAAAAAAAAAAAAAAAAAAAAAAAAAAAAAAAAAAAAAAAAAAAAAAAAAAAAAAAAAAAAAAAAAAAAAAAAAAAAAAAAAAAAAAAAAAAAAAAAAAAAAAAAAAAAAAAAAAAAAAAAAAAAAAAAAAAAAAAAAAAAAAAAAAAAAAAAAAAAAAAAAAAAAAAAAAAAAAAAAAAAAAAAAAAAAAAAAAAAAAAAAAAAAAAAAAAAAAAAAAAAAAAAAAAAAAAAAAAAAAAAAAAAAAAAAAAAAAAAAAAAAAAAAAAAAAAAAAAAAAAAAAAAAAAAAAAAAAAAAAAAAAAAAAAAAAAAAAAAAAAAAAAAAAAAAAAAAAAAAAAAAAAAAAAAAAAAAAAAAAAAAAAAAAAAAAAAAAAAAAAAAAAAAAAAAAAAAAAAAAAAAAAAAAAAAAAAAAAAAAAAAAAAAAAAAAAAAAAAAAAAAAAAAAAAAAAAAAAAAAAAAAAAAAAAAAAAAAAAAAAAAAAAAAAAAAAAAAAAAAAAAAAAAAAAAAAAAAAAAAAAAAAAAAAAAAAAAAAAAAAAAAAAAAAAAAAAAAAAAAAAAAAAAAAAAAAAAAAAAAAAAAAAAAAAAAAAAAAAAAAAAAAAAAAAAAAAAAAAAAAAAAAAAAAAAAAAAAAAAAAAAAAAAAAAAAAAAAAAAAAAAAAAAAAAAAAAAAAAAAAAAAAAAAAAAAAAAAAAAAAAAAAAAAAAAAAAAAAAAAAAAAAAAAAAAAAAAAAAAAAAAAAAAAAAAAAAAAAAAAAAAAAAAAAAAAAAAAAAAAAAAAAAAAAAAAAAAAAAAAAAAAAAAAAAAAAAAAAAAAAAAAAAAAAAAAAAAAAAAAAAAAAAAAAAAAAAAAAAAAAAAAAAAAAAAAAAAAAAAAAAAAAAAAAAAAAAAAAAAAAAAAAAAAAAAAAAAAAAAAAAAAAAAAAAAAAAAAAAAAAAAAAAAAAAAAAAAAAAAAAAAAAAAAAAAAAAAAAAAAAAAAAAAAAAAAAAAAAAAAAAAAAAAAAAAAAAAAAAAAAAAAAAAAAAAAAAAAAAAAAAAAAAAAAAAAAAAAAAAAAAAAAAAAAAAAAAAAAAAAAAAAAAAAAAAAAAAAAAAAAAAAAAAAAAAAAAAAAAAAAAAAAAAAAAAAAAAAAAAAAAAAAAAAAAAAAAAAAAAAAAAAAAAAAAAAAAAAAAAAAAAAAAAAAAAAAAAAAAAAAAAAAAAAAAAAAAAAAAAAAAAAAAAAAAAAAAAAAAAAAAAAAAAAAAAAAAAAAAAAAAAAAAAAAAAAAAAAAAAAAAAAAAAAAAAAAAAAAAAAAAAAAAAAAAAAAAAAAAAAAAAAAAAAAAAAAAAAAAAAAAAAAAAAAAAAAAAAAAAAAAAAAAAAAAAAAAAAAAAAAAAAAAAAAAAAAAAAAAAAAAAAAAAAAAAAAAAAAAAAAAAAAAAAAAAAAAAAAAAAAAAAAAAAAAAAAAAAAAAAAAAAAAAAAAAAAAAAAAAAAAAAAAAAAAAAAAAAAAAAAAAAAAAAAAAAAAAAAAAAAAAAAAAAAAAAAAAAAAAAAAAAAAAAAAAAAAAAAAAAAAAAAAAAAAAAAAAAAAAAAAAAAAAAAAAAAAAAAAAAAAAAAAAAAAAAAAAAAAAAAAAAAAAAAAAAAAAAAAAAAAAAAAAAAAAAAAAAAAAAAAAAAAAAAAAAAAAAAAAAAAAAAAAAAAAAAAAAAAAAAAAAAAAAAAAAAAAAAAAAAAAAAAAAAAAAAAAAAAAAAAAAAAAAAAAAAAAAAAAAAAAAAAAAAAAAAAAAAAAAAAAAAAAAAAAAAAAAAAAAAAAAAAAAAAAAAAAAAAAAAAAAAAAAAAAAAAAAAAAAAAAAAAAAAAAAAAAAAAAAAAAAAAAAAAAAAAAAAAAAAAAAAAAAAAAAAAAAAAAAAAAAAAAAAAAAAAAAAAAAAAAAAAAAAAAAAAAAAAAAAAAAAAAAAAAAAAAAAAAAAAAAAAAAAAAAAAAAAAAAAAAAAAAAAAAAAAAAAAAAAAAAAAAAAAAAAAAAAAAAAAAAAAAAAAAAAAAAAAAAAAAAAAAAAAAAAAAAAAAAAAAAAAAAAAAAAAAAAAAAAAAAAAAAAAAAAAAAAAAAAAAAAAAAAAAAAAAAAAAAAAAAAAAAAAAAAAAAAAAAAAAAAAAAAAAAAAAAAAAAAAAAAAAAAAAAAAAAAAAAAAAAAAAAAAAAAAAAAAAAAAAAAAAAAAAAAAAAAAAAAAAAAAAAAAAAAAAAAAAAAAAAAAAAAAAAAAAAAAAAAAAAAAAAAAAAAAAAAAAAAAAAAAAAAAAAAAAAAAAAAAAAAAAAAAAAAAAAAAAAAAAAAAAAAAAAAAAAAAAAAAAAAAAAAAAAAAAAAAAAAAAAAAAAAAAAAAAAAAAAAAAAAAAAAAAAAAAAAAAAAAAAAAAAAAAAAAAAAAAAAAAAAAAAAAAAAAAAAAAAAAAAAAAAAAAAAAAAAAAAAAAAAAAAAAAAAAAAAAAAAAAAAAAAAAAAAAAAAAAAAAAAAAAAAAAAAAAAAAAAAAAAAAAAAAAAAAAAAAAAAAAAAAAAAAAAAAAAAAAAAAAAAAAAAAAAAAAAAAAAAAAAAAAAAAAAAAAAAAAAAAAAAAAAAAAAAAAAAAAAAAAAAAAAAAAAAAAAAAAAAAAAAAAAAAAAAAAAAAAAAAAAAAAAAAAAAAAAAAAAAAAAAAAAAAAAAAAAAAAAAAAAAAAAAAAAAAAAAAAAAAAAAAAAAAAAAAAAAAAAAAAAAAAAAAAAAAAAAAAAAAAAAAAAAAAAAAAAAAAAAAAAAAAAAAAAAAAAAAAAAAAAAAAAAAAAAAAAAAAAAAAAAAAAAAAAAAAAAAAAAAAAAAAAAAAAAAAAAAAAAAAAAAAAAAAAAAAAAAAAAAAAAAAAAAAAAAAAAAAAAAAAAAAAAAAAAAAAAAAAAAAAAAAAAAAAAAAAAAAAAAAAAAAAAAAAAAAAAAAAAAAAAAAAAAAAAAAAAAAAAAAAAAAAAAAAAAAAAAAAAAAAAAAAAAAAAAAAAAAAAAAAAAAAAAAAAAAAAAAAAAAAAAAAAAAAAAAAAAAAAAAAAAAAAAAAAAAAAAAAAAAAAAAAAAAAAAAAAAAAAAAAAAAAAAAAAAAAAAAAAAAAAAAAAAAAAAAAAAAAAAAAAAAAAAAAAAAAAAAAAAAAAAAAAAAAAAAAAAAAAAAAAAAAAAAAAAAAAAAAAAAAAAAAAAAAAAAAAAAAAAAAAAAAAAAAAAAAAAAAAAAAAAAAAAAAAAAAAAAAAAAAAAAAAAAAAAAAAAAAAAAAAAAAAAAAAAAAAAAAAAAAAAAAAAAAAAAAAAAAAAAAAAAAAAAAAAAAAAAAAAAAAAAAAAAAAAAAAAAAAAAAAAAAAAAAAAAAAAAAAAAAAAAAAAAAAAAAAAAAAAAAAAAAAAAAAAAAAAAAAAAAAAAAAAAAAAAAAAAAAAAAAAAAAAAAAAAAAAAAAAAAAAAAAAAAAAAAAAAAAAAAAAAAAAAAAAAAAAAAAAAAAAAAAAAAAAAAAAAAAAAAAAAAAAAAAAAAAAAAAAAAAAAAAAAAAAAAAAAAAAAAAAAAAAAAAAAAAAAAAAAAAAAAAAAAAAAAAAAAAAAAAAAAAAAAAAAAAAAAAAAAAAAAAAAAAAAAAAAAAAAAAAAAAAAAAAAAAAAAAAAAAAAAAAAAAAAAAAAAAAAAAAAAAAAAAAAAAAAAAAAAAAAAAAAAAAAAAAAAAAAAAAAAAAAAAAAAAAAAAAAAAAAAAAAAAAAAAAAAAAAAAAAAAAAAAAAAAAAAAAAAAAAAAAAAAAAAAAAAAAAAAAAAAAAAAAAAAAAAAAAAAAAAAAAAAAAAAAAAAAAAAAAAAAAAAAAAAAAAAAAAAAAAAAAAAAAAAAAAAAAAAAAAAAAAAAAAAAAAAAAAAAAAAAAAAAAAAAAAAAAAAAAAAAAAAAAAAAAAAAAAAAAAAAAAAAAAAAAAAAAAAAAAAAAAAAAAAAAAAAAAAAAAAAAAAAAAAAAAAAAAAAAAAAAAAAAAAAAAAAAAAAAAAAAAAAAAAAAAAAAAAAAAAAAAAAAAAAAAAAAAAAAAAAAAAAAAAAAAAAAAAAAAAAAAAAAAAAAAAAAAAAAAAAAAAAAAAAAAAAAAAAAAAAAAAAAAAAAAAAAAAAAAAAAAAAAAAAAAAAAAAAAAAAAAAAAAAAAAAAAAAAAAAAAAAAAAAAAAAAAAAAAAAAAAAAAAAAAAAAAAAAAAAAAAAAAAAAAAAAAAAAAAAAAAAAAAAAAAAAAAAAAAAAAAAAAAAAAAAAAAAAAAAAAAAAAAAAAAAAAAAAAAAAAAAAAAAAAAAAAAAAAAAAAAAAAAAAAAAAAAAAAAAAAAAAAAAAAAAAAAAAAAAAAAAAAAAAAAAAAAAAAAAAAAAAAAAAAAAAAAAAAAAAAAAAAAAAAAAAAAAAAAAAAAAAAAAAAAAAAAAAAAAAAAAAAAAAAAAAAAAAAAAAAAAAAAAAAAAAAAAAAAAAAAAAAAAAAAAAAAAAAAAAAAAAAAAAAAAAAAAAAAAAAAAAAAAAAAAAAAAAAAAAAAAAAAAAAAAAAAAAAAAAAAAAAAAAAAAAAAAAAAAAAAAAAAAAAAAAAAAAAAAAAAAAAAAAAAAAAAAAAAAAAAAAAAAAAAAAAAAAAAAAAAAAAAAAAAAAAAAAAAAAAAAAAAAAAAAAAAAAAAAAAAAAAAAAAAAAAAAAAAAAAAAAAAAAAAAAAAAAAAAAAAAAAAAAAAAAAAAAAAAAAAAAAAAAAAAAAAAAAAAAAAAAAAAAAAAAAAAAAAAAAAAAAAAAAAAAAAAAAAAAAAAAAAAAAAAAAAAAAAAAAAAAAAAAAAAAAAAAAAAAAAAAAAAAAAAAAAAAAAAAAAAAAAAAAAAAAAAAAAAAAAAAAAAAAAAAAAAAAAAAAAAAAAAAAAAAAAAAAAAAAAAAAAAAAAAAAAAAAAAAAAAAAAAAAAAAAAAAAAAAAAAAAAAAAAAAAAAAAAAAAAAAAAAAAAAAAAAAAAAAAAAAAAAAAAAAAAAAAAAAAAAAAAAAAAAAAAAAAAAAAAAAAAAAAAAAAAAAAAAAAAAAAAAAAAAAAAAAAAAAAAAAAAAAAAAAAAAAAAAAAAAAAAAAAAAAAAAAAAAAAAAAAAAAAAAAAAAAAAAAAAAAAAAAAAAAAAAAAAAAAAAAAAAAAAAAAAAAAAAAAAAAAAAAAAAAAAAAAAAAAAAAAAAAAAAAAAAAAAAAAAAAAAAAAAAAAAAAAAAAAAAAAAAAAAAAAAAAAAAAAAAAAAAAAAAAAAAAAAAAAAAAAAAAAAAAAAAAAAAAAAAAAAAAAAAAAAAAAAAAAAAAAAAAAAAAAAAAAAAAAAAAAAAAAAAAAAAAAAAAAAAAAAAAAAAAAAAAAAAAAAAAAAAAAAAAAAAAAAAAAAAAAAAAAAAAAAAAAAAAAAAAAAAAAAAAAAAAAAAAAAAAAAAAAAAAAAAAAAAAAAAAAAAAAAAAAAAAAAAAAAAAAAAAAAAAAAAAAAAAAAAAAAAAAAAAAAAAAAAAAAAAAAAAAAAAAAAAAAAAAAAAAAAAAAAAAAAAAAAAAAAAAAAAAAAAAAAAAAAAAAAAAAAAAAAAAAAAAAAAAAAAAAAAAAAAAAAAAAAAAAAAAAAAAAAAAAAAAAAAAAAAAAAAAAAAAAAAAAAAAAAAAAAAAAAAAAAAAAAAAAAAAAAAAAAAAAAAAAAAAAAAAAAAAAAAAAAAAAAAAAAAAAAAAAAAAAAAAAAAAAAAAAAAAAAAAAAAAAAAAAAAAAAAAAAAAAAAAAAAAAAAAAAAAAAAAAAAAAAAAAAAAAAAAAAAAAAAAAAAAAAAAAAAAAAAAAAAAAAAAAAAAAAAAAAAAAAAAAAAAAAAAAAAAAAAAAAAAAAAAAAAAAAAAAAAAAAAAAAAAAAAAAAAAAAAAAAAAAAAAAAAAAAAAAAAAAAAAAAAAAAAAAAAAAAAAAAAAAAAAAAAAAAAAAAAAAAAAAAAAAAAAAAAAAAAAAAAAAAAAAAAAAAAAAAAAAAAAAAAAAAAAAAAAAAAAAAAAAAAAAAAAAAAAAAAAAAAAAAAAAAAAAAAAAAAAAAAAAAAAAAAAAAAAAAAAAAAAAAAAAAAAAAAAAAAAAAAAAAAAAAAAAAAAAAAAAAAAAAAAAAAAAAAAAAAAAAAAAAAAAAAAAAAAAAAAAAAAAAAAAAAAAAAAAAAAAAAAAAAAAAAAAAAAAAAAAAAAAAAAAAAAAAAAAAAAAAAAAAAAAAAAAAAAAAAAAAAAAAAAAAAAAAAAAAAAAAAAAAAAAAAAAAAAAAAAAAAAAAAAAAAAAAAAAAAAAAAAAAAAAAAAAAAAAAAAAAAAAAAAAAAAAAAAAAAAAAAAAAAAAAAAAAAAAAAAAAAAAAAAAAAAAAAAAAAAAAAAAAAAAAAAAAAAAAAAAAAAAAAAAAAAAAAAAAAAAAAAAAAAAAAAAAAAAAAAAAAAAAAAAAAAAAAAAAAAAAAAAAAAAAAAAAAAAAAAAAAAAAAAAAAAAAAAAAAAAAAAAAAAAAAAAAAAAAAAAAAAAAAAAAAAAAAAAAAAAAAAAAAAAAAAAAAAAAAAAAAAAAAAAAAAAAAAAAAAAAAAAAAAAAAAAAAAAAAAAAAAAAAAAAAAAAAAAAAAAAAAAAAAAAAAAAAAAAAAAAAAAAAAAAAAAAAAAAAAAAAAAAAAAAAAAAAAAAAAAAAAAAAAAAAAAAAAAAAAAAAAAAAAAAAAAAAAAAAAAAAAAAAAAAAAAAAAAAAAAAAAAAAAAAAAAAAAAAAAAAAAAAAAAAAAAAAAAAAAAAAAAAAAAAAAAAAAAAAAAAAAAAAAAAAAAAAAAAAAAAAAAAAAAAAAAAAAAAAAAAAAAAAAAAAAAAAAAAAAAAAAAAAAAAAAAAAAAAAAAAAAAAAAAAAAAAAAAAAAAAAAAAAAAAAAAAAAAAAAAAAAAAAAAAAAAAAAAAAAAAAAAAAAAAAAAAAAAAAAAAAAAAAAAAAAAAAAAAAAAAAAAAAAAAAAAAAAAAAAAAAAAAAAAAAAAAAAAAAAAAAAAAAAAAAAAAAAAAAAAAAAAAAAAAAAAAAAAAAAAAAAAAAAAAAAAAAAAAAAAAAAAAAAAAAAAAAAAAAAAAAAAAAAAAAAAAAAAAAAAAAAAAAAAAAAAAAAAAAAAAAAAAAAAAAAAAAAAAAAAAAAAAAAAAAAAAAAAAAAAAAAAAAAAAAAAAAAAAAAAAAAAAAAAAAAAAAAAAAAAAAAAAAAAAAAAAAAAAAAAAAAAAAAAAAAAAAAAAAAAAAAAAAAAAAAAAAAAAAAAAAAAAAAAAAAAAAAAAAAAAAAAAAAAAAAAAAAAAAAAAAAAAAAAAAAAAAAAAAAAAAAAAAAAAAAAAAAAAAAAAAAAAAAAAAAAAAAAAAAAAAAAAAAAAAAAAAAAAAAAAAAAAAAAAAAAAAAAAAAAAAAAAAAAAAAAAAAAAAAAAAAAAAAAAAAAAAAAAAAAAAAAAAAAAAAAAAAAAAAAAAAAAAAAAAAAAAAAAAAAAAAAAAAAAAAAAAAAAAAAAAAAAAAAAAAAAAAAAAAAAAAAAAAAAAAAAAAAAAAAAAAAAAAAAAAAAAAAAAAAAAAAAAAAAAAAAAAAAAAAAAAAAAAAAAAAAAAAAAAAAAAAAAAAAAAAAAAAAAAAAAAAAAAAAAAAAAAAAAAAAAAAAAAAAAAAAAAAAAAAAAAAAAAAAAAAAAAAAAAAAAAAAAAAAAAAAAAAAAAAAAAAAAAAAAAAAAAAAAAAAAAAAAAAAAAAAAAAAAAAAAAAAAAAAAAAAAAAAAAAAAAAAAAAAAAAAAAAAAAAAAAAAAAAAAAAAAAAAAAAAAAAAAAAAAAAAAAAAAAAAAAAAAAAAAAAAAAAAAAAAAAAAAAAAAAAAAAAAAAAAAAAAAAAAAAAAAAAAAAAAAAAAAAAAAAAAAAAAAAAAAAAAAAAAAAAAAAAAAAAAAAAAAAAAAAAAAAAAAAAAAAAAAAAAAAAAAAAAAAAAAAAAAAAAAAAAAAAAAAAAAAAAAAAAAAAAAAAAAAAAAAAAAAAAAAAAAAAAAAAAAAAAAAAAAAAAAAAAAAAAAAAAAAAAAAAAAAAAAAAAAAAAAAAAAAAAAAAAAAAAAAAAAAAAAAAAAAAAAAAAAAAAAAAAAAAAAAAAAAAAAAAAAAAAAAAAAAAAAAAAAAAAAAAAAAAAAAAAAAAAAAAAAAAAAAAAAAAAAAAAAAAAAAAAAAAAAAAAAAAAAAAAAAAAAAAAAAAAAAAAAAAAAAAAAAAAAAAAAAAAAAAAAAAAAAAAAAAAAAAAAAAAAAAAAAAAAAAAAAAAAAAAAAAAAAAAAAAAAAAAAAAAAAAAAAAAAAAAAAAAAAAAAAAAAAAAAAAAAAAAAAAAAAAAAAAAAAAAAAAAAAAAAAAAAAAAAAAAAAAAAAAAAAAAAAAAAAAAAAAAAAAAAAAAAAAAAAAAAAAAAAAAAAAAAAAAAAAAAAAAAAAAAAAAAAAAAAAAAAAAAAAAAAAAAAAAAAAAAAAAAAAAAAAAAAAAAAAAAAAAAAAAAAAAAAAAAAAAAAAAAAAAAAAAAAAAAAAAAAAAAAAAAAAAAAAAAAAAAAAAAAAAAAAAAAAAAAAAAAAAAAAAAAAAAAAAAAAAAAAAAAAAAAAAAAAAAAAAAAAAAAAAAAAAAAAAAAAAAAAAAAAAAAAAAAAAAAAAAAAAAAAAAAAAAAAAAAAAAAAAAAAAAAAAAAAAAAAAAAAAAAAAAAAAAAAAAAAAAAAAAAAAAAAAAAAAAAAAAAAAAAAAAAAAAAAAAAAAAAAAAAAAAAAAAAAAAAAAAAAAAAAAAAAAAAAAAAAAAAAAAAAAAAAAAAAAAAAAAAAAAAAAAAAAAAAAAAAAAAAAAAAAAAAAAAAAAAAAAAAAAAAAAAAAAAAAAAAAAAAAAAAAAAAAAAAAAAAAAAAAAAAAAAAAAAAAAAAAAAAAAAAAAAAAAAAAAAAAAAAAAAAAAAAAAAAAAAAAAAAAAAAAAAAAAAAAAAAAAAAAAAAAAAAAAAAAAAAAAAAAAAAAAAAAAAAAAAAAAAAAAAAAAAAAAAAAAAAAAAAAAAAAAAAAAAAAAAAAAAAAAAAAAAAAAAAAAAAAAAAAAAAAAAAAAAAAAAAAAAAAAAAAAAAAAAAAAAAAAAAAAAAAAAAAAAAAAAAAAAAAAAAAAAAAAAAAAAAAAAAAAAAAAAAAAAAAAAAAAAAAAAAAAAAAAAAAAAAAAAAAAAAAAAAAAAAAAAAAAAAAAAAAAAAAAAAAAAAAAAAAAAAAAAAAAAAAAAAAAAAAAAAAAAAAAAAAAAAAAAAAAAAAAAAAAAAAAAAAAAAAAAAAAAAAAAAAAAAAAAAAAAAAAAAAAAAAAAAAAAAAAAAAAAAAAAAAAAAAAAAAAAAAAAAAAAAAAAAAAAAAAAAAAAAAAAAAAAAAAAAAAAAAAAAAAAAAAAAAAAAAAAAAAAAAAAAAAAAAAAAAAAAAAAAAAAAAAAAAAAAAAAAAAAAAAAAAAAAAAAAAAAAAAAAAAAAAAAAAAAAAAAAAAAAAAAAAAAAAAAAAAAAAAAAAAAAAAAAAAAAAAAAAAAAAAAAAAAAAAAAAAAAAAAAAAAAAAAAAAAAAAAAAAAAAAAAAAAAAAAAAAAAAAAAAAAAAAAAAAAAAAAAAAAAAAAAAAAAAAAAAAAAAAAAAAAAAAAAAAAAAAAAAAAAAAAAAAAAAAAAAAAAAAAAAAAAAAAAAAAAAAAAAAAAAAAAAAAAAAAAAAAAAAAAAAAAAAAAAAAAAAAAAAAAAAAAAAAAAAAAAAAAAAAAAAAAAAAAAAAAAAAAAAAAAAAAAAAAAAAAAAAAAAAAAAAAAAAAAAAAAAAAAAAAAAAAAAAAAAAAAAAAAAAAAAAAAAAAAAAAAAAAAAAAAAAAAAAAAAAAAAAAAAAAAAAAAAAAAAAAAAAAAAAAAAAAAAAAAAAAAAAAAAAAAAAAAAAAAAAAAAAAAAAAAAAAAAAAAAAAAAAAAAAAAAAAAAAAAAAAAAAAAAAAAAAAAAAAAAAAAAAAAAAAAAAAAAAAAAAAAAAAAAAAAAAAAAAAAAAAAAAAAAAAAAAAAAAAAAAAAAAAAAAAAAAAAAAAAAAAAAAAAAAAAAAAAAAAAAAAAAAAAAAAAAAAAAAAAAAAAAAAAAAAAAAAAAAAAAAAAAAAAAAAAAAAAAAAAAAAAAAAAAAAAAAAAAAAAAAAAAAAAAAAAAAAAAAAAAAAAAAAAAAAAAAAAAAAAAAAAAAAAAAAAAAAAAAAAAAAAAAAAAAAAAAAAAAAAAAAAAAAAAAAAAAAAAAAAAAAAAAAAAAAAAAAAAAAAAAAAAAAAAAAAAAAAAAAAAAAAAAAAAAAAAAAAAAAAAAAAAAAAAAAAAAAAAAAAAAAAAAAAAAAAAAAAAAAAAAAAAAAAAAAAAAAAAAAAAAAAAAAAAAAAAAAAAAAAAAAAAAAAAAAAAAAAAAAAAAAAAAAAAAAAAAAAAAAAAAAAAAAAAAAAAAAAAAAAAAAAAAAAAAAAAAAAAAAAAAAAAAAAAAAAAAAAAAAAAAAAAAAAAAAAAAAAAAAAAAAAAAAAAAAAAAAAAAAAAAAAAAAAAAAAAAAAAAAAAAAAAAAAAAAAAAAAAAAAAAAAAAAAAAAAAAAAAAAAAAAAAAAAAAAAAAAAAAAAAAAAAAAAAAAAAAAAAAAAAAAAAAAAAAAAAAAAAAAAAAAAAAAAAAAAAAAAAAAAAAAAAAAAAAAAAAAAAAAAAAAAAAAAAAAAAAAAAAAAAAAAAAAAAAAAAAAAAAAAAAAAAAAAAAAAAAAAAAAAAAAAAAAAAAAAAAAAAAAAAAAAAAAAAAAAAAAAAAAAAAAAAAAAAAAAAAAAAAAAAAAAAAAAAAAAAAAAAAAAAAAAAAAAAAAAAAAAAAAAAAAAAAAAAAAAAAAAAAAAAAAAAAAAAAAAAAAAAAAAAAAAAAAAAAAAAAAAAAAAAAAAAAAAAAAAAAAAAAAAAAAAAAAAAAAAAAAAAAAAAAAAAAAAAAAAAAAAAAAAAAAAAAAAAAAAAAAAAAAAAAAAAAAAAAAAAAAAAAAAAAAAAAAAAAAAAAAAAAAAAAAAAAAAAAAAAAAAAAAAAAAAAAAAAAAAAAAAAAAAAAAAAAAAAAAAAAAAAAAAAAAAAAAAAAAAAAAAAAAAAAAAAAAAAAAAAAAAAAAAAAAAAAAAAAAAAAAAAAAAAAAAAAAAAAAAAAAAAAAAAAAAAAAAAAAAAAAAAAAAAAAAAAAAAAAAAAAAAAAAAAAAAAAAAAAAAAAAAAAAAAAAAAAAAAAAAAAAAAAAAAAAAAAAAAAAAAAAAAAAAAAAAAAAAAAAAAAAAAAAAAAAAAAAAAAAAAAAAAAAAAAAAAAAAAAAAAAAAAAAAAAAAAAAAAAAAAAAAAAAAAAAAAAAAAAAAAAAAAAAAAAAAAAAAAAAAAAAAAAAAAAAAAAAAAAAAAAAAAAAAAAAAAAAAAAAAAAAAAAAAAAAAAAAAAAAAAAAAAAAAAAAAAAAAAAAAAAAAAAAAAAAAAAAAAAAAAAAAAAAAAAAAAAAAAAAAAAAAAAAAAAAAAAAAAAAAAAAAAAAAAAAAAAAAAAAAAAAAAAAAAAAAAAAAAAAAAAAAAAAAAAAAAAAAAAAAAAAAAAAAAAAAAAAAAAAAAAAAAAAAAAAAAAAAAAAAAAAAAAAAAAAAAAAAAAAAAAAAAAAAAAAAAAAAAAAAAAAAAAAAAAAAAAAAAAAAAAAAAAAAAAAAAAAAAAAAAAAAAAAAAAAAAAAAAAAAAAAAAAAAAAAAAAAAAAAAAAAAAAAAAAAAAAAAAAAAAAAAAAAAAAAAAAAAAAAAAAAAAAAAAAAAAAAAAAAAAAAAAAAAAAAAAAAAAAAAAAAAAAAAAAAAAAAAAAAAAAAAAAAAAAAAAAAAAAAAAAAAAAAAAAAAAAAAAAAAAAAAAAAAAAAAAAAAAAAAAAAAAAAAAAAAAAAAAAAAAAAAAAAAAAAAAAAAAAAAAAAAAAAAAAAAAAAAAAAAAAAAAAAAAAAAAAAAAAAAAAAAAAAAAAAAAAAAAAAAAAAAAAAAAAAAAAAAAAAAAAAAAAAAAAAAAAAAAAAAAAAAAAAAAAAAAAAAAAAAAAAAAAAAAAAAAAAAAAAAAAAAAAAAAAAAAAAAAAAAAAAAAAAAAAAAAAAAAAAAAAAAAAAAAAAAAAAAAAAAAAAAAAAAAAAAAAAAAAAAAAAAAAAAAAAAAAAAAAAAAAAAAAAAAAAAAAAAAAAAAAAAAAAAAAAAAAAAAAAAAAAAAAAAAAAAAAAAAAAAAAAAAAAAAAAAAAAAAAAAAAAAAAAAAAAAAAAAAAAAAAAAAAAAAAAAAAAAAAAAAAAAAAAAAAAAAAAAAAAAAAAAAAAAAAAAAAAAAAAAAAAAAAAAAAAAAAAAAAAAAAAAAAAAAAAAAAAAAAAAAAAAAAAAAAAAAAAAAAAAAAAAAAAAAAAAAAAAAAAAAAAAAAAAAAAAAAAAAAAAAAAAAAAAAAAAAAAAAAAAAAAAAAAAAAAAAAAAAAAAAAAAAAAAAAAAAAAAAAAAAAAAAAAAAAAAAAAAAAAAAAAAAAAAAAAAAAAAAAAAAAAAAAAAAAAAAAAAAAAAAAAAAAAAAAAAAAAAAAAAAAAAAAAAAAAAAAAAAAAAAAAAAAAAAAAAAAAAAAAAAAAAAAAAAAAAAAAAAAAAAAAAAAAAAAAAAAAAAAAAAAAAAAAAAAAAAAAAAAAAAAAAAAAAAAAAAAAAAAAAAAAAAAAAAAAAAAAAAAAAAAAAAAAAAAAAAAAAAAAAAAAAAAAAAAAAAAAAAAAAAAAAAAAAAAAAAAAAAAAAAAAAAAAAAAAAAAAAAAAAAAAAAAAAAAAAAAAAAAAAAAAAAAAAAAAAAAAAAAAAAAAAAAAAAAAAAAAAAAAAAAAAAAAAAAAAAAAAAAAAAAAAAAAAAAAAAAAAAAAAAAAAAAAAAAAAAAAAAAAAAAAAAAAAAAAAAAAAAAAAAAAAAAAAAAAAAAAAAAAAAAAAAAAAAAAAAAAAAAAAAAAAAAAAAAAAAAAAAAAAAAAAAAAAAAAAAAAAAAAAAAAAAAAAAAAAAAAAAAAAAAAAAAAAAAAAAAAAAAAAAAAAAAAAAAAAAAAAAAAAAAAAAAAAAAAAAAAAAAAAAAAAAAAAAAAAAAAAAAAAAAAAAAAAAAAAAAAAAAAAAAAAAAAAAAAAAAAAAAAAAAAAAAAAAAAAAAAAAAAAAAAAAAAAAAAAAAAAAAAAAAAAAAAAAAAAAAAAAAAAAAAAAAAAAAAAAAAAAAAAAAAAAAAAAAAAAAAAAAAAAAAAAAAAAAAAAAAAAAAAAAAAAAAAAAAAAAAAAAAAAAAAAAAAAAAAAAAAAAAAAAAAAAAAAAAAAAAAAAAAAAAAAAAAAAAAAAAAAAAAAAAAAAAAAAAAAAAAAAAAAAAAAAAAAAAAAAAAAAAAAAAAAAAAAAAAAAAAAAAAAAAAAAAAAAAAAAAAAAAAAAAAAAAAAAAAAAAAAAAAAAAAAAAAAAAAAAAAAAAAAAAAAAAAAAAAAAAAAAAAAAAAAAAAAAAAAAAAAAAAAAAAAAAAAAAAAAAAAAAAAAAAAAAAAAAAAAAAAAAAAAAAAAAAAAAAAAAAAAAAAAAAAAAAAAAAAAAAAAAAAAAAAAAAAAAAAAAAAAAAAAAAAAAAAAAAAAAAAAAAAAAAAAAAAAAAAAAAAAAAAAAAAAAAAAAAAAAAAAAAAAAAAAAAAAAAAAAAAAAAAAAAAAAAAAAAAAAAAAAAAAAAAAAAAAAAAAAAAAAAAAAAAAAAAAAAAAAAAAAAAAAAAAAAAAAAAAAAAAAAAAAAAAAAAAAAAAAAAAAAAAAAAAAAAAAAAAAAAAAAAAAAAAAAAAAAAAAAAAAAAAAAAAAAAAAAAAAAAAAAAAAAAAAAAAAAAAAAAAAAAAAAAAAAAAAAAAAAAAAAAAAAAAAAAAAAAAAAAAAAAAAAAAAAAAAAAAAAAAAAAAAAAAAAAAAAAAAAAAAAAAAAAAAAAAAAAAAAAAAAAAAAAAAAAAAAAAAAAAAAAAAAAAAAAAAAAAAAAAAAAAAAAAAAAAAAAAAAAAAAAAAAAAAAAAAAAAAAAAAAAAAAAAAAAAAAAAAAAAAAAAAAAAAAAAAAAAAAAAAAAAAAAAAAAAAAAAAAAAAAAAAAAAAAAAAAAAAAAAAAAAAAAAAAAAAAAAAAAAAAAAAAAAAAAAAAAAAAAAAAAAAAAAAAAAAAAAAAAAAAAAAAAAAAAAAAAAAAAAAAAAAAAAAAAAAAAAAAAAAAAAAAAAAAAAAAAAAAAAAAAAAAAAAAAAAAAAAAAAAAAAAAAAAAAAAAAAAAAAAAAAAAAAAAAAAAAAAAAAAAAAAAAAAAAAAAAAAAAAAAAAAAAAAAAAAAAAAAAAAAAAAAAAAAAAAAAAAAAAAAAAAAAAAAAAAAAAAAAAAAAAAAAAAAAAAAAAAAAAAAAAAAAAAAAAAAAAAAAAAAAAAAAAAAAAAAAAAAAAAAAAAAAAAAAAAAAAAAAAAAAAAAAAAAAAAAAAAAAAAAAAAAAAAAAAAAAAAAAAAAAAAAAAAAAAAAAAAAAAAAAAAAAAAAAAAAAAAAAAAAAAAAAAAAAAAAAAAAAAAAAAAAAAAAAAAAAAAAAAAAAAAAAAAAAAAAAAAAAAAAAAAAAAAAAAAAAAAAAAAAAAAAAAAAAAAAAAAAAAAAAAAAAAAAAAAAAAAAAAAAAAAAAAAAAAAAAAAAAAAAAAAAAAAAAAAAAAAAAAAAAAAAAAAAAAAAAAAAAAAAAAAAAAAAAAAAAAAAAAAAAAAAAAAAAAAAAAAAAAAAAAAAAAAAAAAAAAAAAAAAAAAAAAAAAAAAAAAAAAAAAAAAAAAAAAAAAAAAAAAAAAAAAAAAAAAAAAAAAAAAAAAAAAAAAAAAAAAAAAAAAAAAAAAAAAAAAAAAAAAAAAAAAAAAAAAAAAAAAAAAAAAAAAAAAAAAAAAAAAAAAAAAAAAAAAAAAAAAAAAAAAAAAAAAAAAAAAAAAAAAAAAAAAAAAAAAAAAAAAAAAAAAAAAAAAAAAAAAAAAAAAAAAAAAAAAAAAAAAAAAAAAAAAAAAAAAAAAAAAAAAAAAAAAAAAAAAAAAAAAAAAAAAAAAAAAAAAAAAAAAAAAAAAAAAAAAAAAAAAAAAAAAAAAAAAAAAAAAAAAAAAAAAAAAAAAAAAAAAAAAAAAAAAAAAAAAAAAAAAAAAAAAAAAAAAAAAAAAAAAAAAAAAAAAAAAAAAAAAAAAAAAAAAAAAAAAAAAAAAAAAAAAAAAAAAAAAAAAAAAAAAAAAAAAAAAAAAAAAAAAAAAAAAAAAAAAAAAAAAAAAAAAAAAAAAAAAAAAAAAAAAAAAAAAAAAAAAAAAAAAAAAAAAAAAAAAAAAAAAAAAAAAAAAAAAAAAAAAAAAAAAAAAAAAAAAAAAAAAAAAAAAAAAAAAAAAAAAAAAAAAAAAAAAAAAAAAAAAAAAAAAAAAAAAAAAAAAAAAAAAAAAAAAAAAAAAAAAAAAAAAAAAAAAAAAAAAAAAAAAAAAAAAAAAAAAAAAAAAAAAAAAAAAAAAAAAAAAAAAAAAAAAAAAAAAAAAAAAAAAAAAAAAAAAAAAAAAAAAAAAAAAAAAAAAAAAAAAAAAAAAAAAAAAAAAAAAAAAAAAAAAAAAAAAAAAAAAAAAAAAAAAAAAAAAAAAAAAAAAAAAAAAAAAAAAAAAAAAAAAAAAAAAAAAAAAAAAAAAAAAAAAAAAAAAAAAAAAAAAAAAAAAAAAAAAAAAAAAAAAAAAAAAAAAAAAAAAAAAAAAAAAAAAAAAAAAAAAAAAAAAAAAAAAAAAAAAAAAAAAAAAAAAAAAAAAAAAAAAAAAAAAAAAAAAAAAAAAAAAAAAAAAAAAAAAAAAAAAAAAAAAAAAAAAAAAAAAAAAAAAAAAAAA\",\"dtype\":\"float64\",\"order\":\"little\",\"shape\":[1902]},\"precision\":{\"__ndarray__\":\"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\",\"dtype\":\"float64\",\"order\":\"little\",\"shape\":[1902]},\"recall\":{\"__ndarray__\":\"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\",\"dtype\":\"float64\",\"order\":\"little\",\"shape\":[1902]},\"thr\":{\"__ndarray__\":\"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\",\"dtype\":\"float32\",\"order\":\"little\",\"shape\":[1901]}},\"selected\":{\"id\":\"2623\"},\"selection_policy\":{\"id\":\"2622\"}},\"id\":\"2609\",\"type\":\"ColumnDataSource\"},{\"attributes\":{},\"id\":\"2592\",\"type\":\"BasicTicker\"},{\"attributes\":{},\"id\":\"2579\",\"type\":\"DataRange1d\"},{\"attributes\":{\"line_alpha\":0.1,\"line_color\":\"coral\",\"x\":{\"field\":\"recall\"},\"y\":{\"field\":\"precision\"}},\"id\":\"2612\",\"type\":\"Line\"},{\"attributes\":{\"align\":\"center\",\"text\":\"AutoEncoder: Precision - Recall Curve\",\"text_font_size\":\"12pt\"},\"id\":\"2577\",\"type\":\"Title\"},{\"attributes\":{\"format\":\"0%\"},\"id\":\"2631\",\"type\":\"NumeralTickFormatter\"},{\"attributes\":{\"active_multi\":null,\"tools\":[{\"id\":\"2595\"},{\"id\":\"2596\"},{\"id\":\"2597\"},{\"id\":\"2598\"},{\"id\":\"2599\"},{\"id\":\"2600\"}]},\"id\":\"2602\",\"type\":\"Toolbar\"},{\"attributes\":{\"base\":{\"field\":\"recall\"},\"fill_alpha\":0.2,\"fill_color\":\"coral\",\"level\":\"underlay\",\"lower\":{\"field\":\"lower_band\"},\"source\":{\"id\":\"2609\"},\"upper\":{\"field\":\"precision\"}},\"id\":\"2627\",\"type\":\"Band\"}],\"root_ids\":[\"2576\"]},\"title\":\"Bokeh Application\",\"version\":\"2.3.2\"}};\n",
       "  var render_items = [{\"docid\":\"b356d813-88b1-461b-8965-7527fbbf0ef5\",\"root_ids\":[\"2576\"],\"roots\":{\"2576\":\"2c0b6ce3-4414-4305-8dd5-77b6285b9df3\"}}];\n",
       "  root.Bokeh.embed.embed_items_notebook(docs_json, render_items);\n",
       "\n",
       "  }\n",
       "  if (root.Bokeh !== undefined) {\n",
       "    embed_document(root);\n",
       "  } else {\n",
       "    var attempts = 0;\n",
       "    var timer = setInterval(function(root) {\n",
       "      if (root.Bokeh !== undefined) {\n",
       "        clearInterval(timer);\n",
       "        embed_document(root);\n",
       "      } else {\n",
       "        attempts++;\n",
       "        if (attempts > 100) {\n",
       "          clearInterval(timer);\n",
       "          console.log(\"Bokeh: ERROR: Unable to run BokehJS code because BokehJS library is missing\");\n",
       "        }\n",
       "      }\n",
       "    }, 10, root)\n",
       "  }\n",
       "})(window);"
      ],
      "application/vnd.bokehjs_exec.v0+json": ""
     },
     "metadata": {
      "application/vnd.bokehjs_exec.v0+json": {
       "id": "2576"
      }
     },
     "output_type": "display_data"
    }
   ],
   "source": [
    "plot_pr_curve(\n",
    "    precision_recall_curve(test_labels, recon_errors),\n",
    "    average_precision_score(test_labels, recon_errors),\n",
    "    model_name=MODEL_NAME,\n",
    "    file_name=os.path.join(IMAGE_PATH, \"pr_curve.svg\"),\n",
    ")"
   ]
  }
 ],
 "metadata": {
  "kernelspec": {
   "display_name": "Python 3",
   "language": "python",
   "name": "python3"
  },
  "language_info": {
   "codemirror_mode": {
    "name": "ipython",
    "version": 3
   },
   "file_extension": ".py",
   "mimetype": "text/x-python",
   "name": "python",
   "nbconvert_exporter": "python",
   "pygments_lexer": "ipython3",
   "version": "3.7.10"
  }
 },
 "nbformat": 4,
 "nbformat_minor": 5
}
